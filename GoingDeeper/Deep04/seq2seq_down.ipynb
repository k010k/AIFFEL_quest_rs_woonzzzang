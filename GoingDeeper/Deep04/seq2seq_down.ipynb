{
 "cells": [
  {
   "cell_type": "code",
   "execution_count": 1,
   "id": "02a11610",
   "metadata": {},
   "outputs": [],
   "source": [
    "import matplotlib as mpl\n",
    "import matplotlib.pyplot as plt"
   ]
  },
  {
   "cell_type": "code",
   "execution_count": 2,
   "id": "0329ebaa",
   "metadata": {},
   "outputs": [],
   "source": [
    "import tensorflow as tf\n",
    "import numpy as np\n",
    "\n",
    "from sklearn.model_selection import train_test_split\n",
    "\n",
    "import matplotlib.ticker as ticker\n",
    "import matplotlib.pyplot as plt\n",
    "\n",
    "import time\n",
    "import re\n",
    "import os\n",
    "import io"
   ]
  },
  {
   "cell_type": "code",
   "execution_count": 3,
   "id": "447435ca",
   "metadata": {},
   "outputs": [
    {
     "name": "stdout",
     "output_type": "stream",
     "text": [
      "완료!\n"
     ]
    }
   ],
   "source": [
    "%config InlineBackend.figure_format = 'retina'\n",
    " \n",
    "import matplotlib.font_manager as fm\n",
    "fontpath = '/usr/share/fonts/truetype/nanum/NanumBarunGothic.ttf'\n",
    "font = fm.FontProperties(fname=fontpath, size=9)\n",
    "plt.rc('font', family='NanumBarunGothic') \n",
    "mpl.font_manager.findfont(font)\n",
    "\n",
    "print(\"완료!\")"
   ]
  },
  {
   "cell_type": "markdown",
   "id": "e48e3583",
   "metadata": {},
   "source": [
    "## ↓↓↓↓↓↓↓ 전처리 수정 ↓↓↓↓↓↓↓↓↓\n",
    "1. 괄호 및 괄호 안 텍스트 제거 (re.sub(r\"\\(.*?\\)\", \"\", sentence))\n",
    "2. 특수 문자 제거 (한글, 영어, 숫자, 문장 부호만 남김)\n",
    "3. 한문 → 한글 음 변환 (hanja.translate())\n",
    "4. 타겟 데이터(영어)에 \\<start\\>와 \\<end\\> 추가"
   ]
  },
  {
   "cell_type": "code",
   "execution_count": 27,
   "id": "1bdf38cc",
   "metadata": {},
   "outputs": [
    {
     "name": "stdout",
     "output_type": "stream",
     "text": [
      "['그녀의 이 같은 부인은 박 전 대표의 측근이 이 전 시장의 도덕성에 의문을 제기하는 주장으로 서로 갈등이 심화하는 가운데 나왔다.\\n', '스티비 닉스는 기타 하나로 십대 소년들의 우상이 됐었다.\\n', '한 미국 상원의원이 북한의 비핵화에 대한 주요 보상 중 하나인, 미국의 테러지원국 목록에서 북한을 삭제하는 것에 대해 조건을 설정하자는 결의안을 제시했다.\\n']\n",
      "[\"Her denial comes amid an intensifying war of words triggered by a Park aide's allegations that question Lee's morality.\\n\", 'True, looks have always been a part of the music business:\\n', 'A senior U.S. senator introduced a resolution setting conditions for removing North Korea from the U.S. list of terrorism-sponsoring nations, one of the key incentives offered for Pyongyang´s denuclearization.\\n']\n"
     ]
    }
   ],
   "source": [
    "enc_train_data = 'korean-english-park.train.ko'\n",
    "dec_train_data = 'korean-english-park.train.en'\n",
    "enc_val_data = 'korean-english-park.dev.ko'\n",
    "dec_val_data = 'korean-english-park.dev.en'\n",
    "enc_test_data = 'korean-english-park.test.ko'\n",
    "dec_test_data = 'korean-english-park.test.en'\n",
    "ko_sample_train_data = 'korean-english-sampled.ko'\n",
    "en_sample_train_data = 'korean-english-sampled.en'\n",
    "\n",
    "# 데이터 읽기\n",
    "def load_data(file_path):\n",
    "    with open(file_path, 'r', encoding='utf-8') as file:\n",
    "        data = file.readlines()\n",
    "    return data\n",
    "\n",
    "# 파일 읽기\n",
    "enc_train_data = load_data(enc_train_data)\n",
    "dec_train_data = load_data(dec_train_data)\n",
    "enc_val_data = load_data(enc_val_data)\n",
    "dec_val_data = load_data(dec_val_data)\n",
    "enc_test_data = load_data(enc_test_data)\n",
    "dec_test_data = load_data(dec_test_data)\n",
    "ko_sample_train_data = load_data(ko_sample_train_data)\n",
    "en_sample_train_data = load_data(en_sample_train_data)\n",
    "\n",
    "\n",
    "# 데이터 미리 보기\n",
    "print(ko_sample_train_data[:3])\n",
    "print(en_sample_train_data[:3])# 첫 3개 항목 확인"
   ]
  },
  {
   "cell_type": "code",
   "execution_count": 6,
   "id": "e2e8f256",
   "metadata": {},
   "outputs": [],
   "source": [
    "# enc_data = enc_train_data + enc_val_data\n",
    "# dec_data = dec_train_data + dec_val_data"
   ]
  },
  {
   "cell_type": "code",
   "execution_count": 7,
   "id": "17b24d4d",
   "metadata": {},
   "outputs": [
    {
     "data": {
      "text/plain": [
       "94123"
      ]
     },
     "execution_count": 7,
     "metadata": {},
     "output_type": "execute_result"
    }
   ],
   "source": [
    "# len(enc_train_data)"
   ]
  },
  {
   "cell_type": "code",
   "execution_count": 8,
   "id": "a10f2478",
   "metadata": {},
   "outputs": [
    {
     "data": {
      "text/plain": [
       "1000"
      ]
     },
     "execution_count": 8,
     "metadata": {},
     "output_type": "execute_result"
    }
   ],
   "source": [
    "# len(enc_val_data)"
   ]
  },
  {
   "cell_type": "code",
   "execution_count": 13,
   "id": "9b3dbfca",
   "metadata": {},
   "outputs": [],
   "source": [
    "# 특수기호 확인하는 함수\n",
    "def find_special_char(data):\n",
    "    # 한글과 숫자를 제외한 특수문자만 찾는 정규표현식\n",
    "    pattern = r'[^가-힣0-9a-zA-Z\\s]'\n",
    "    \n",
    "    special_chars = []\n",
    "    \n",
    "    # 리스트의 각 항목에 대해 특수기호를 찾음\n",
    "    for text in data:\n",
    "        if isinstance(text, str):  # 문자열인 경우에만 처리\n",
    "            # 정규표현식을 통해 특수문자 추출\n",
    "            special_chars.extend(re.findall(pattern, text))\n",
    "    \n",
    "    return special_chars"
   ]
  },
  {
   "cell_type": "code",
   "execution_count": 14,
   "id": "7cf1c654",
   "metadata": {},
   "outputs": [
    {
     "data": {
      "text/plain": [
       "{'!',\n",
       " '\"',\n",
       " '#',\n",
       " '$',\n",
       " '%',\n",
       " '&',\n",
       " \"'\",\n",
       " '(',\n",
       " ')',\n",
       " '*',\n",
       " '+',\n",
       " ',',\n",
       " '-',\n",
       " '.',\n",
       " '/',\n",
       " ':',\n",
       " ';',\n",
       " '=',\n",
       " '>',\n",
       " '?',\n",
       " '@',\n",
       " '[',\n",
       " ']',\n",
       " '^',\n",
       " '_',\n",
       " '`',\n",
       " '{',\n",
       " '}',\n",
       " '~',\n",
       " '±',\n",
       " '´',\n",
       " '·',\n",
       " '×',\n",
       " 'é',\n",
       " '˝',\n",
       " '–',\n",
       " '‘',\n",
       " '’',\n",
       " '“',\n",
       " '”',\n",
       " '•',\n",
       " '…',\n",
       " 'ℓ',\n",
       " '▲',\n",
       " '▶',\n",
       " 'い',\n",
       " 'き',\n",
       " 'く',\n",
       " 'さ',\n",
       " 'ざ',\n",
       " 'し',\n",
       " 'す',\n",
       " 'そ',\n",
       " 'ば',\n",
       " 'ぶ',\n",
       " 'ま',\n",
       " 'や',\n",
       " 'よ',\n",
       " 'ら',\n",
       " 'ん',\n",
       " '㈜',\n",
       " '㎞',\n",
       " '㎠',\n",
       " '㎡',\n",
       " '㎢',\n",
       " '㎾',\n",
       " '万',\n",
       " '上',\n",
       " '不',\n",
       " '中',\n",
       " '主',\n",
       " '九',\n",
       " '亞',\n",
       " '交',\n",
       " '促',\n",
       " '假',\n",
       " '僞',\n",
       " '兆',\n",
       " '光',\n",
       " '克',\n",
       " '公',\n",
       " '前',\n",
       " '力',\n",
       " '勝',\n",
       " '區',\n",
       " '占',\n",
       " '卿',\n",
       " '反',\n",
       " '古',\n",
       " '吉',\n",
       " '同',\n",
       " '名',\n",
       " '吾',\n",
       " '器',\n",
       " '四',\n",
       " '國',\n",
       " '園',\n",
       " '地',\n",
       " '型',\n",
       " '城',\n",
       " '基',\n",
       " '報',\n",
       " '場',\n",
       " '多',\n",
       " '大',\n",
       " '夫',\n",
       " '奔',\n",
       " '子',\n",
       " '孩',\n",
       " '宇',\n",
       " '家',\n",
       " '富',\n",
       " '察',\n",
       " '寶',\n",
       " '寺',\n",
       " '對',\n",
       " '局',\n",
       " '山',\n",
       " '川',\n",
       " '州',\n",
       " '市',\n",
       " '席',\n",
       " '平',\n",
       " '幹',\n",
       " '庫',\n",
       " '廣',\n",
       " '弗',\n",
       " '强',\n",
       " '影',\n",
       " '後',\n",
       " '心',\n",
       " '性',\n",
       " '戰',\n",
       " '手',\n",
       " '掌',\n",
       " '播',\n",
       " '故',\n",
       " '敎',\n",
       " '敵',\n",
       " '新',\n",
       " '方',\n",
       " '旗',\n",
       " '日',\n",
       " '早',\n",
       " '星',\n",
       " '時',\n",
       " '書',\n",
       " '會',\n",
       " '朱',\n",
       " '李',\n",
       " '機',\n",
       " '權',\n",
       " '次',\n",
       " '死',\n",
       " '母',\n",
       " '毛',\n",
       " '泰',\n",
       " '流',\n",
       " '浅',\n",
       " '海',\n",
       " '淺',\n",
       " '港',\n",
       " '湖',\n",
       " '溫',\n",
       " '滑',\n",
       " '澤',\n",
       " '濠',\n",
       " '濤',\n",
       " '灣',\n",
       " '無',\n",
       " '然',\n",
       " '煙',\n",
       " '燭',\n",
       " '爾',\n",
       " '獨',\n",
       " '現',\n",
       " '理',\n",
       " '生',\n",
       " '産',\n",
       " '田',\n",
       " '男',\n",
       " '異',\n",
       " '疆',\n",
       " '發',\n",
       " '省',\n",
       " '社',\n",
       " '神',\n",
       " '私',\n",
       " '種',\n",
       " '突',\n",
       " '節',\n",
       " '築',\n",
       " '精',\n",
       " '紙',\n",
       " '維',\n",
       " '總',\n",
       " '美',\n",
       " '習',\n",
       " '老',\n",
       " '聖',\n",
       " '肢',\n",
       " '胡',\n",
       " '能',\n",
       " '舊',\n",
       " '船',\n",
       " '英',\n",
       " '草',\n",
       " '藥',\n",
       " '藻',\n",
       " '要',\n",
       " '視',\n",
       " '親',\n",
       " '言',\n",
       " '誌',\n",
       " '語',\n",
       " '買',\n",
       " '赤',\n",
       " '超',\n",
       " '路',\n",
       " '軍',\n",
       " '輔',\n",
       " '近',\n",
       " '送',\n",
       " '進',\n",
       " '道',\n",
       " '邦',\n",
       " '郞',\n",
       " '都',\n",
       " '配',\n",
       " '野',\n",
       " '錦',\n",
       " '鎔',\n",
       " '長',\n",
       " '陳',\n",
       " '難',\n",
       " '電',\n",
       " '霧',\n",
       " '題',\n",
       " '類',\n",
       " '食',\n",
       " '香',\n",
       " '馬',\n",
       " '鳩',\n",
       " '麻',\n",
       " '鼓',\n",
       " '金',\n",
       " '良',\n",
       " '女',\n",
       " '年',\n",
       " '戀',\n",
       " '料',\n",
       " '龍',\n",
       " '柳',\n",
       " '！',\n",
       " '（',\n",
       " '）',\n",
       " '－',\n",
       " '１',\n",
       " '２',\n",
       " '３',\n",
       " '５',\n",
       " '８',\n",
       " '？'}"
      ]
     },
     "execution_count": 14,
     "metadata": {},
     "output_type": "execute_result"
    }
   ],
   "source": [
    "set(find_special_char(ko_sample_train_data))"
   ]
  },
  {
   "cell_type": "code",
   "execution_count": 15,
   "id": "9d3095ba",
   "metadata": {
    "scrolled": true
   },
   "outputs": [
    {
     "data": {
      "text/plain": [
       "{'!',\n",
       " '\"',\n",
       " '#',\n",
       " '$',\n",
       " '%',\n",
       " '&',\n",
       " \"'\",\n",
       " '(',\n",
       " ')',\n",
       " '*',\n",
       " '+',\n",
       " ',',\n",
       " '-',\n",
       " '.',\n",
       " '/',\n",
       " ':',\n",
       " ';',\n",
       " '<',\n",
       " '=',\n",
       " '?',\n",
       " '@',\n",
       " '[',\n",
       " ']',\n",
       " '^',\n",
       " '_',\n",
       " '`',\n",
       " '~',\n",
       " '¡',\n",
       " '¢',\n",
       " '£',\n",
       " '¥',\n",
       " '¦',\n",
       " '¨',\n",
       " '®',\n",
       " '¯',\n",
       " '°',\n",
       " '±',\n",
       " '´',\n",
       " 'µ',\n",
       " '·',\n",
       " '¹',\n",
       " 'º',\n",
       " '»',\n",
       " '½',\n",
       " '¾',\n",
       " '¿',\n",
       " 'À',\n",
       " 'Á',\n",
       " 'Â',\n",
       " 'Ç',\n",
       " 'Ê',\n",
       " 'Ï',\n",
       " 'Ñ',\n",
       " 'Ù',\n",
       " 'Û',\n",
       " 'â',\n",
       " 'æ',\n",
       " 'ç',\n",
       " 'ö',\n",
       " 'ø',\n",
       " 'û',\n",
       " '˝',\n",
       " '–',\n",
       " '―',\n",
       " '‘',\n",
       " '’',\n",
       " '“',\n",
       " '”',\n",
       " '…'}"
      ]
     },
     "execution_count": 15,
     "metadata": {},
     "output_type": "execute_result"
    }
   ],
   "source": [
    "set(find_special_char(en_sample_train_data))"
   ]
  },
  {
   "cell_type": "code",
   "execution_count": 17,
   "id": "e280b476",
   "metadata": {
    "scrolled": true
   },
   "outputs": [
    {
     "name": "stdout",
     "output_type": "stream",
     "text": [
      "Collecting hanja\n",
      "  Downloading hanja-0.15.1-py3-none-any.whl (124 kB)\n",
      "     |████████████████████████████████| 124 kB 4.1 MB/s            \n",
      "\u001b[?25hCollecting pytest\n",
      "  Downloading pytest-8.3.5-py3-none-any.whl (343 kB)\n",
      "     |████████████████████████████████| 343 kB 23.2 MB/s            \n",
      "\u001b[?25hCollecting pyyaml==6.0.1\n",
      "  Downloading PyYAML-6.0.1-cp39-cp39-manylinux_2_17_x86_64.manylinux2014_x86_64.whl (738 kB)\n",
      "     |████████████████████████████████| 738 kB 44.2 MB/s            \n",
      "\u001b[?25hCollecting pytest-cov\n",
      "  Downloading pytest_cov-6.0.0-py3-none-any.whl (22 kB)\n",
      "Collecting coveralls\n",
      "  Downloading coveralls-4.0.1-py3-none-any.whl (13 kB)\n",
      "Collecting coverage[toml]!=6.0.*,!=6.1,!=6.1.1,<8.0,>=5.0\n",
      "  Downloading coverage-7.6.12-cp39-cp39-manylinux_2_5_x86_64.manylinux1_x86_64.manylinux_2_17_x86_64.manylinux2014_x86_64.whl (236 kB)\n",
      "     |████████████████████████████████| 236 kB 105.4 MB/s            \n",
      "\u001b[?25hCollecting docopt<0.7.0,>=0.6.1\n",
      "  Downloading docopt-0.6.2.tar.gz (25 kB)\n",
      "  Preparing metadata (setup.py) ... \u001b[?25ldone\n",
      "\u001b[?25hRequirement already satisfied: requests<3.0.0,>=1.0.0 in /opt/conda/lib/python3.9/site-packages (from coveralls->hanja) (2.26.0)\n",
      "Collecting pluggy<2,>=1.5\n",
      "  Downloading pluggy-1.5.0-py3-none-any.whl (20 kB)\n",
      "Requirement already satisfied: tomli>=1 in /opt/conda/lib/python3.9/site-packages (from pytest->hanja) (1.2.2)\n",
      "Requirement already satisfied: packaging in /opt/conda/lib/python3.9/site-packages (from pytest->hanja) (21.3)\n",
      "Collecting exceptiongroup>=1.0.0rc8\n",
      "  Downloading exceptiongroup-1.2.2-py3-none-any.whl (16 kB)\n",
      "Collecting iniconfig\n",
      "  Downloading iniconfig-2.0.0-py3-none-any.whl (5.9 kB)\n",
      "Requirement already satisfied: charset-normalizer~=2.0.0 in /opt/conda/lib/python3.9/site-packages (from requests<3.0.0,>=1.0.0->coveralls->hanja) (2.0.8)\n",
      "Requirement already satisfied: urllib3<1.27,>=1.21.1 in /opt/conda/lib/python3.9/site-packages (from requests<3.0.0,>=1.0.0->coveralls->hanja) (1.26.7)\n",
      "Requirement already satisfied: certifi>=2017.4.17 in /opt/conda/lib/python3.9/site-packages (from requests<3.0.0,>=1.0.0->coveralls->hanja) (2021.10.8)\n",
      "Requirement already satisfied: idna<4,>=2.5 in /opt/conda/lib/python3.9/site-packages (from requests<3.0.0,>=1.0.0->coveralls->hanja) (2.10)\n",
      "Requirement already satisfied: pyparsing!=3.0.5,>=2.0.2 in /opt/conda/lib/python3.9/site-packages (from packaging->pytest->hanja) (3.0.6)\n",
      "Building wheels for collected packages: docopt\n",
      "  Building wheel for docopt (setup.py) ... \u001b[?25ldone\n",
      "\u001b[?25h  Created wheel for docopt: filename=docopt-0.6.2-py2.py3-none-any.whl size=13724 sha256=9d201cb119657b54c7bf41e909f642e973d468e65b28f03224e14f6666ce3943\n",
      "  Stored in directory: /aiffel/.cache/pip/wheels/70/4a/46/1309fc853b8d395e60bafaf1b6df7845bdd82c95fd59dd8d2b\n",
      "Successfully built docopt\n",
      "Installing collected packages: pluggy, iniconfig, exceptiongroup, coverage, pytest, docopt, pyyaml, pytest-cov, coveralls, hanja\n",
      "  Attempting uninstall: pyyaml\n",
      "    Found existing installation: PyYAML 6.0\n",
      "    Uninstalling PyYAML-6.0:\n",
      "      Successfully uninstalled PyYAML-6.0\n",
      "Successfully installed coverage-7.6.12 coveralls-4.0.1 docopt-0.6.2 exceptiongroup-1.2.2 hanja-0.15.1 iniconfig-2.0.0 pluggy-1.5.0 pytest-8.3.5 pytest-cov-6.0.0 pyyaml-6.0.1\n",
      "\u001b[33mWARNING: Running pip as the 'root' user can result in broken permissions and conflicting behaviour with the system package manager. It is recommended to use a virtual environment instead: https://pip.pypa.io/warnings/venv\u001b[0m\n"
     ]
    }
   ],
   "source": [
    "!pip install hanja"
   ]
  },
  {
   "cell_type": "code",
   "execution_count": 28,
   "id": "119e4aca",
   "metadata": {},
   "outputs": [],
   "source": [
    "import re\n",
    "import hanja\n",
    "\n",
    "def preprocess_sentence(sentence, s_token=False, e_token=False, is_korean=False):\n",
    "    \n",
    "    sentence = sentence.strip()\n",
    "    \n",
    "    #괄호 및 괄호 안 텍스트 제거\n",
    "    sentence = re.sub(r\"\\(.*?\\)\", \"\", sentence)\n",
    "\n",
    "    # 한문 → 한글 발음 변환 (한글 데이터에만 적용)\n",
    "    if is_korean:\n",
    "        sentence = hanja.translate(sentence, 'substitution')\n",
    "\n",
    "    # 특수 문자 제거 (한글, 영어, 숫자, 주요 문장부호만 유지)\n",
    "    sentence = re.sub(r\"([?.!,])\", r\" \\1 \", sentence)  # 문장부호 앞뒤 공백 추가\n",
    "    sentence = re.sub(r'[\" \"]+', \" \", sentence)  # 연속된 공백 제거\n",
    "    sentence = re.sub(r\"[^가-힣a-zA-Z0-9?.!,]+\", \" \", sentence)  # 허용된 문자 이외 제거\n",
    "    \n",
    "    sentence = sentence.strip()\n",
    "\n",
    "    # 영어 문장에 <start> <end> 토큰 추가\n",
    "    if s_token:\n",
    "        sentence = '<start> ' + sentence\n",
    "    if e_token:\n",
    "        sentence += ' <end>'\n",
    "    \n",
    "    return sentence"
   ]
  },
  {
   "cell_type": "code",
   "execution_count": 29,
   "id": "fd444120",
   "metadata": {
    "scrolled": true
   },
   "outputs": [
    {
     "name": "stdout",
     "output_type": "stream",
     "text": [
      "한국어: 교과서 왜곡을 통해 동해에 있는 바위섬 독도에 대한 소유권을 주장하려는 최근의 일본의 행위에 대해 한국 정부가 강하게 항의했다 .\n",
      "영어: <start> South Korea Thursday strongly protested Japan s recent efforts to step up its claim to Dokdo , a group of rocky islets in the East Sea , through an explicit distortion of textbooks . <end>\n"
     ]
    }
   ],
   "source": [
    "enc_corpus = []\n",
    "dec_corpus = []\n",
    "\n",
    "num_examples = 30000\n",
    "\n",
    "for kor in ko_sample_train_data[:num_examples]:\n",
    "    enc_corpus.append(preprocess_sentence(kor, is_korean=True))\n",
    "\n",
    "for eng in en_sample_train_data[:num_examples]:\n",
    "    dec_corpus.append(preprocess_sentence(eng, s_token=True, e_token=True))\n",
    "\n",
    "print(\"한국어:\", enc_corpus[100])\n",
    "print(\"영어:\", dec_corpus[100])"
   ]
  },
  {
   "cell_type": "code",
   "execution_count": 34,
   "id": "d47cc176",
   "metadata": {},
   "outputs": [],
   "source": [
    "import random\n",
    "\n",
    "def fix_random_seeds(seed=42):\n",
    "    # Python random 시드 고정\n",
    "    random.seed(seed)\n",
    "    # NumPy random 시드 고정\n",
    "    np.random.seed(seed)\n",
    "    # TensorFlow random 시드 고정\n",
    "    tf.random.set_seed(seed)\n",
    "\n",
    "# 고정할 시드값 설정\n",
    "fix_random_seeds(42)"
   ]
  },
  {
   "cell_type": "code",
   "execution_count": 31,
   "id": "ef2337cf",
   "metadata": {},
   "outputs": [],
   "source": [
    "import nltk\n",
    "import MeCab\n",
    "import tensorflow as tf"
   ]
  },
  {
   "cell_type": "code",
   "execution_count": 32,
   "id": "66f36ece",
   "metadata": {},
   "outputs": [
    {
     "name": "stderr",
     "output_type": "stream",
     "text": [
      "[nltk_data] Downloading package punkt to /aiffel/nltk_data...\n",
      "[nltk_data]   Unzipping tokenizers/punkt.zip.\n"
     ]
    }
   ],
   "source": [
    "nltk.download('punkt')\n",
    "mecab = MeCab.Tagger()"
   ]
  },
  {
   "cell_type": "code",
   "execution_count": 35,
   "id": "bf5f4f34",
   "metadata": {},
   "outputs": [],
   "source": [
    "def tokenize(corpus, lang='ko'):\n",
    "    tokenizer = tf.keras.preprocessing.text.Tokenizer(filters='')\n",
    "\n",
    "    tokenized_corpus = []\n",
    "    \n",
    "    for sentence in corpus:\n",
    "        if lang == 'ko':  # 한국어 텍스트일 경우 MeCab 사용\n",
    "            parsed = mecab.parse(sentence)\n",
    "            tokens = [line.split('\\t')[0] for line in parsed.splitlines() if line]\n",
    "        elif lang == 'en':  # 영어 텍스트일 경우 NLTK 사용\n",
    "            tokens = nltk.word_tokenize(sentence)\n",
    "        else:\n",
    "            raise ValueError(\"Language should be either 'ko' or 'en'.\")\n",
    "\n",
    "        # 리스트에 토큰 추가\n",
    "        tokenized_corpus.append(' '.join(tokens))\n",
    "    \n",
    "    tokenizer.fit_on_texts(tokenized_corpus)  # 토큰을 기반으로 Tokenizer 학습\n",
    "    \n",
    "    # 특수 토큰 추가\n",
    "    tokenizer.word_index['<start>'] = len(tokenizer.word_index) + 1\n",
    "    tokenizer.word_index['<end>'] = len(tokenizer.word_index) + 2\n",
    "    \n",
    "    tensor = tokenizer.texts_to_sequences(tokenized_corpus)  # 텍스트를 시퀀스로 변환\n",
    "    tensor = tf.keras.preprocessing.sequence.pad_sequences(tensor, padding='post')  # 시퀀스 길이를 동일하게 맞추기\n",
    "\n",
    "    return tensor, tokenizer\n"
   ]
  },
  {
   "cell_type": "code",
   "execution_count": 44,
   "id": "6fb6c351",
   "metadata": {},
   "outputs": [
    {
     "name": "stdout",
     "output_type": "stream",
     "text": [
      "tokenized_data.npz\n",
      "enc_tokenizer.json, dec_tokenizer.json\n"
     ]
    }
   ],
   "source": [
    "import numpy as np\n",
    "import json\n",
    "\n",
    "enc_corpus, enc_tokenizer = tokenize(enc_corpus, lang='ko')\n",
    "dec_corpus, dec_tokenizer = tokenize(dec_corpus, lang='en')\n",
    "\n",
    "# 토큰화된 데이터 저장 (npz 형식)\n",
    "np.savez_compressed(\"tokenized_data.npz\", enc_corpus=enc_corpus, dec_corpus=dec_corpus)\n",
    "print(\"tokenized_data.npz\")\n",
    "\n",
    "# 단어 사전 저장 (json 형식)\n",
    "with open(\"enc_tokenizer.json\", \"w\", encoding=\"utf-8\") as f:\n",
    "    json.dump(enc_tokenizer.word_index, f, ensure_ascii=False, indent=4)\n",
    "\n",
    "with open(\"dec_tokenizer.json\", \"w\", encoding=\"utf-8\") as f:\n",
    "    json.dump(dec_tokenizer.word_index, f, ensure_ascii=False, indent=4)\n",
    "\n",
    "print(\"enc_tokenizer.json, dec_tokenizer.json\")\n"
   ]
  },
  {
   "cell_type": "markdown",
   "id": "2663d97d",
   "metadata": {},
   "source": [
    "----"
   ]
  },
  {
   "cell_type": "code",
   "execution_count": 55,
   "id": "fb19c75d",
   "metadata": {},
   "outputs": [],
   "source": [
    "enc_train, enc_val, dec_train, dec_val = train_test_split(enc_corpus, dec_corpus, test_size=0.2)"
   ]
  },
  {
   "cell_type": "code",
   "execution_count": 45,
   "id": "b4122f09",
   "metadata": {},
   "outputs": [],
   "source": [
    "class BahdanauAttention(tf.keras.layers.Layer):\n",
    "    def __init__(self, units):\n",
    "        super(BahdanauAttention, self).__init__()\n",
    "        self.w_dec = tf.keras.layers.Dense(units)\n",
    "        self.w_enc = tf.keras.layers.Dense(units)\n",
    "        self.w_com = tf.keras.layers.Dense(1)\n",
    "    \n",
    "    def call(self, h_enc, h_dec):\n",
    "        # h_enc shape: [batch x length x units]\n",
    "        # h_dec shape: [batch x units]\n",
    "\n",
    "        h_enc = self.w_enc(h_enc)\n",
    "        h_dec = tf.expand_dims(h_dec, 1)\n",
    "        h_dec = self.w_dec(h_dec)\n",
    "\n",
    "        score = self.w_com(tf.nn.tanh(h_dec + h_enc))\n",
    "        \n",
    "        attn = tf.nn.softmax(score, axis=1)\n",
    "\n",
    "        context_vec = attn * h_enc\n",
    "        context_vec = tf.reduce_sum(context_vec, axis=1)\n",
    "\n",
    "        return context_vec, attn"
   ]
  },
  {
   "cell_type": "code",
   "execution_count": 46,
   "id": "5e35a08d",
   "metadata": {},
   "outputs": [],
   "source": [
    "class Encoder(tf.keras.Model):\n",
    "    def __init__(self, vocab_size, embedding_dim, enc_units):\n",
    "        super(Encoder, self).__init__()\n",
    "        \n",
    "        self.enc_units = enc_units\n",
    "        self.embedding = tf.keras.layers.Embedding(vocab_size, embedding_dim)\n",
    "        self.gru = tf.keras.layers.GRU(enc_units,\n",
    "                                       return_sequences=True)\n",
    "        \n",
    "    def call(self, x):\n",
    "        out = self.embedding(x)\n",
    "        out = self.gru(out)\n",
    "        \n",
    "        return out"
   ]
  },
  {
   "cell_type": "code",
   "execution_count": 47,
   "id": "4847c174",
   "metadata": {},
   "outputs": [],
   "source": [
    "class Decoder(tf.keras.Model):\n",
    "    def __init__(self, vocab_size, embedding_dim, dec_units):\n",
    "        super(Decoder, self).__init__()\n",
    "        self.dec_units = dec_units\n",
    "        self.embedding = tf.keras.layers.Embedding(vocab_size, embedding_dim)\n",
    "        self.gru = tf.keras.layers.GRU(dec_units,\n",
    "                                       return_sequences=True,\n",
    "                                       return_state=True)\n",
    "        self.fc = tf.keras.layers.Dense(vocab_size)\n",
    "\n",
    "        self.attention = BahdanauAttention(self.dec_units)\n",
    "\n",
    "    def call(self, x, h_dec, enc_out):\n",
    "        context_vec, attn = self.attention(enc_out, h_dec)\n",
    "\n",
    "        out = self.embedding(x)\n",
    "        out = tf.concat([tf.expand_dims(context_vec, 1), out], axis=-1)\n",
    "        \n",
    "        out, h_dec = self.gru(out)\n",
    "        out = tf.reshape(out, (-1, out.shape[2]))\n",
    "        out = self.fc(out)\n",
    "\n",
    "        return out, h_dec, attn"
   ]
  },
  {
   "cell_type": "code",
   "execution_count": 48,
   "id": "e6f2db7e",
   "metadata": {},
   "outputs": [
    {
     "name": "stdout",
     "output_type": "stream",
     "text": [
      "Encoder Output: (32, 30, 512)\n",
      "Decoder Output: (32, 30368)\n",
      "Decoder Hidden State: (32, 512)\n",
      "Attention: (32, 30, 1)\n"
     ]
    }
   ],
   "source": [
    "BATCH_SIZE     = 32\n",
    "SRC_VOCAB_SIZE = len(enc_tokenizer.index_word) + 1\n",
    "TGT_VOCAB_SIZE = len(dec_tokenizer.index_word) + 1\n",
    "\n",
    "units         = 512\n",
    "embedding_dim = 256\n",
    "\n",
    "encoder = Encoder(SRC_VOCAB_SIZE, embedding_dim, units)\n",
    "decoder = Decoder(TGT_VOCAB_SIZE, embedding_dim, units)\n",
    "\n",
    "# sample input\n",
    "sequence_len = 30\n",
    "\n",
    "sample_enc = tf.random.uniform((BATCH_SIZE, sequence_len))\n",
    "sample_output = encoder(sample_enc)\n",
    "\n",
    "print ('Encoder Output:', sample_output.shape)\n",
    "\n",
    "sample_state = tf.random.uniform((BATCH_SIZE, units))\n",
    "\n",
    "sample_logits, h_dec, attn = decoder(tf.random.uniform((BATCH_SIZE, 1)),\n",
    "                                     sample_state, sample_output)\n",
    "\n",
    "print ('Decoder Output:', sample_logits.shape)\n",
    "print ('Decoder Hidden State:', h_dec.shape)\n",
    "print ('Attention:', attn.shape)"
   ]
  },
  {
   "cell_type": "code",
   "execution_count": 49,
   "id": "62f1d3f1",
   "metadata": {},
   "outputs": [],
   "source": [
    "optimizer = tf.keras.optimizers.Adam()\n",
    "loss_object = tf.keras.losses.SparseCategoricalCrossentropy(\n",
    "    from_logits=True, reduction='none')\n",
    "\n",
    "def loss_function(real, pred):\n",
    "    mask = tf.math.logical_not(tf.math.equal(real, 0))\n",
    "    loss = loss_object(real, pred)\n",
    "    \n",
    "    mask = tf.cast(mask, dtype=loss.dtype)\n",
    "    loss *= mask\n",
    "    \n",
    "    return tf.reduce_mean(loss)"
   ]
  },
  {
   "cell_type": "code",
   "execution_count": 50,
   "id": "dbe63a24",
   "metadata": {},
   "outputs": [],
   "source": [
    "# 체크포인트 설정 (베스트 모델 저장)\n",
    "def create_checkpoint_manager(encoder, decoder, optimizer, checkpoint_dir='./checkpoints'):\n",
    "    checkpoint = tf.train.Checkpoint(optimizer=optimizer, encoder=encoder, decoder=decoder)\n",
    "    manager = tf.train.CheckpointManager(checkpoint, checkpoint_dir, max_to_keep=1)\n",
    "    return checkpoint, manager"
   ]
  },
  {
   "cell_type": "code",
   "execution_count": 51,
   "id": "f514c936",
   "metadata": {},
   "outputs": [],
   "source": [
    "from tqdm import tqdm\n",
    "import random"
   ]
  },
  {
   "cell_type": "code",
   "execution_count": 52,
   "id": "7c5f521c",
   "metadata": {},
   "outputs": [],
   "source": [
    "@tf.function\n",
    "def train_step(src, tgt, encoder, decoder, optimizer, dec_tok):\n",
    "    bsz = src.shape[0]\n",
    "    loss = 0\n",
    "\n",
    "    with tf.GradientTape() as tape:\n",
    "        enc_out = encoder(src)\n",
    "        h_dec = enc_out[:, -1]\n",
    "        \n",
    "        dec_src = tf.expand_dims([dec_tok.word_index['<start>']] * bsz, 1)\n",
    "\n",
    "        for t in range(1, tgt.shape[1]):\n",
    "            pred, h_dec, _ = decoder(dec_src, h_dec, enc_out)\n",
    "\n",
    "            loss += loss_function(tgt[:, t], pred)\n",
    "            dec_src = tf.expand_dims(tgt[:, t], 1)\n",
    "        \n",
    "    batch_loss = (loss / int(tgt.shape[1]))\n",
    "\n",
    "    variables = encoder.trainable_variables + decoder.trainable_variables\n",
    "    gradients = tape.gradient(loss, variables)\n",
    "    optimizer.apply_gradients(zip(gradients, variables))\n",
    "\n",
    "    return batch_loss"
   ]
  },
  {
   "cell_type": "code",
   "execution_count": 53,
   "id": "c84a47e2",
   "metadata": {},
   "outputs": [],
   "source": [
    "# 체크포인트 설정\n",
    "checkpoint_dir = './checkpoints'\n",
    "checkpoint_prefix = os.path.join(checkpoint_dir, \"ckpt\")\n",
    "checkpoint = tf.train.Checkpoint(optimizer=optimizer, encoder=encoder, decoder=decoder)\n",
    "checkpoint_manager = tf.train.CheckpointManager(checkpoint, checkpoint_dir, max_to_keep=3)\n",
    "\n",
    "best_val_loss = float('inf')  # 초기 검증 손실"
   ]
  },
  {
   "cell_type": "code",
   "execution_count": 54,
   "id": "20385df2",
   "metadata": {},
   "outputs": [],
   "source": [
    "# eval_step 함수 정의\n",
    "@tf.function\n",
    "def eval_step(src, tgt, encoder, decoder, dec_tok):\n",
    "    bsz = src.shape[0]\n",
    "    loss = 0\n",
    "\n",
    "    enc_out = encoder(src)\n",
    "\n",
    "    h_dec = enc_out[:, -1]\n",
    "    \n",
    "    dec_src = tf.expand_dims([dec_tok.word_index['<start>']] * bsz, 1)\n",
    "\n",
    "    for t in range(1, tgt.shape[1]):\n",
    "        pred, h_dec, _ = decoder(dec_src, h_dec, enc_out)\n",
    "\n",
    "        loss += loss_function(tgt[:, t], pred)\n",
    "        dec_src = tf.expand_dims(tgt[:, t], 1)\n",
    "        \n",
    "    batch_loss = (loss / int(tgt.shape[1]))\n",
    "    \n",
    "    return batch_loss"
   ]
  },
  {
   "cell_type": "code",
   "execution_count": 56,
   "id": "99380840",
   "metadata": {},
   "outputs": [
    {
     "name": "stderr",
     "output_type": "stream",
     "text": [
      "Epoch 1: 100%|██████████| 750/750 [07:17<00:00,  1.71it/s, loss=2.1838] \n",
      "Test Epoch 1: 100%|██████████| 188/188 [01:26<00:00,  2.18it/s, test_loss=2.1561]\n"
     ]
    },
    {
     "name": "stdout",
     "output_type": "stream",
     "text": [
      "모델 체크포인트 저장 완료!\n"
     ]
    },
    {
     "name": "stderr",
     "output_type": "stream",
     "text": [
      "Epoch 2: 100%|██████████| 750/750 [05:45<00:00,  2.17it/s, loss=2.1547]\n",
      "Test Epoch 2: 100%|██████████| 188/188 [00:30<00:00,  6.16it/s, test_loss=2.1619]\n",
      "Epoch 3: 100%|██████████| 750/750 [05:44<00:00,  2.17it/s, loss=2.1557]\n",
      "Test Epoch 3: 100%|██████████| 188/188 [00:30<00:00,  6.15it/s, test_loss=2.1688]\n",
      "Epoch 4: 100%|██████████| 750/750 [05:44<00:00,  2.17it/s, loss=2.1558]\n",
      "Test Epoch 4: 100%|██████████| 188/188 [00:30<00:00,  6.14it/s, test_loss=2.1713]\n",
      "Epoch 5: 100%|██████████| 750/750 [05:44<00:00,  2.18it/s, loss=2.1560]\n",
      "Test Epoch 5: 100%|██████████| 188/188 [00:30<00:00,  6.16it/s, test_loss=2.1716]\n",
      "Epoch 6: 100%|██████████| 750/750 [05:44<00:00,  2.18it/s, loss=2.1557]\n",
      "Test Epoch 6: 100%|██████████| 188/188 [00:30<00:00,  6.16it/s, test_loss=2.1752]\n",
      "Epoch 7: 100%|██████████| 750/750 [05:44<00:00,  2.18it/s, loss=2.1556]\n",
      "Test Epoch 7: 100%|██████████| 188/188 [00:30<00:00,  6.17it/s, test_loss=2.1813]\n",
      "Epoch 8: 100%|██████████| 750/750 [05:44<00:00,  2.18it/s, loss=2.1560]\n",
      "Test Epoch 8: 100%|██████████| 188/188 [00:30<00:00,  6.17it/s, test_loss=2.1815]\n",
      "Epoch 9: 100%|██████████| 750/750 [05:44<00:00,  2.18it/s, loss=2.1563]\n",
      "Test Epoch 9: 100%|██████████| 188/188 [00:30<00:00,  6.16it/s, test_loss=2.1869]\n",
      "Epoch 10: 100%|██████████| 750/750 [05:44<00:00,  2.17it/s, loss=2.1556]\n",
      "Test Epoch 10: 100%|██████████| 188/188 [00:30<00:00,  6.17it/s, test_loss=2.1874]\n"
     ]
    }
   ],
   "source": [
    "EPOCHS = 10\n",
    "# Training Process\n",
    "for epoch in range(EPOCHS):\n",
    "    total_loss = 0\n",
    "    \n",
    "    idx_list = list(range(0, enc_train.shape[0], BATCH_SIZE))\n",
    "    random.shuffle(idx_list)\n",
    "    t = tqdm(idx_list, desc=f\"Epoch {epoch + 1}\")\n",
    "\n",
    "    # 학습 (Training)\n",
    "    for (batch, idx) in enumerate(t):\n",
    "        batch_loss = train_step(enc_train[idx:idx+BATCH_SIZE],\n",
    "                                dec_train[idx:idx+BATCH_SIZE],\n",
    "                                encoder,\n",
    "                                decoder,\n",
    "                                optimizer,\n",
    "                                dec_tokenizer)\n",
    "    \n",
    "        total_loss += batch_loss\n",
    "        \n",
    "        t.set_postfix(loss=f\"{total_loss.numpy() / (batch + 1):.4f}\")\n",
    "    \n",
    "    # 검증 (Validation)\n",
    "    test_loss = 0\n",
    "    \n",
    "    idx_list = list(range(0, enc_val.shape[0], BATCH_SIZE))\n",
    "    random.shuffle(idx_list)\n",
    "    t = tqdm(idx_list, desc=f\"Test Epoch {epoch + 1}\")\n",
    "\n",
    "    for (test_batch, idx) in enumerate(t):\n",
    "        test_batch_loss = eval_step(enc_val[idx:idx+BATCH_SIZE],\n",
    "                                    dec_val[idx:idx+BATCH_SIZE],\n",
    "                                    encoder,\n",
    "                                    decoder,\n",
    "                                    dec_tokenizer)\n",
    "    \n",
    "        test_loss += test_batch_loss\n",
    "\n",
    "        t.set_postfix(test_loss=f\"{test_loss.numpy() / (test_batch + 1):.4f}\")\n",
    "    \n",
    "    avg_val_loss = test_loss.numpy() / len(t)  # 검증 손실 평균\n",
    "\n",
    "    # 베스트 모델 체크포인트 저장\n",
    "    if avg_val_loss < best_val_loss:\n",
    "        best_val_loss = avg_val_loss\n",
    "        checkpoint_manager.save()\n",
    "        print(\"모델 체크포인트 저장 완료!\")"
   ]
  },
  {
   "cell_type": "code",
   "execution_count": 58,
   "id": "1c063257",
   "metadata": {},
   "outputs": [],
   "source": [
    "def evaluate(sentence, encoder, decoder):\n",
    "    attention = np.zeros((dec_train.shape[-1], enc_train.shape[-1]))\n",
    "    \n",
    "    sentence = preprocess_sentence(sentence)\n",
    "    inputs = enc_tokenizer.texts_to_sequences([sentence.split()])\n",
    "    inputs = tf.keras.preprocessing.sequence.pad_sequences(inputs,\n",
    "                                                           maxlen=enc_train.shape[-1],\n",
    "                                                           padding='post')\n",
    "\n",
    "    result = ''\n",
    "\n",
    "    enc_out = encoder(inputs)\n",
    "\n",
    "    dec_hidden = enc_out[:, -1]\n",
    "    dec_input = tf.expand_dims([dec_tokenizer.word_index['<start>']], 0)\n",
    "\n",
    "    for t in range(dec_train.shape[-1]):\n",
    "        predictions, dec_hidden, attention_weights = decoder(dec_input,\n",
    "                                                             dec_hidden,\n",
    "                                                             enc_out)\n",
    "\n",
    "        attention_weights = tf.reshape(attention_weights, (-1, ))\n",
    "        attention[t] = attention_weights.numpy()\n",
    "\n",
    "        predicted_id = \\\n",
    "        tf.argmax(tf.math.softmax(predictions, axis=-1)[0]).numpy()\n",
    "\n",
    "        result += dec_tokenizer.index_word[predicted_id] + ' '\n",
    "\n",
    "        if dec_tokenizer.index_word[predicted_id] == '<end>':\n",
    "            return result, sentence, attention\n",
    "\n",
    "        dec_input = tf.expand_dims([predicted_id], 0)\n",
    "\n",
    "    return result, sentence, attention"
   ]
  },
  {
   "cell_type": "code",
   "execution_count": 59,
   "id": "2cb7bb9b",
   "metadata": {},
   "outputs": [],
   "source": [
    "def plot_attention(attention, sentence, predicted_sentence):\n",
    "    fig = plt.figure(figsize=(10,10))\n",
    "    ax = fig.add_subplot(1, 1, 1)\n",
    "    ax.matshow(attention, cmap='viridis')\n",
    "\n",
    "    fontdict = {'fontsize': 14}\n",
    "\n",
    "    ax.set_xticklabels([''] + sentence, fontdict=fontdict, rotation=90)\n",
    "    ax.set_yticklabels([''] + predicted_sentence, fontdict=fontdict)\n",
    "\n",
    "    ax.xaxis.set_major_locator(ticker.MultipleLocator(1))\n",
    "    ax.yaxis.set_major_locator(ticker.MultipleLocator(1))\n",
    "\n",
    "    plt.show()"
   ]
  },
  {
   "cell_type": "code",
   "execution_count": 61,
   "id": "2057d798",
   "metadata": {},
   "outputs": [
    {
     "name": "stdout",
     "output_type": "stream",
     "text": [
      "Input: 오바마는 대통령이다 .\n",
      "Predicted translation: > > > > > > > > > > > > > > > > > > > > > > > > > > > > > > > > > > > > > > > > > > > > > > > > > > > > > > > > > > > > > > > > > > > > > > > > > > > > > > > > > > > > > > > > > > > \n"
     ]
    },
    {
     "name": "stderr",
     "output_type": "stream",
     "text": [
      "/tmp/ipykernel_77/421837482.py:8: UserWarning: FixedFormatter should only be used together with FixedLocator\n",
      "  ax.set_xticklabels([''] + sentence, fontdict=fontdict, rotation=90)\n",
      "/tmp/ipykernel_77/421837482.py:9: UserWarning: FixedFormatter should only be used together with FixedLocator\n",
      "  ax.set_yticklabels([''] + predicted_sentence, fontdict=fontdict)\n"
     ]
    },
    {
     "data": {
      "image/png": "[encoded data removed]",
      "text/plain": [
       "<Figure size 720x720 with 1 Axes>"
      ]
     },
     "metadata": {
      "image/png": {
       "height": 634,
       "width": 50
      },
      "needs_background": "light"
     },
     "output_type": "display_data"
    },
    {
     "name": "stdout",
     "output_type": "stream",
     "text": [
      "Input: 시민들은 도시 속에 산다 .\n",
      "Predicted translation: > > > > > > > > > > > > > > > > > > > > > > > > > > > > > > > > > > > > > > > > > > > > > > > > > > > > > > > > > > > > > > > > > > > > > > > > > > > > > > > > > > > > > > > > > > > \n"
     ]
    },
    {
     "data": {
      "image/png": "[encoded data removed]",
      "text/plain": [
       "<Figure size 720x720 with 1 Axes>"
      ]
     },
     "metadata": {
      "image/png": {
       "height": 621,
       "width": 62
      },
      "needs_background": "light"
     },
     "output_type": "display_data"
    },
    {
     "name": "stdout",
     "output_type": "stream",
     "text": [
      "Input: 커피는 필요 없다 .\n",
      "Predicted translation: > > > > > > > > > > > > > > > > > > > > > > > > > > > > > > > > > > > > > > > > > > > > > > > > > > > > > > > > > > > > > > > > > > > > > > > > > > > > > > > > > > > > > > > > > > > \n"
     ]
    },
    {
     "data": {
      "image/png": "[encoded data removed]",
      "text/plain": [
       "<Figure size 720x720 with 1 Axes>"
      ]
     },
     "metadata": {
      "image/png": {
       "height": 609,
       "width": 56
      },
      "needs_background": "light"
     },
     "output_type": "display_data"
    },
    {
     "name": "stdout",
     "output_type": "stream",
     "text": [
      "Input: 일곱 명의 사망자가 발생했다 .\n",
      "Predicted translation: > > > > > > > > > > > > > > > > > > > > > > > > > > > > > > > > > > > > > > > > > > > > > > > > > > > > > > > > > > > > > > > > > > > > > > > > > > > > > > > > > > > > > > > > > > > \n"
     ]
    },
    {
     "data": {
      "image/png": "[encoded data removed]",
      "text/plain": [
       "<Figure size 720x720 with 1 Axes>"
      ]
     },
     "metadata": {
      "image/png": {
       "height": 621,
       "width": 62
      },
      "needs_background": "light"
     },
     "output_type": "display_data"
    }
   ],
   "source": [
    "input_sentences = [\n",
    "    \"오바마는 대통령이다.\",\n",
    "    \"시민들은 도시 속에 산다.\",\n",
    "    \"커피는 필요 없다.\",\n",
    "    \"일곱 명의 사망자가 발생했다.\"\n",
    "]\n",
    "\n",
    "def translate(sentences, encoder, decoder):\n",
    "    for sentence in sentences:  # 개별 문장 처리\n",
    "        result, processed_sentence, attention = evaluate(sentence, encoder, decoder)\n",
    "\n",
    "        print('Input: %s' % (processed_sentence))  # 변환된 문장 출력\n",
    "        print('Predicted translation: {}'.format(result))\n",
    "\n",
    "        # Attention 크기 조정 (잘못된 크기 방지)\n",
    "        attention = attention[:len(result.split()), :len(processed_sentence.split())]\n",
    "        plot_attention(attention, processed_sentence.split(), result.split(' '))\n",
    "\n",
    "# 실행 (input_sentences 리스트 전달)\n",
    "translate(input_sentences, encoder, decoder)"
   ]
  },
  {
   "cell_type": "markdown",
   "id": "27c935de",
   "metadata": {},
   "source": [
    "#### 결과가 이상하다 ㅠㅠ\n",
    "밤에 zep에 창원님이 계셔서 얘기해보니 코드 자체에 문제가 있었던 것 같습니다   \n",
    "토크나이즈가 좀 잘못 된 것 같기도 하고   \n",
    "인코더 디코더 구조 자체를 잘못 연결했을 수도 있을 것 같다"
   ]
  }
 ],
 "metadata": {
  "kernelspec": {
   "display_name": "Python 3 (ipykernel)",
   "language": "python",
   "name": "python3"
  },
  "language_info": {
   "codemirror_mode": {
    "name": "ipython",
    "version": 3
   },
   "file_extension": ".py",
   "mimetype": "text/x-python",
   "name": "python",
   "nbconvert_exporter": "python",
   "pygments_lexer": "ipython3",
   "version": "3.9.7"
  }
 },
 "nbformat": 4,
 "nbformat_minor": 5
}
