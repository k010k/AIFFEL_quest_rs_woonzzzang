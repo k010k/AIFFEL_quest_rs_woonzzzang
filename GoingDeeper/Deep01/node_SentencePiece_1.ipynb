{
 "cells": [
  {
   "cell_type": "markdown",
   "id": "43d0ad67",
   "metadata": {},
   "source": [
    "## 문장을 Tensor로 Encoding"
   ]
  },
  {
   "cell_type": "code",
   "execution_count": 1,
   "id": "6bceb131",
   "metadata": {},
   "outputs": [
    {
     "name": "stdout",
     "output_type": "stream",
     "text": [
      "['자연어', '처리', '가', '너무', '재밌', '어서', '밥', '먹', '는', '것', '도', '가끔', '까먹', '어요']\n"
     ]
    }
   ],
   "source": [
    "from konlpy.tag import Mecab\n",
    "\n",
    "mecab = Mecab()\n",
    "print(mecab.morphs('자연어처리가너무재밌어서밥먹는것도가끔까먹어요'))"
   ]
  },
  {
   "cell_type": "code",
   "execution_count": 2,
   "id": "8ea7c102",
   "metadata": {},
   "outputs": [],
   "source": [
    "import os\n",
    "\n",
    "import matplotlib.pyplot as plt\n",
    "import tensorflow as tf\n",
    "import numpy as np\n",
    "\n",
    "%matplotlib inline"
   ]
  },
  {
   "cell_type": "code",
   "execution_count": 3,
   "id": "031b733a",
   "metadata": {},
   "outputs": [
    {
     "name": "stdout",
     "output_type": "stream",
     "text": [
      "Data Size: 94123\n",
      "Example:\n",
      ">> 개인용 컴퓨터 사용의 상당 부분은 \"이것보다 뛰어날 수 있느냐?\"\n",
      ">> 북한의 핵무기 계획을 포기하도록 하려는 압력이 거세지고 있는 가운데, 일본과 북한의 외교관들이 외교 관계를 정상화하려는 회담을 재개했다.\n",
      ">> \"경호 로보트가 침입자나 화재를 탐지하기 위해서 개인적으로, 그리고 전문적으로 사용되고 있습니다.\"\n",
      ">> 수자원부 당국은 논란이 되고 있고, 막대한 비용이 드는 이 사업에 대해 내년에 건설을 시작할 계획이다.\n",
      ">> 또한 근력 운동은 활발하게 걷는 것이나 최소한 20분 동안 뛰는 것과 같은 유산소 활동에서 얻는 운동 효과를 심장과 폐에 주지 않기 때문에, 연구학자들은 근력 운동이 심장에 큰 영향을 미치는지 여부에 대해 논쟁을 해왔다.\n"
     ]
    }
   ],
   "source": [
    "import os\n",
    "path_to_file = os.getenv('HOME')+'/aiffel/sp_tokenizer/data/korean-english-park.train.ko'\n",
    "\n",
    "with open(path_to_file, \"r\") as f:\n",
    "    raw = f.read().splitlines()\n",
    "\n",
    "print(\"Data Size:\", len(raw))\n",
    "\n",
    "print(\"Example:\")\n",
    "for sen in raw[0:100][::20]: print(\">>\", sen)"
   ]
  },
  {
   "cell_type": "markdown",
   "id": "62890821",
   "metadata": {},
   "source": [
    "데이터는 한국어의 형태소 분석과 품사 태깅, 기계 번역 연구를 위해 공개된 데이터   \n",
    "이번에 사용할 데이터는 한국어-영어 병렬을 이루는 말뭉치 중 한국어 부분으로, 전체 병렬 말뭉치는 후에 번역기를 만들며 사용할 예정  \n",
    "문장은 총 94123개"
   ]
  },
  {
   "cell_type": "code",
   "execution_count": 4,
   "id": "0f0ee6ac",
   "metadata": {},
   "outputs": [
    {
     "name": "stdout",
     "output_type": "stream",
     "text": [
      "문장의 최단 길이: 1\n",
      "문장의 최장 길이: 377\n",
      "문장의 평균 길이: 60\n"
     ]
    },
    {
     "data": {
      "image/png": "[encoded data removed]",
      "text/plain": [
       "<Figure size 432x288 with 1 Axes>"
      ]
     },
     "metadata": {
      "needs_background": "light"
     },
     "output_type": "display_data"
    }
   ],
   "source": [
    "min_len = 999\n",
    "max_len = 0\n",
    "sum_len = 0\n",
    "\n",
    "for sen in raw:\n",
    "    length = len(sen)\n",
    "    if min_len > length: min_len = length\n",
    "    if max_len < length: max_len = length\n",
    "    sum_len += length\n",
    "\n",
    "print(\"문장의 최단 길이:\", min_len)\n",
    "print(\"문장의 최장 길이:\", max_len)\n",
    "print(\"문장의 평균 길이:\", sum_len // len(raw))\n",
    "\n",
    "sentence_length = np.zeros((max_len), dtype=int)\n",
    "\n",
    "for sen in raw:\n",
    "    sentence_length[len(sen)-1] += 1\n",
    "\n",
    "plt.bar(range(max_len), sentence_length, width=1.0)\n",
    "plt.title(\"Sentence Length Distribution\")\n",
    "plt.show()"
   ]
  },
  {
   "cell_type": "markdown",
   "id": "4775eefb",
   "metadata": {},
   "source": [
    "최단 길이 1, 최장 길이 377\n",
    "1. 길이 1 짜리 문장 확인\n",
    "2. 앞에 치솟는 임의의 구간 확인\n",
    "3. 이용할 구간 결정"
   ]
  },
  {
   "cell_type": "code",
   "execution_count": 6,
   "id": "17fe4aac",
   "metadata": {},
   "outputs": [
    {
     "name": "stdout",
     "output_type": "stream",
     "text": [
      "’\n"
     ]
    }
   ],
   "source": [
    "def check_sentence_with_length(raw, length):\n",
    "    count = 0\n",
    "    \n",
    "    for sen in raw:\n",
    "        if len(sen) == length:\n",
    "            print(sen)\n",
    "            count += 1\n",
    "            if count > 100: return\n",
    "\n",
    "check_sentence_with_length(raw, 1)"
   ]
  },
  {
   "cell_type": "markdown",
   "id": "2361b99b",
   "metadata": {},
   "source": [
    "길이 1인 문장은 노이즈"
   ]
  },
  {
   "cell_type": "code",
   "execution_count": 7,
   "id": "f6589019",
   "metadata": {},
   "outputs": [
    {
     "name": "stdout",
     "output_type": "stream",
     "text": [
      "Outlier Index: 11\n",
      "Outlier Index: 19\n",
      "Outlier Index: 21\n"
     ]
    }
   ],
   "source": [
    "for idx, _sum in enumerate(sentence_length):\n",
    "    # 문장의 수가 1500을 초과하는 문장 길이를 추출합니다.\n",
    "    if _sum > 1500:\n",
    "        print(\"Outlier Index:\", idx+1)"
   ]
  },
  {
   "cell_type": "code",
   "execution_count": 8,
   "id": "24acf5ee",
   "metadata": {},
   "outputs": [
    {
     "name": "stdout",
     "output_type": "stream",
     "text": [
      "라고 조던이 말했다.\n",
      "- 모르고 있습니다.\n",
      "- 네, 보이는군요.\n",
      "디즈니사만이 아니다.\n",
      "큰 파티는 아니지요.\n",
      "의자는 비어 있었다.\n",
      "이 일은 계속됩니다.\n",
      "나는 크게 실망했다.\n",
      "그 이유는 간단하다.\n",
      "이력서와 자기 소개서\n",
      "시대가 변하고 있다.\n",
      "는 돌발질문을 했다.\n",
      "9. 몇 분간의 명상\n",
      "하와이, 빅 아일랜드\n",
      "키스를 잘 하는 방법\n",
      "키스를 잘 하는 방법\n",
      "스피어스가 뚱뚱한가?\n",
      "산 위를 나는 느낌.\n",
      "세 시간쯤 걸었을까?\n",
      "(아직 읽고있습니까?\n",
      "처음에는 장난이었다.\n",
      "우리는 운이 좋았다.\n",
      "아기가 숨을 멈출 때\n",
      "건물 전체 무너져내려\n",
      "그녀의 아름다운 눈.\n",
      "대답은 다음과 같다.\n",
      "\"사과할 것이 없다.\n",
      "폭탄테러가 공포 유발\n",
      "그는 \"잘 모르겠다.\n",
      "그는 \"잘 모르겠다.\n",
      "그는 \"잘 모르겠다.\n",
      "그는 \"잘 모르겠다.\n",
      "그는 \"잘 모르겠다.\n",
      "그는 \"잘 모르겠다.\n",
      "그는 \"잘 모르겠다.\n",
      "그는 \"잘 모르겠다.\n",
      "그는 \"잘 모르겠다.\n",
      "케냐 야생동물 고아원\n",
      "경유 1200원대로…\n",
      "더 내려야 하는 이유\n",
      "케냐 야생동물 고아원\n",
      "경유 1200원대로…\n",
      "더 내려야 하는 이유\n",
      "케냐 야생동물 고아원\n",
      "경유 1200원대로…\n",
      "더 내려야 하는 이유\n",
      "케냐 야생동물 고아원\n",
      "경유 1200원대로…\n",
      "더 내려야 하는 이유\n",
      "케냐 야생동물 고아원\n",
      "경유 1200원대로…\n",
      "더 내려야 하는 이유\n",
      "케냐 야생동물 고아원\n",
      "경유 1200원대로…\n",
      "더 내려야 하는 이유\n",
      "케냐 야생동물 고아원\n",
      "경유 1200원대로…\n",
      "더 내려야 하는 이유\n",
      "케냐 야생동물 고아원\n",
      "경유 1200원대로…\n",
      "더 내려야 하는 이유\n",
      "케냐 야생동물 고아원\n",
      "경유 1200원대로…\n",
      "더 내려야 하는 이유\n",
      "케냐 야생동물 고아원\n",
      "경유 1200원대로…\n",
      "더 내려야 하는 이유\n",
      "케냐 야생동물 고아원\n",
      "경유 1200원대로…\n",
      "더 내려야 하는 이유\n",
      "케냐 야생동물 고아원\n",
      "경유 1200원대로…\n",
      "더 내려야 하는 이유\n",
      "케냐 야생동물 고아원\n",
      "경유 1200원대로…\n",
      "더 내려야 하는 이유\n",
      "케냐 야생동물 고아원\n",
      "경유 1200원대로…\n",
      "더 내려야 하는 이유\n",
      "케냐 야생동물 고아원\n",
      "경유 1200원대로…\n",
      "더 내려야 하는 이유\n",
      "케냐 야생동물 고아원\n",
      "경유 1200원대로…\n",
      "더 내려야 하는 이유\n",
      "케냐 야생동물 고아원\n",
      "경유 1200원대로…\n",
      "더 내려야 하는 이유\n",
      "케냐 야생동물 고아원\n",
      "경유 1200원대로…\n",
      "더 내려야 하는 이유\n",
      "케냐 야생동물 고아원\n",
      "경유 1200원대로…\n",
      "더 내려야 하는 이유\n",
      "케냐 야생동물 고아원\n",
      "경유 1200원대로…\n",
      "더 내려야 하는 이유\n",
      "조금은 새침한 샬롯？\n",
      "조금은 새침한 샬롯？\n",
      "케냐 야생동물 고아원\n",
      "경유 1200원대로…\n"
     ]
    }
   ],
   "source": [
    "check_sentence_with_length(raw, 11)"
   ]
  },
  {
   "cell_type": "markdown",
   "id": "ec9749dc",
   "metadata": {},
   "source": [
    "outlier index 중 하나인, 길이가 11인 문장 확인 결과   \n",
    "중복 처리가 제대로 안 된 것 확인  \n",
    "중복 처리는 Python 기본 자료형 set 활용 (집합을 정의하는 자료형, 중복을 허용하지 않아 변환 과정에서 자동으로 중복 요소 제거, 대신 list 순서가 섞일 수 있음)   \n",
    "\n",
    "중복 제거 후 다시 전체 데이터 확인"
   ]
  },
  {
   "cell_type": "code",
   "execution_count": 9,
   "id": "b98436f9",
   "metadata": {},
   "outputs": [
    {
     "name": "stdout",
     "output_type": "stream",
     "text": [
      "Data Size: 77591\n",
      "문장의 최단 길이: 1\n",
      "문장의 최장 길이: 377\n",
      "문장의 평균 길이: 64\n"
     ]
    },
    {
     "data": {
      "image/png": "[encoded data removed]",
      "text/plain": [
       "<Figure size 432x288 with 1 Axes>"
      ]
     },
     "metadata": {
      "needs_background": "light"
     },
     "output_type": "display_data"
    }
   ],
   "source": [
    "min_len = 999\n",
    "max_len = 0\n",
    "sum_len = 0\n",
    "\n",
    "cleaned_corpus = list(set(raw))  # set를 사용해서 중복을 제거합니다.\n",
    "print(\"Data Size:\", len(cleaned_corpus))\n",
    "\n",
    "for sen in cleaned_corpus:\n",
    "    length = len(sen)\n",
    "    if min_len > length: min_len = length\n",
    "    if max_len < length: max_len = length\n",
    "    sum_len += length\n",
    "\n",
    "print(\"문장의 최단 길이:\", min_len)\n",
    "print(\"문장의 최장 길이:\", max_len)\n",
    "print(\"문장의 평균 길이:\", sum_len // len(cleaned_corpus))\n",
    "\n",
    "sentence_length = np.zeros((max_len), dtype=int)\n",
    "\n",
    "for sen in cleaned_corpus:   # 중복이 제거된 코퍼스 기준\n",
    "    sentence_length[len(sen)-1] += 1\n",
    "\n",
    "plt.bar(range(max_len), sentence_length, width=1.0)\n",
    "plt.title(\"Sentence Length Distribution\")\n",
    "plt.show()"
   ]
  },
  {
   "cell_type": "markdown",
   "id": "4e1e831b",
   "metadata": {},
   "source": [
    "마지막으로 '모든 데이터를 다 사용할 것이냐'  \n",
    "후에 미니 배치를 만들 것을 생각하면 모든 데이터를 다 사용하는 것은 연산 측면에서 비효율적  \n",
    "미니 배치 특성상 각 데이터의 크기가 모두 동일해야 하기 때문에 가장 긴 데이터를 기준으로 Padding 처리  \n",
    "위의 데이터에서 만약 길이가 100인 문장까지만 사용한다면 데이터는    \n",
    "[ (77591 - 길이 100 초과 문장 수) x 100] 의 형태를 갖지만   \n",
    "모두 사용할 경우 [77591 x 377] 로 전자보다 최소 3.7배 큰 메모리 차지   \n",
    "길이별로 정렬하여 미니 배치를 구성해 Padding을 최소화하는 방법도 있지만 이는 데이터를 섞는 데 편향성이 생길 수 있으므로 지향   \n",
    "문장 길이 150을 기준으로 이상의 데이터 제거   \n",
    "너무 짧은 데이터는 오히려 노이즈로 작용할 수 있으므로 길이 10 미만 데이터 제거  "
   ]
  },
  {
   "cell_type": "code",
   "execution_count": 10,
   "id": "4d60b71b",
   "metadata": {},
   "outputs": [
    {
     "data": {
      "image/png": "[encoded data removed]",
      "text/plain": [
       "<Figure size 432x288 with 1 Axes>"
      ]
     },
     "metadata": {
      "needs_background": "light"
     },
     "output_type": "display_data"
    }
   ],
   "source": [
    "max_len = 150\n",
    "min_len = 10\n",
    "\n",
    "# 길이 조건에 맞는 문장만 선택합니다.\n",
    "filtered_corpus = [s for s in cleaned_corpus if (len(s) < max_len) & (len(s) >= min_len)]\n",
    "\n",
    "# 분포도를 다시 그려봅니다.\n",
    "sentence_length = np.zeros((max_len), dtype=int)\n",
    "\n",
    "for sen in filtered_corpus:\n",
    "    sentence_length[len(sen)-1] += 1\n",
    "\n",
    "plt.bar(range(max_len), sentence_length, width=1.0)\n",
    "plt.title(\"Sentence Length Distribution\")\n",
    "plt.show()"
   ]
  },
  {
   "cell_type": "markdown",
   "id": "15af6947",
   "metadata": {},
   "source": [
    "### 공백 기반 토큰화\n",
    "정제된 데이터 filtered_corpus를 공백 기반으로 토큰화해 리스트 split_corpus에 저장 후, tokenize() 함수를 사용해 단어 사전과 Tensor 데이터 get"
   ]
  },
  {
   "cell_type": "code",
   "execution_count": 11,
   "id": "ee041e01",
   "metadata": {},
   "outputs": [],
   "source": [
    "def tokenize(corpus):  # corpus: Tokenized Sentence's List\n",
    "    tokenizer = tf.keras.preprocessing.text.Tokenizer(filters='')\n",
    "    tokenizer.fit_on_texts(corpus)\n",
    "\n",
    "    tensor = tokenizer.texts_to_sequences(corpus)\n",
    "\n",
    "    tensor = tf.keras.preprocessing.sequence.pad_sequences(tensor, padding='post')\n",
    "\n",
    "    return tensor, tokenizer"
   ]
  },
  {
   "cell_type": "code",
   "execution_count": 12,
   "id": "6b8bda5b",
   "metadata": {},
   "outputs": [],
   "source": [
    "split_corpus = []\n",
    "\n",
    "for kor in filtered_corpus:\n",
    "    split_corpus.append(kor.split())"
   ]
  },
  {
   "cell_type": "code",
   "execution_count": 13,
   "id": "d0c73e5a",
   "metadata": {},
   "outputs": [
    {
     "name": "stdout",
     "output_type": "stream",
     "text": [
      "Split Vocab Size: 237435\n"
     ]
    }
   ],
   "source": [
    "split_tensor, split_tokenizer = tokenize(split_corpus)\n",
    "\n",
    "print(\"Split Vocab Size:\", len(split_tokenizer.index_word))"
   ]
  },
  {
   "cell_type": "code",
   "execution_count": 14,
   "id": "9aa329c4",
   "metadata": {},
   "outputs": [
    {
     "name": "stdout",
     "output_type": "stream",
     "text": [
      "0 : 이\n",
      "1 : 밝혔다.\n",
      "2 : 있다.\n",
      "3 : 말했다.\n",
      "4 : 수\n",
      "5 : 있는\n",
      "6 : 그는\n",
      "7 : 대한\n",
      "8 : 위해\n",
      "9 : 전했다.\n",
      "10 : 지난\n",
      "11 : 이번\n"
     ]
    }
   ],
   "source": [
    "for idx, word in enumerate(split_tokenizer.word_index):\n",
    "    print(idx, \":\", word)\n",
    "\n",
    "    if idx > 10: break"
   ]
  },
  {
   "cell_type": "markdown",
   "id": "a79f26f8",
   "metadata": {},
   "source": [
    "### 형태소 기반 토큰화\n",
    "- Khaiii\n",
    "- KoNLPy - MeCab"
   ]
  },
  {
   "cell_type": "code",
   "execution_count": 15,
   "id": "c71967cc",
   "metadata": {},
   "outputs": [],
   "source": [
    "def mecab_split(sentence):\n",
    "    return mecab.morphs(sentence)\n",
    "\n",
    "mecab_corpus = []\n",
    "\n",
    "for kor in filtered_corpus:\n",
    "    mecab_corpus.append(mecab_split(kor))"
   ]
  },
  {
   "cell_type": "code",
   "execution_count": 16,
   "id": "4d128cd5",
   "metadata": {},
   "outputs": [
    {
     "name": "stdout",
     "output_type": "stream",
     "text": [
      "MeCab Vocab Size: 52279\n"
     ]
    }
   ],
   "source": [
    "mecab_tensor, mecab_tokenizer = tokenize(mecab_corpus)\n",
    "\n",
    "print(\"MeCab Vocab Size:\", len(mecab_tokenizer.index_word))"
   ]
  },
  {
   "cell_type": "markdown",
   "id": "31090a6f",
   "metadata": {},
   "source": [
    "공백 기반 단어 사전에 비해 단어 수 현저히 감소  \n",
    "이는 곧 연산량의 감소 -> 더 빠른 학습, 파라미터 수 감소, 수월한 학습  \n",
    "한국어를 처리할 때는 공백 기반 토큰화 지양  "
   ]
  },
  {
   "cell_type": "markdown",
   "id": "eb78c509",
   "metadata": {},
   "source": [
    "### 디코딩"
   ]
  },
  {
   "cell_type": "code",
   "execution_count": 17,
   "id": "d79cc0a0",
   "metadata": {},
   "outputs": [
    {
     "name": "stdout",
     "output_type": "stream",
     "text": [
      "가드 세 교수 는 “ 법 을 위반 한 연예인 이나 비 연예인 이나 차별 이 없 어야 한다 ” 고 밝혔 다 .\n"
     ]
    }
   ],
   "source": [
    "# Case 1\n",
    "texts = mecab_tokenizer.sequences_to_texts([mecab_tensor[100]])\n",
    "print(texts[0])"
   ]
  },
  {
   "cell_type": "code",
   "execution_count": 18,
   "id": "a0683e7d",
   "metadata": {},
   "outputs": [
    {
     "name": "stdout",
     "output_type": "stream",
     "text": [
      "가드 세 교수 는 “ 법 을 위반 한 연예인 이나 비 연예인 이나 차별 이 없 어야 한다 ” 고 밝혔 다 . \n"
     ]
    }
   ],
   "source": [
    "# Case 2\n",
    "sentence = \"\"\n",
    "\n",
    "for w in mecab_tensor[100]:\n",
    "    if w == 0: continue\n",
    "    sentence += mecab_tokenizer.index_word[w] + \" \"\n",
    "\n",
    "print(sentence)"
   ]
  },
  {
   "cell_type": "markdown",
   "id": "83c5bf02",
   "metadata": {},
   "source": [
    "## Project"
   ]
  },
  {
   "cell_type": "code",
   "execution_count": null,
   "id": "0dd7f0f2",
   "metadata": {},
   "outputs": [],
   "source": [
    "import tensorflow as tf\n",
    "import numpy as np\n",
    "import matplotlib as plt\n",
    "import konlpy\n",
    "\n",
    "print(tf.__version__)\n",
    "print(np.__version__)\n",
    "print(plt.__version__)\n",
    "print(konlpy.__version__)"
   ]
  },
  {
   "cell_type": "markdown",
   "id": "2c191086",
   "metadata": {},
   "source": [
    "### Step 1. SentencePiece 설치\n",
    "SentencePiece는 Google에서 제공하는 오픈소스 기반 Sentence Tokenizer/Detokenizer 로서, BPE와 unigram 2가지 subword 토크나이징 모델 중 하나를 선택해서 사용할 수 있도록 패키징한 것\n",
    "\n",
    "기설치 완\n",
    "\n",
    "$ pip install sentencepiece"
   ]
  },
  {
   "cell_type": "markdown",
   "id": "88160d8e",
   "metadata": {},
   "source": [
    "### Step 2. SentencePiece 모델 학습"
   ]
  },
  {
   "cell_type": "code",
   "execution_count": 20,
   "id": "6b6229ef",
   "metadata": {},
   "outputs": [],
   "source": [
    "def tokenize(corpus):  # corpus: Tokenized Sentence's List\n",
    "    tokenizer = tf.keras.preprocessing.text.Tokenizer(filters='')\n",
    "    tokenizer.fit_on_texts(corpus)\n",
    "\n",
    "    tensor = tokenizer.texts_to_sequences(corpus)\n",
    "\n",
    "    tensor = tf.keras.preprocessing.sequence.pad_sequences(tensor, padding='post')\n",
    "\n",
    "    return tensor, tokenizer"
   ]
  },
  {
   "cell_type": "markdown",
   "id": "add6ea44",
   "metadata": {},
   "source": [
    "tf.keras.preprocessing.text.Tokenizer에 corpus를 주고    \n",
    "tokenizer.fit_on_texts(corpus)을 하면 토크나이저 내부적으로 단어사전과 토크나이저 기능을 corpus에 맞춤형으로 자동 생성\n",
    "\n",
    "이를 위해 SentencePiece 모델 학습 과정 필요"
   ]
  },
  {
   "cell_type": "code",
   "execution_count": 21,
   "id": "87fb38e5",
   "metadata": {
    "scrolled": true
   },
   "outputs": [
    {
     "name": "stderr",
     "output_type": "stream",
     "text": [
      "sentencepiece_trainer.cc(177) LOG(INFO) Running command: --input=/aiffel/aiffel/sp_tokenizer/data/korean-english-park.train.ko.temp --model_prefix=korean_spm --vocab_size=8000\n",
      "sentencepiece_trainer.cc(77) LOG(INFO) Starts training with : \n",
      "trainer_spec {\n",
      "  input: /aiffel/aiffel/sp_tokenizer/data/korean-english-park.train.ko.temp\n",
      "  input_format: \n",
      "  model_prefix: korean_spm\n",
      "  model_type: UNIGRAM\n",
      "  vocab_size: 8000\n",
      "  self_test_sample_size: 0\n",
      "  character_coverage: 0.9995\n",
      "  input_sentence_size: 0\n",
      "  shuffle_input_sentence: 1\n",
      "  seed_sentencepiece_size: 1000000\n",
      "  shrinking_factor: 0.75\n",
      "  max_sentence_length: 4192\n",
      "  num_threads: 16\n",
      "  num_sub_iterations: 2\n",
      "  max_sentencepiece_length: 16\n",
      "  split_by_unicode_script: 1\n",
      "  split_by_number: 1\n",
      "  split_by_whitespace: 1\n",
      "  split_digits: 0\n",
      "  treat_whitespace_as_suffix: 0\n",
      "  allow_whitespace_only_pieces: 0\n",
      "  required_chars: \n",
      "  byte_fallback: 0\n",
      "  vocabulary_output_piece_score: 1\n",
      "  train_extremely_large_corpus: 0\n",
      "  hard_vocab_limit: 1\n",
      "  use_all_vocab: 0\n",
      "  unk_id: 0\n",
      "  bos_id: 1\n",
      "  eos_id: 2\n",
      "  pad_id: -1\n",
      "  unk_piece: <unk>\n",
      "  bos_piece: <s>\n",
      "  eos_piece: </s>\n",
      "  pad_piece: <pad>\n",
      "  unk_surface:  ⁇ \n",
      "}\n",
      "normalizer_spec {\n",
      "  name: nmt_nfkc\n",
      "  add_dummy_prefix: 1\n",
      "  remove_extra_whitespaces: 1\n",
      "  escape_whitespaces: 1\n",
      "  normalization_rule_tsv: \n",
      "}\n",
      "denormalizer_spec {}\n",
      "trainer_interface.cc(329) LOG(INFO) SentenceIterator is not specified. Using MultiFileSentenceIterator.\n",
      "trainer_interface.cc(178) LOG(INFO) Loading corpus: /aiffel/aiffel/sp_tokenizer/data/korean-english-park.train.ko.temp\n",
      "trainer_interface.cc(385) LOG(INFO) Loaded all 76908 sentences\n",
      "trainer_interface.cc(400) LOG(INFO) Adding meta_piece: <unk>\n",
      "trainer_interface.cc(400) LOG(INFO) Adding meta_piece: <s>\n",
      "trainer_interface.cc(400) LOG(INFO) Adding meta_piece: </s>\n",
      "trainer_interface.cc(405) LOG(INFO) Normalizing sentences...\n",
      "trainer_interface.cc(466) LOG(INFO) all chars count=4996369\n",
      "trainer_interface.cc(477) LOG(INFO) Done: 99.95% characters are covered.\n",
      "trainer_interface.cc(487) LOG(INFO) Alphabet size=1317\n",
      "trainer_interface.cc(488) LOG(INFO) Final character coverage=0.9995\n",
      "trainer_interface.cc(520) LOG(INFO) Done! preprocessed 76908 sentences.\n",
      "unigram_model_trainer.cc(139) LOG(INFO) Making suffix array...\n",
      "unigram_model_trainer.cc(143) LOG(INFO) Extracting frequent sub strings...\n",
      "unigram_model_trainer.cc(194) LOG(INFO) Initialized 174340 seed sentencepieces\n",
      "trainer_interface.cc(526) LOG(INFO) Tokenizing input sentences with whitespace: 76908\n",
      "trainer_interface.cc(537) LOG(INFO) Done! 237965\n",
      "unigram_model_trainer.cc(489) LOG(INFO) Using 237965 sentences for EM training\n",
      "unigram_model_trainer.cc(505) LOG(INFO) EM sub_iter=0 size=92555 obj=14.853 num_tokens=523272 num_tokens/piece=5.65363\n",
      "unigram_model_trainer.cc(505) LOG(INFO) EM sub_iter=1 size=82083 obj=13.516 num_tokens=525776 num_tokens/piece=6.40542\n",
      "unigram_model_trainer.cc(505) LOG(INFO) EM sub_iter=0 size=61555 obj=13.5533 num_tokens=546907 num_tokens/piece=8.88485\n",
      "unigram_model_trainer.cc(505) LOG(INFO) EM sub_iter=1 size=61506 obj=13.5101 num_tokens=547350 num_tokens/piece=8.89913\n",
      "unigram_model_trainer.cc(505) LOG(INFO) EM sub_iter=0 size=46126 obj=13.6926 num_tokens=575369 num_tokens/piece=12.4739\n",
      "unigram_model_trainer.cc(505) LOG(INFO) EM sub_iter=1 size=46126 obj=13.6493 num_tokens=575466 num_tokens/piece=12.476\n",
      "unigram_model_trainer.cc(505) LOG(INFO) EM sub_iter=0 size=34594 obj=13.8894 num_tokens=606014 num_tokens/piece=17.5179\n",
      "unigram_model_trainer.cc(505) LOG(INFO) EM sub_iter=1 size=34594 obj=13.8387 num_tokens=606012 num_tokens/piece=17.5178\n",
      "unigram_model_trainer.cc(505) LOG(INFO) EM sub_iter=0 size=25945 obj=14.1301 num_tokens=637532 num_tokens/piece=24.5724\n",
      "unigram_model_trainer.cc(505) LOG(INFO) EM sub_iter=1 size=25945 obj=14.0747 num_tokens=637568 num_tokens/piece=24.5738\n",
      "unigram_model_trainer.cc(505) LOG(INFO) EM sub_iter=0 size=19458 obj=14.4091 num_tokens=670960 num_tokens/piece=34.4825\n",
      "unigram_model_trainer.cc(505) LOG(INFO) EM sub_iter=1 size=19458 obj=14.3468 num_tokens=670999 num_tokens/piece=34.4845\n",
      "unigram_model_trainer.cc(505) LOG(INFO) EM sub_iter=0 size=14593 obj=14.7196 num_tokens=705636 num_tokens/piece=48.3544\n",
      "unigram_model_trainer.cc(505) LOG(INFO) EM sub_iter=1 size=14593 obj=14.648 num_tokens=705645 num_tokens/piece=48.355\n",
      "unigram_model_trainer.cc(505) LOG(INFO) EM sub_iter=0 size=10944 obj=15.0875 num_tokens=741620 num_tokens/piece=67.765\n",
      "unigram_model_trainer.cc(505) LOG(INFO) EM sub_iter=1 size=10944 obj=15.007 num_tokens=741624 num_tokens/piece=67.7654\n",
      "unigram_model_trainer.cc(505) LOG(INFO) EM sub_iter=0 size=8800 obj=15.3757 num_tokens=769363 num_tokens/piece=87.4276\n",
      "unigram_model_trainer.cc(505) LOG(INFO) EM sub_iter=1 size=8800 obj=15.307 num_tokens=769367 num_tokens/piece=87.4281\n",
      "trainer_interface.cc(615) LOG(INFO) Saving model: korean_spm.model\n",
      "trainer_interface.cc(626) LOG(INFO) Saving vocabs: korean_spm.vocab\n"
     ]
    },
    {
     "name": "stdout",
     "output_type": "stream",
     "text": [
      "-rw-r--r-- 1 root root 376816 Feb 25 03:02 korean_spm.model\r\n",
      "-rw-r--r-- 1 root root 146213 Feb 25 03:02 korean_spm.vocab\r\n"
     ]
    }
   ],
   "source": [
    "import sentencepiece as spm\n",
    "import os\n",
    "temp_file = os.getenv('HOME')+'/aiffel/sp_tokenizer/data/korean-english-park.train.ko.temp'\n",
    "\n",
    "vocab_size = 8000\n",
    "\n",
    "with open(temp_file, 'w') as f:\n",
    "    for row in filtered_corpus:   # 이전에 나왔던 정제했던 corpus를 활용해서 진행해야 합니다.\n",
    "        f.write(str(row) + '\\n')\n",
    "\n",
    "spm.SentencePieceTrainer.Train(\n",
    "    '--input={} --model_prefix=korean_spm --vocab_size={}'.format(temp_file, vocab_size)    \n",
    ")\n",
    "#위 Train에서  --model_type = unigram이 디폴트 적용되어 있습니다. --model_type = bpe로 옵션을 주어 변경할 수 있습니다.\n",
    "\n",
    "!ls -l korean_spm*"
   ]
  },
  {
   "cell_type": "markdown",
   "id": "15a97e33",
   "metadata": {},
   "source": [
    "학습된 SentencePiece 토크나이징 예시 결과 확인"
   ]
  },
  {
   "cell_type": "code",
   "execution_count": 22,
   "id": "372c5256",
   "metadata": {},
   "outputs": [
    {
     "name": "stdout",
     "output_type": "stream",
     "text": [
      "[1243, 11, 302, 7, 3608, 11, 287, 38, 3]\n",
      "['▁아버지', '가', '방', '에', '들어', '가', '신', '다', '.']\n",
      "아버지가방에들어가신다.\n"
     ]
    }
   ],
   "source": [
    "s = spm.SentencePieceProcessor()\n",
    "s.Load('korean_spm.model')\n",
    "\n",
    "# SentencePiece를 활용한 sentence -> encoding\n",
    "tokensIDs = s.EncodeAsIds('아버지가방에들어가신다.')\n",
    "print(tokensIDs)\n",
    "\n",
    "# SentencePiece를 활용한 sentence -> encoded pieces\n",
    "print(s.SampleEncodeAsPieces('아버지가방에들어가신다.',1, 0.0))\n",
    "\n",
    "# SentencePiece를 활용한 encoding -> sentence 복원\n",
    "print(s.DecodeIds(tokensIDs))"
   ]
  },
  {
   "cell_type": "markdown",
   "id": "9daa4279",
   "metadata": {},
   "source": [
    "### Step 3. Tokenizer 함수 작성\n",
    "위에서 훈련시킨 SentencePiece를 활용해 위 함수와 유사한 기능을 하는 sp_tokenize() 함수 정의  \n",
    "하지만 SentencePiece가 동작하는 방식이 단순 토큰화와는 달라 완전히 동일하게 정의하기는 어려움 -> 아래 조건 만족하도록\n",
    "1. 매개변수로 토큰화된 문장의 list를 전달하는 대신 온전한 문장의 list 전달\n",
    "2. 생성된 vocab 파일을 읽어와 { <word> : <idx> } 형태를 가지는 word_index 사전과 { <idx> : <word> } 형태를 가지는 index_word 사전을 생성하고 함께 변환\n",
    "3. 리턴값이 tensor는 앞의 함수와 동일하게 토큰화한 후 Encoding된 문장임. 바로 학습에 사용할 수 있도록 Padding 추가"
   ]
  },
  {
   "cell_type": "code",
   "execution_count": 23,
   "id": "bffd1b48",
   "metadata": {},
   "outputs": [],
   "source": [
    "def sp_tokenize(s, corpus): \n",
    "\n",
    "    tensor = []\n",
    "\n",
    "    for sen in corpus:\n",
    "        tensor.append(s.EncodeAsIds(sen))\n",
    "\n",
    "    with open(\"./korean_spm.vocab\", 'r') as f:\n",
    "        vocab = f.readlines()\n",
    "\n",
    "    word_index = {}\n",
    "    index_word = {}\n",
    "\n",
    "    for idx, line in enumerate(vocab):\n",
    "        word = line.split(\"\\t\")[0]\n",
    "\n",
    "        word_index.update({word:idx})\n",
    "        index_word.update({idx:word})\n",
    "\n",
    "    tensor = tf.keras.preprocessing.sequence.pad_sequences(tensor, padding='post')\n",
    "\n",
    "    return tensor, word_index, index_word"
   ]
  },
  {
   "cell_type": "markdown",
   "id": "1325f08d",
   "metadata": {},
   "source": [
    "### Step 4. 네이버 영화리뷰 감정 분석 문제에 SentencePiece 적용\n",
    "네이버 영화리뷰 감정 분석 태스크가 있습니다. 한국어로 된 corpus를 다루어야 하므로 주로 KoNLPy에서 제공하는 형태소 분석기를 사용하여 텍스트를 전처리해서 RNN 모델을 분류기로 사용하게 되는데요.   \n",
    "\n",
    "만약 이 문제에서 tokenizer를 SentencePiece로 바꾸어 다시 풀어본다면 더 성능이 좋아질까요?    \n",
    "KoNLPy에 있는 Mecab, kkma, Okt 등과 비교해보세요.    \n",
    "(여러분들은 fasttext로 사전훈련된 Word Vector를 사용할 수 있지만 sentencepiece와 KoNLPy에 있는 형태소로 모델을 만드는 것보다 코드 수정이 많이 일어납니다. 기본적인 태스크를 끝나고(sentencepiece - KoNLPy 형태소 비교) 도전하시는걸 추천합니다.)    \n",
    "\n",
    "- 네이버 영화리뷰 감정 분석 코퍼스에 SentencePiece를 적용시킨 모델 학습하기    \n",
    "- 학습된 모델로 sp_tokenize() 메소드 구현하기    \n",
    "- 구현된 토크나이저를 적용하여 네이버 영화리뷰 감정 분석 모델을 재학습하기    \n",
    "- KoNLPy 형태소 분석기를 사용한 모델과 성능 비교하기\n",
    "- SentencePiece 모델의 model_type, vocab_size 등을 변경해 가면서 성능 개선 여부 확인하기"
   ]
  },
  {
   "cell_type": "markdown",
   "id": "7497b32f",
   "metadata": {},
   "source": [
    "### 4-1. 네이버 영화리뷰 데이터셋 준비"
   ]
  },
  {
   "cell_type": "code",
   "execution_count": 26,
   "id": "bbe8cc64",
   "metadata": {},
   "outputs": [],
   "source": [
    "# mkdir -p $HOME/aiffel/sp_tokenizer/naver_data  \n",
    "# cd $HOME/aiffel/sp_tokenizer/naver_data\n",
    "# wget https://raw.githubusercontent.com/e9t/nsmc/master/ratings_train.txt\n",
    "# wget https://raw.githubusercontent.com/e9t/nsmc/master/ratings_test.txt"
   ]
  },
  {
   "cell_type": "code",
   "execution_count": 25,
   "id": "739db3ae",
   "metadata": {},
   "outputs": [
    {
     "name": "stdout",
     "output_type": "stream",
     "text": [
      "         id                                           document  label\n",
      "0   9976970                                아 더빙.. 진짜 짜증나네요 목소리      0\n",
      "1   3819312                  흠...포스터보고 초딩영화줄....오버연기조차 가볍지 않구나      1\n",
      "2  10265843                                  너무재밓었다그래서보는것을추천한다      0\n",
      "3   9045019                      교도소 이야기구먼 ..솔직히 재미는 없다..평점 조정      0\n",
      "4   6483659  사이몬페그의 익살스런 연기가 돋보였던 영화!스파이더맨에서 늙어보이기만 했던 커스틴 ...      1\n",
      "        id                                           document  label\n",
      "0  6270596                                                굳 ㅋ      1\n",
      "1  9274899                               GDNTOPCLASSINTHECLUB      0\n",
      "2  8544678             뭐야 이 평점들은.... 나쁘진 않지만 10점 짜리는 더더욱 아니잖아      0\n",
      "3  6825595                   지루하지는 않은데 완전 막장임... 돈주고 보기에는....      0\n",
      "4  6723715  3D만 아니었어도 별 다섯 개 줬을텐데.. 왜 3D로 나와서 제 심기를 불편하게 하죠??      0\n"
     ]
    }
   ],
   "source": [
    "import pandas as pd\n",
    "import os\n",
    "\n",
    "train_file = os.getenv('HOME') + '/aiffel/sp_tokenizer/naver_data/ratings_train.txt'\n",
    "test_file = os.getenv('HOME') + '/aiffel/sp_tokenizer/naver_data/ratings_test.txt'\n",
    "\n",
    "# 데이터 불러오기\n",
    "train_data = pd.read_csv(train_file, sep='\\t')\n",
    "test_data = pd.read_csv(test_file, sep='\\t')\n",
    "\n",
    "# 데이터 확인\n",
    "print(train_data.head())\n",
    "print(test_data.head())\n"
   ]
  },
  {
   "cell_type": "code",
   "execution_count": 27,
   "id": "0892443b",
   "metadata": {},
   "outputs": [
    {
     "name": "stdout",
     "output_type": "stream",
     "text": [
      "전처리 후 학습 데이터 개수: 146183\n",
      "전처리 후 테스트 데이터 개수: 49158\n"
     ]
    }
   ],
   "source": [
    "# 중복 제거\n",
    "train_data.drop_duplicates(subset=['document'], inplace=True)\n",
    "test_data.drop_duplicates(subset=['document'], inplace=True)\n",
    "\n",
    "# 특수 문자 제거 (정규 표현식 사용)\n",
    "train_data['document'] = train_data['document'].str.replace(\"[^ㄱ-ㅎㅏ-ㅣ가-힣 ]\", \"\", regex=True)\n",
    "test_data['document'] = test_data['document'].str.replace(\"[^ㄱ-ㅎㅏ-ㅣ가-힣 ]\", \"\", regex=True)\n",
    "\n",
    "print(f\"전처리 후 학습 데이터 개수: {len(train_data)}\")\n",
    "print(f\"전처리 후 테스트 데이터 개수: {len(test_data)}\")"
   ]
  },
  {
   "cell_type": "code",
   "execution_count": 29,
   "id": "f88526f5",
   "metadata": {},
   "outputs": [
    {
     "name": "stdout",
     "output_type": "stream",
     "text": [
      "문장의 최단 길이: 0\n",
      "문장의 최장 길이: 140\n",
      "문장의 평균 길이: 32\n"
     ]
    },
    {
     "data": {
      "image/png": "[encoded data removed]",
      "text/plain": [
       "<Figure size 720x360 with 1 Axes>"
      ]
     },
     "metadata": {
      "needs_background": "light"
     },
     "output_type": "display_data"
    }
   ],
   "source": [
    "import matplotlib.pyplot as plt\n",
    "\n",
    "\n",
    "# 리뷰 문장 리스트 추출\n",
    "raw_sentences = train_data['document'].dropna().tolist()\n",
    "\n",
    "# 문장 길이 측정\n",
    "min_len = 999\n",
    "max_len = 0\n",
    "sum_len = 0\n",
    "\n",
    "for sen in raw_sentences:\n",
    "    length = len(sen)\n",
    "    if min_len > length: min_len = length\n",
    "    if max_len < length: max_len = length\n",
    "    sum_len += length\n",
    "\n",
    "print(\"문장의 최단 길이:\", min_len)\n",
    "print(\"문장의 최장 길이:\", max_len)\n",
    "print(\"문장의 평균 길이:\", sum_len // len(raw_sentences))\n",
    "\n",
    "# 문장 길이 분포 시각화\n",
    "sentence_length = np.zeros((max_len), dtype=int)\n",
    "\n",
    "for sen in raw_sentences:\n",
    "    sentence_length[len(sen)-1] += 1\n",
    "\n",
    "plt.figure(figsize=(10, 5))\n",
    "plt.bar(range(max_len), sentence_length, width=1.0)\n",
    "plt.title(\"Sentence Length Distribution\")\n",
    "plt.xlabel(\"Sentence Length\")\n",
    "plt.ylabel(\"Count\")\n",
    "plt.show()"
   ]
  },
  {
   "cell_type": "code",
   "execution_count": 30,
   "id": "3822eaa9",
   "metadata": {
    "scrolled": true
   },
   "outputs": [
    {
     "name": "stdout",
     "output_type": "stream",
     "text": [
      "\n",
      "\n",
      "\n",
      "\n",
      "\n",
      "\n",
      "\n",
      "\n",
      "\n",
      "\n",
      "\n",
      "\n",
      "\n",
      "\n",
      "\n",
      "\n",
      "\n",
      "\n",
      "\n",
      "\n",
      "\n",
      "\n",
      "\n",
      "\n",
      "\n",
      "\n",
      "\n",
      "\n",
      "\n",
      "\n",
      "\n",
      "\n",
      "\n",
      "\n",
      "\n",
      "\n",
      "\n",
      "\n",
      "\n",
      "\n",
      "\n",
      "\n",
      "\n",
      "\n",
      "\n",
      "\n",
      "\n",
      "\n",
      "\n",
      "\n",
      "\n",
      "\n",
      "\n",
      "\n",
      "\n",
      "\n",
      "\n",
      "\n",
      "\n",
      "\n",
      "\n",
      "\n",
      "\n",
      "\n",
      "\n",
      "\n",
      "\n",
      "\n",
      "\n",
      "\n",
      "\n",
      "\n",
      "\n",
      "\n",
      "\n",
      "\n",
      "\n",
      "\n",
      "\n",
      "\n",
      "\n",
      "\n",
      "\n",
      "\n",
      "\n",
      "\n",
      "\n",
      "\n",
      "\n",
      "\n",
      "\n",
      "\n",
      "\n",
      "\n",
      "\n",
      "\n",
      "\n",
      "\n",
      "\n",
      "\n",
      "\n"
     ]
    }
   ],
   "source": [
    "check_sentence_with_length(raw_sentences, 0)"
   ]
  },
  {
   "cell_type": "code",
   "execution_count": 31,
   "id": "000dd0e1",
   "metadata": {
    "scrolled": true
   },
   "outputs": [
    {
     "name": "stdout",
     "output_type": "stream",
     "text": [
      "아\n",
      "점\n",
      "잼\n",
      "즐\n",
      "끙\n",
      "와\n",
      "굿\n",
      " \n",
      "굿\n",
      "기\n",
      "짱\n",
      "휴\n",
      "야\n",
      "음\n",
      "ㅎ\n",
      "ㅋ\n",
      "즐\n",
      "굳\n",
      "하\n",
      "네\n",
      "굿\n",
      " \n",
      "굿\n",
      "ㅇ\n",
      "등\n",
      "굿\n",
      " \n",
      "ㅠ\n",
      "굿\n",
      "음\n",
      "짱\n",
      "우\n",
      "쒯\n",
      " \n",
      "아\n",
      "점\n",
      "쩝\n",
      "토\n",
      " \n",
      "즐\n",
      "굿\n",
      "똥\n",
      " \n",
      " \n",
      "굿\n",
      "흠\n",
      " \n",
      " \n",
      "류\n",
      " \n",
      "헐\n",
      "점\n",
      "쩝\n",
      " \n",
      "삼\n",
      "꽝\n",
      " \n",
      "음\n",
      " \n",
      " \n",
      "음\n",
      "굳\n",
      "굿\n",
      " \n",
      "아\n",
      "풉\n",
      "ㅅ\n",
      "아\n",
      "왜\n",
      "ㄴ\n",
      " \n",
      " \n",
      "쉣\n",
      " \n",
      "좇\n",
      "봐\n",
      "굿\n",
      "점\n",
      "까\n",
      "뿌\n",
      "ㅜ\n",
      "자\n",
      "점\n",
      " \n",
      "참\n",
      "ㅁ\n",
      "굿\n",
      "ㅉ\n",
      "잼\n",
      "음\n",
      "흥\n",
      " \n",
      " \n",
      " \n",
      " \n",
      " \n",
      " \n",
      "찜\n",
      " \n",
      " \n",
      "굿\n"
     ]
    }
   ],
   "source": [
    "check_sentence_with_length(raw_sentences, 1)"
   ]
  },
  {
   "cell_type": "code",
   "execution_count": 32,
   "id": "f87273be",
   "metadata": {
    "scrolled": true
   },
   "outputs": [
    {
     "name": "stdout",
     "output_type": "stream",
     "text": [
      "최고\n",
      "졸작\n",
      "대박\n",
      "버려\n",
      "망함\n",
      "굳굳\n",
      "안습\n",
      "대강\n",
      "망작\n",
      "ㅇㅇ\n",
      "쵝오\n",
      "최고\n",
      "별루\n",
      "씐나\n",
      "아오\n",
      "글쎄\n",
      "어휴\n",
      "쓰렉\n",
      "짱짱\n",
      "웃스\n",
      "좋다\n",
      "볼만\n",
      "허접\n",
      "비추\n",
      "좋다\n",
      "ㅎㅎ\n",
      "아나\n",
      "아휴\n",
      "빠닼\n",
      "읭응\n",
      "ㅉㅉ\n",
      "역시\n",
      "만세\n",
      "야동\n",
      "에휴\n",
      "좋다\n",
      "아하\n",
      "별로\n",
      "오오\n",
      "  \n",
      "최고\n",
      "대박\n",
      "에혀\n",
      "평이\n",
      "지루\n",
      "별개\n",
      "오욈\n",
      "ㅋㅋ\n",
      "지송\n",
      "별로\n",
      "하네\n",
      "눈물\n",
      "ㅅ바\n",
      "와우\n",
      "  \n",
      "휴우\n",
      "  \n",
      "쯧쯧\n",
      "당연\n",
      "쩔어\n",
      "별노\n",
      "몰입\n",
      "졸잼\n",
      "씨발\n",
      "구림\n",
      "오짱\n",
      "젠장\n",
      "순수\n",
      "돋네\n",
      "오글\n",
      "이응\n",
      "참나\n",
      "별로\n",
      "좋다\n",
      "좋군\n",
      "코콩\n",
      "멋져\n",
      "첨봄\n",
      "최악\n",
      "어휴\n",
      "잼씀\n",
      "유후\n",
      "달달\n",
      "감동\n",
      "뭘까\n",
      "광구\n",
      "  \n",
      "으리\n",
      "  \n",
      "글자\n",
      "조앙\n",
      "최고\n",
      "잤다\n",
      "표절\n",
      "안습\n",
      "명작\n",
      "최고\n",
      "으휴\n",
      "좋다\n",
      "글쎄\n",
      "뭘봐\n"
     ]
    }
   ],
   "source": [
    "check_sentence_with_length(raw_sentences, 2)"
   ]
  },
  {
   "cell_type": "code",
   "execution_count": 33,
   "id": "d625258c",
   "metadata": {
    "scrolled": true
   },
   "outputs": [
    {
     "name": "stdout",
     "output_type": "stream",
     "text": [
      "별로다\n",
      "좋구나\n",
      "볼만해\n",
      "로큰롤\n",
      "처ㅝ주\n",
      "솔직히\n",
      "   \n",
      "재밌다\n",
      "재밌군\n",
      "좋았다\n",
      "재밌따\n",
      "싸우자\n",
      "재미무\n",
      "보지마\n",
      "   \n",
      "볼만함\n",
      "재밌군\n",
      "재밌다\n",
      "좋았다\n",
      "완점잼\n",
      "재밋네\n",
      "최고다\n",
      "재밌음\n",
      "쓰래기\n",
      "   \n",
      "갑이다\n",
      "죽을래\n",
      "료코짱\n",
      "이건뭐\n",
      "청국장\n",
      "재밌다\n",
      "좋아요\n",
      "ㅋㅋㅋ\n",
      "왜봣지\n",
      "재및음\n",
      "좋아여\n",
      "심하네\n",
      "재미쪙\n",
      "하하하\n",
      "잼난다\n",
      "쓰레기\n",
      "최고다\n",
      "별루 \n",
      "가보자\n",
      "별로야\n",
      "신선함\n",
      "   \n",
      "   \n",
      "즐ㄹㅋ\n",
      "좋아요\n",
      " 가자\n",
      "재밋다\n",
      "아ㅅㅂ\n",
      "쨩이야\n",
      "ㅉㅉㅉ\n",
      "짱이야\n",
      "별론데\n",
      "재밋다\n",
      "최고지\n",
      "지못미\n",
      "나이스\n",
      "남자란\n",
      "전형적\n",
      "원주율\n",
      "좋은테\n",
      "ㅇㅅㅇ\n",
      "보세요\n",
      "잼없다\n",
      "다섯개\n",
      "떡실신\n",
      "접어라\n",
      "쓰중쓰\n",
      "싸우자\n",
      "와잼따\n",
      "이건머\n",
      "기영화\n",
      "재밌다\n",
      "감동ㅋ\n",
      "깨금찡\n",
      "직인다\n",
      "지루해\n",
      "   \n",
      "짱짱짱\n",
      "레전드\n",
      "ㅠㅅㅠ\n",
      "이연걸\n",
      "   \n",
      "별로임\n",
      "진리임\n",
      "감동적\n",
      "재밌어\n",
      "걍 굿\n",
      "아시바\n",
      "지루력\n",
      "팬이다\n",
      "잼있다\n",
      "별로다\n",
      "잼있다\n",
      "잠온다\n",
      "쒸레기\n",
      "의리다\n"
     ]
    }
   ],
   "source": [
    "check_sentence_with_length(raw_sentences, 3)"
   ]
  },
  {
   "cell_type": "code",
   "execution_count": 34,
   "id": "df69899c",
   "metadata": {
    "scrolled": true
   },
   "outputs": [
    {
     "name": "stdout",
     "output_type": "stream",
     "text": [
      "재밋는뎅\n",
      "킬링타임\n",
      "아 빵점\n",
      "연기 굿\n",
      "좋은영화\n",
      "굿 좋아\n",
      "신선하네\n",
      "재밌는데\n",
      "    \n",
      "    \n",
      "ㄵ 점대\n",
      "절대비추\n",
      "구우우웃\n",
      "펑점조절\n",
      "지루하다\n",
      "억지억지\n",
      "목포 붹\n",
      "패륜영화\n",
      "좋은니다\n",
      "재미없다\n",
      "점만들자\n",
      "괜히봤다\n",
      "재미없음\n",
      "지루하다\n",
      "재미없다\n",
      "시시하다\n",
      "완벽하다\n",
      "장난치냐\n",
      "몰떡몰떡\n",
      "이건뭥미\n",
      "잼슴ㅇㅎ\n",
      "짠하네요\n",
      "기대된디\n",
      "실망이다\n",
      "보고싶다\n",
      "볼만해요\n",
      "사랑한다\n",
      "감동ㅜㅜ\n",
      "나도별로\n",
      "뭥미 헐\n",
      "추억돋네\n",
      "좋았어요\n",
      "재밌어요\n",
      "좋은영화\n",
      "어이상실\n",
      "볼만했음\n",
      "평점조절\n",
      "별로네요\n",
      "자자자자\n",
      "재밋어요\n",
      "잼있어요\n",
      "돈아깝다\n",
      "미치겠다\n",
      "알파치노\n",
      "명작ㅎㅎ\n",
      "어이없다\n",
      "재밌나여\n",
      "눈물나다\n",
      "굿입니당\n",
      "옥빈님짱\n",
      "재밌어요\n",
      "과연ㅋㅋ\n",
      "넌센스다\n",
      "피크타임\n",
      "아들은 \n",
      "재밌었죠\n",
      "중국이지\n",
      "시시하네\n",
      "따분하다\n",
      "언제꺼임\n",
      "화가난다\n",
      "별로였음\n",
      "뭐냐이게\n",
      "개쩔었다\n",
      "그지같다\n",
      "재미없네\n",
      "안무섭다\n",
      "훈훈하당\n",
      "    \n",
      "아임낫뎃\n",
      "푹 잤음\n",
      "재밌네요\n",
      "별로던데\n",
      "괜찬았음\n",
      "안과 겉\n",
      "참쩔어요\n",
      "재 밌다\n",
      "좋습니다\n",
      "괜찬군요\n",
      "재밌네 \n",
      "걍 평작\n",
      "짜증나서\n",
      "괜찮았음\n",
      "명작이다\n",
      "재밋구만\n",
      "공블리짱\n",
      "이정시러\n",
      "ㅡㅡ 네\n",
      "코믹인가\n",
      "잼나ㅎㅎ\n",
      "완전좋아\n"
     ]
    }
   ],
   "source": [
    "check_sentence_with_length(raw_sentences, 4)"
   ]
  },
  {
   "cell_type": "code",
   "execution_count": 35,
   "id": "e3ca25a1",
   "metadata": {},
   "outputs": [
    {
     "name": "stdout",
     "output_type": "stream",
     "text": [
      "아 진짜 조금만 더 손 좀 보면 왠만한 상업 영화 못지 않게 퀄리티 쩔게 만들어 질 수 있었는데 아쉽네요 그래도 충분히 재미있었습니다 개인적으로 조금만 더 잔인하게 더 자극적으로 노출씬도 화끈하게 했더라면 어땠을까 하는 국산영화라 많이 아낀 듯 보임\n",
      "빵점이네요 다격거봣는데영어도몰라요배운것도없어요학교다닐때놀기만했어요공부가싫었어요왕따만당했어요결국우울증걸리고 화병과우울증으로 타락으로전락하여집에서아이안나옵니다그리고자살하던지범죄를이르켜서감옥갑니다그리고한명만결혼해서꼴인하고도이혼하는사람도있습니다결혼하고도자살\n",
      "중국의 어거지 로마 마을 광관홍보영화 중국에 있는 저 로마마을에 가면 로마에 있는 돈 받고 같이 사진찍어주는 로마병사코스프레를 따라한 중국할배들이 돌아다님 ㅋ 실화는 개뿔 학자들에 의하면 로마인들이 저 지역에 단체이주해 살았다는 역사적 근거는 전무함\n",
      "개콘빠들 빼곤 알거다 밤바야때 부터 이어진 개콘이 웃찿사한테 밀렸던 시절보다 더더욱 최악으로 떨어졌다 얼굴로 미는 개그 유행어만 미는 개그 광고를 찍으려고 하는 개그들이 눈에 보이는 개콘 도대체 서수민은 얼마나 높길래 이따구로 만들어놓고 잘리질않는가\n",
      "이딴걸드라마라고썼냐 수습할수없으면걍친자녀아니면되고 간단하네 얼굴을바꿨으면 결말이라도잘정리하던가 가족땜에 밥먹을때할수없이보는데 토나올것같아서밥도못먹는다 볼때마다 오프닝이며대사며 하나하나유치하고어이가없어서웃는다ㅋㅋㅋㅋ제발빨리끝나고 더이상이딴드라마쓰지마라\n",
      "보다가 어처구니가 없어서 존쿠삭이나 애드리안브로디 를 삼류로 만드는 감독의 능력 일단 각본이 말이 안되는게 너무 많다 성룡이 어렸을때 자기 동생 우는걸 막다가 죽이고 또 그거에 분해서 장군을 칼로 찌른거 맞지 사실 그냥 틀어놓고 자꾸 딴일을 하게돼서\n",
      "돈이걸리니깐 연예인들도 본성 나오네요 김풍씨 여기서 첨봤는데 당신 인간성에 매우 놀랍네요 김구라 면전에 대고 좋다고소리지르고 ㅉㅉ 지가 그렇게 붙던 홍진호 떨어지게 생겼는데 글케 분위기 파악 못하나 검색하니깐 하고다니는짓도 또라이드만 면상부터 재섭음\n",
      "정당화시킬려고 막판에 다시 도 바람피웠던걸로 포장 해서 각자각자 어울리는사람과사는걸로 마무리된것같은데 초반에 덱스가 레이첼이랑 바람난거볼때 욕이수두룩하게나 왔음 그뒤로 레이첼의모든게 가식적이고 얄미움 뺏을껀다뺏고 착한척ㅋㅋ 이런친구사귈까봐 무서운영화\n",
      "까메오가 너무 화려해서 깜놀ㅋㅋㅋ 근데 이번 비욘세는 이쁜게 다여야 하는 본드걸 치고 너무 캐릭이 강해서 개인적으론 별로드라 기본적으로 오스틴 파워는 원맨쇼가 웃긴건데ㅎㅎ 세스 그린이 좋은데 비중이 좀 더 많았으면 좋을걸ㅎㅎ 미니미는 무슨 강철같다ㅋ\n",
      "한번도 이런 평점 달아본적이 없는데 진짜 이 영화만큼은 남기고 싶네요 잠자고 있는 그리고 게으르고 겁많은 우리의 모습을 전복시키는 영화입니다 많은 인간중 하나지만 살기 위해서 살아가는 빈센트의 모습은 우리에게 깨달음을 줍니다 꼭 보십시오 인생영화입다\n",
      "유덕화 영화 중 최고라고 생각하는 영화입니다 무간도를 뺠 수 없지만 정말 남자가 여자를 사랑하는그 장면을 너무나도 잘 표현했고 영화 마지막 자살한 아령에게 가려고 머리와 옷을 고쳐입는 장면을 보며 유덕화라는 배우의 최고 잘생긴 모습을 볼 수 있습니다\n",
      "ㅋㅋㅋㅋ기대하고갓는데 아역배우목소리 애니메이션 같아서 전혀 집중이 안되고 진부한스토리에 억지감동 끌려고 비지엠만 주구장창 틀어놧네요 되게 사소한거에도 잘울고 슬퍼하는데 오늘은 영 하품만 하다나옴 그리고 송혜교볼때마다 저 얼굴뒤에 탈세한 그얼굴이보엿음\n",
      "평소 애청자였지만 아무리 그래도 한국 방송에 기미가요를 틀었다는건 정말 있을수 없는 일이다 제작진들 정말 반성 한다면 양심껏 프로그램 폐지하세요 이 프로그램 좋아했던 애청자로써 정말 실망스럽고 한국 방송에서 기미가요가 울려 퍼졌다는게 너무 창피하네요\n",
      "언제까지 집밥소재방송을 봐야하는건가요 집밥이라는 컨셉이 무색할정도로 현실성이 떨어집니다 또한 모델하우스같은 연예인집 구경도 한두번이지 계속보자니 짜증납니다 좋아하는 연예인이 나온다고 봐주는것도 여기까지입니다 더이상은 시청자를 우습게보지말기를 바랍니다\n",
      "너무나많은 동물들 사람이동물보다 못한사람도있다 동물들이상처받고살아가지만 이방송은하지말아주세요 왜야면요하지안은것도방송보고따라하는습성이있지요인간들이 그레서애완동물들이 치료목적으로사용할수있는방법만남기고 일반인은자재하면좋으련만 너도나도키우다버리고 방송자제좀\n",
      "죽은 친구대신 바수밀다가 된다는 허접한 논리에 빠진 내용 강간이나 성범죄가 정당화 될수없는 것처럼 고교생의 원조교제가 정당화가 될수 없다고 생각한다 상업성에 대해 욕하지만 돈을 주고 봐야하는 관객입장으로 흥행에 항상 실패했던 김기덕감독의 영화중 하나\n",
      "트루맛쇼는 평점이 높고 이영화는 평점이 낮은데 정치적이냐 아니냐다 표몰이 선동질이라고 하는데 이런 영화보고 자기가 지지하는 정치세력이 바뀌나 이영화에 마지막부분에 나오는 아줌마의 이야기를 봐라 그래도 박근혜는 이명박과 다를거라고 말한다 그게 현실이다\n",
      "영화의장르가 애매한영화 주인공의 성장물이라기엔 애가 크다말앗고 액션물이라기에는 풍부하지못한액션 개싸움을 가르치는듯한영화 정작 스승이란놈은 뼈뿌러트리고 칼로찌르는것밖에안보여줌 게다가 결말을 멋잇게 포장하지만 그저추잡하다 결국멋잇는건 기웅씨의 미친얼굴뿐\n",
      "폭력으로 인한 분노를 참아내고 죽음에 대한 두려움을 극복했던 그의 모습이 지금까지 인정되고 존중받으며 기억되고 있다는 점에서 찬란한 역사로 기록되었다는 점에서 그의 위업은 우리에게 귀감이되고 감동받게 한다는 데에 그 누구도 이의가 없을것이라 생각한다\n",
      "난 무신론자이지만 종교인들의 말도 일리가 있다고 생각하는 편이다 누굴 믿어서 마음이 편해진다면 그걸로 된것 아닌가 하지만 강요는 싫어한다 이영화는 처음에는 아닌듯 하다가 점점 믿음을 강요시킨다 마지막에는 보복성죽음까지 어이없더라 예수천국 불신지옥인가\n",
      "김근태 전 장관님 수기 보면 고문 받을때 칠성판에 묶여서 하두 몸부림쳐 발목에 흉터가 생겨서 생긴 딱지를 재판 구금 중에 증거로 쓸려고 몰래 가지고 있었는데 간수들이 와서 뺏어갔다는거 보고 저 시대는 정말 말도 안되는 시대였구나라는 것을 알게 되었음\n",
      "별 개도아깝고 별 그지같고 왠만하면 이런말안적지만 너무 잔인해서 안젤리나졸리임신중 칼이꽂히는거 정말잔인하고 잔혹 끔찍해서 다른이들 이딴거지같은영화에 피해보지않길바래적는데 이딴그지괴기같은영화우연히라도보기싫으니채널돌리다 너무 끔찍하니까 상영을말기를바라며\n",
      "나만 당할순 없다 ㅋㅋㅋㅋㅋㅋㅋㅋㅋㅋㅋㅋㅋㅋㅋㅋㅋㅋㅋㅋㅋㅋㅋㅋㅋㅋㅋㅋㅋㅋㅋㅋㅋㅋㅋㅋㅋㅋㅋㅋㅋㅋㅋㅋㅋㅋㅋㅋㅋㅋㅋㅋㅋㅋㅋㅋㅋㅋㅋㅋㅋㅋㅋㅋㅋㅋㅋㅋㅋㅋㅋㅋㅋㅋㅋㅋㅋㅋㅋㅋㅋㅋㅋㅋㅋㅋㅋㅋㅋㅋㅋㅋㅋㅋㅋㅋㅋㅋㅋㅋㅋㅋㅋㅋㅋㅋㅋㅋㅋㅋㅋㅋㅋㅋㅋㅋㅋㅋㅋㅋㅋㅋㅋㅋㅋㅋㅋㅋㅋ\n",
      "세쌍둥이 팬들 이기적이네요 세쌍둥이 인기가 얼마나 많은지는 몰라도 쌍둥이네 없었으면 슈돌 제작 들어가지도 못하고 사랑이네 없어으면 편성받지도 지금까지 오지도못해요 쌍둥이네 사랑이네가 빠지면 슈돌도 끝인데 세쌍둥이만보고 다른가족한테 하차하라고 하지마요\n",
      "초반에 키자루랑 대등하게 싸웠던 제트가 루피한테 너무 쉽게지네요 스트롱월드도 어떻게 루피가 시키한테 이기나싶을정도의 전설의해적였는데 루피가 이겨서 어이없었는데 전 해군대장을 루피가 이기다니 아무리 나이가 많더라도 설정파괴라고밖에 생각이 안들어서 비추\n",
      "리허설하긴함생방송이벅차면대본대로하던가ㅋ영화더테러보는줄나까지급박해서ㅋ시간분배도안되있고승리김준호김대희한테기본적으로게스트에대한예의는지켜줘야되는거아닌가ㅋ뭔말만하면쳐자르고막말하고김준호보고자빠져가뭐야예의없게ㅋ무슨엠씨가게스트보다말이많아ㅋ승리해명도쳐자르고앨범홍본ㅋ\n",
      "소재가 이랬어도 그 속에서도 삶에 대해 진정 하고자 하는 말이 담겨있는 영화일거라 생각했는데 그냥 가슴쳐진 백인 여자들이 돈주고 부른 젊은 흑인남자 거시기 세우려 경쟁하는 장면에 제일 공들인 영화뿌옇게 모자이크된 남자 거시기가 역겹도록 지겹게 나올뿐\n",
      "평점이 낮아도 사토시 하정우가 만났다는것 하나만으로 믿고 봤는데 왜 평점이 이지경인지 알 수 있었던 사토시 한국어 발음도 너무 안 좋고 감독이 이상한 주문을 했는지 하정우 연기도 좀 어색했고 전체적으로 독립영화느낌이 나는 스토리가 너무 뜨는 영화였던\n",
      "승리는에피소드준비햇다하면서엠씨들은주구장창스캔들얘기만물어보고또엠씨들이포장식으로하면서계속물어보는데생방송인데대답을안할수도없고웃고있지만말더듬거리고당황하는몇몇질문들이보였다이게도대체뭔가요컴백후처음나온예능에질문할게그거밖에없나요승리를화신이슈거리로쓸려고이용한것만같다\n",
      "목소리 들으면 다 아는것을 헛짓거리 하는 웃긴영화 ㅋㅋ 거기다가 여자주인공 졸라 걸래 무슨 남자를 바로 교체 하는 저렴한 몸뚱아리를 보여주노 아님 여자란 동물이 원래 그런건가 졸라 추잡스럽고 드러운 느낌의 영화 여자에 대해 다시 생각해보게 만든 영화\n",
      "이런 드라마는 근절 됭어야 한다고 생각합니다 작가가되었으면 돈 몇푼 벌자고 국민들의 의식에 찬물을 끼얹으면 안된다고 봅니다 이런 드라마를 어릴적부터 달고사니 애들의 일탈이 일어나고 무슨 이혼을 당연하게해도 되는것마냥 착각하는거 아닌가 방통위 일좀하자\n",
      "태평양전쟁 당시의 새로운 관점들을 보여주는 신선한 면도 있지만 그게 너무 작위적으로 부각되고 또 정리되지 않는 너무 개인적인 감성적 상념들이 나열되는 점에서 공감하기 힘들고 지루하며 취향에 안맞음 사실주의적 연출 또한 특출난게 없고 유명배우단체등장용\n",
      "시청률을높이기위해재미있다고한다지만연애인들이야돈받고연기하는것이지만이건군대의질을떨어트리고장난하는것같은군대라고할수밖에없다고볼수있네요지금북한에선우리시민들을노리고전쟁에만전준비하고있는데군인의질만떨어트리고돈받고연출하는느깜만드는프로라고만할수밖에없네요점주기도아깝내요\n",
      "너무좋고여기나오는 엘리 패닝과 찰리 로우 정말연기도잘하고 너무 멋지고 예쁜것 같아요 두 배우가 어렸을때 찍은 거라고 하던데 어떻게 저런연기가 나오는지 모르겠어요 암튼 덕분에 동심으로 돌아간것 같아요 마지막에 여주가 호두까기랑 해어질떼 저 정말 눈물이\n",
      "쓰레기영화 보는내내 암걸리는줄 도망가는대 소리지르고 라이트키고 가면 나라도 다알고 쫒아가겠다 조용히 할때를 모르고 떠들고 싸우고 환장ㅡㅡ 방사능의 위험성이나 정부가 돌연변이를 덮고 심오한 의미전달 개연성없고 불친절한영화 이걸본 내 시간이 너무 아까움\n",
      "와 ㅋㅋㅋ 새벽에 티비에서 틀어줬는데 개진심 쓰레기영화였다 감독 뺨때리고 싶은 영화는 이게처음이다 제목보고 뭔가 있는가 기대했는데 수염거무튀튀한 백정색휘 돼지멱따는 고함지르는데 개 주겨버리고싶은 충동 ㄷㄷ했음 아 어떤생각으로 저런 영화를 만들지 레알\n",
      "첨엔 긴장됫다 근데 갈수록 막장이고 주원하고 박보영은 무슨죄냐 그리고 귀신역 누구냐 아 짜증나네 박보영을 죽일라하네 와 무섭지도않고 이건 걍 내가본 공포영화중 무서움은 없고 짜증난다 박보영 팬이거나 주원팬이면 보지마라 짜증만 난다 귀신 죽여버리고싶다\n",
      "이거 평점 높은건 딱 게이들과 동인녀들의 몰표때문임을 확실히 알겠다 진부한 시나리오 개판오분 연기력 뻔하디 뻔한 연출력 퀴어영화도 잘 만든 건 여운남고 성소수자에대한 이해심이 생기기도하는데 이영화는 참 언제 끝나나 생각만 들었다 하이틴로맨스 게이버전\n"
     ]
    }
   ],
   "source": [
    "check_sentence_with_length(raw_sentences, 139)"
   ]
  },
  {
   "cell_type": "markdown",
   "id": "ccf927ae",
   "metadata": {},
   "source": [
    "문장 길이가 1이라도 리뷰의 의미가 있을 수 있으니 0인 것만 제거"
   ]
  },
  {
   "cell_type": "code",
   "execution_count": 38,
   "id": "a810f0ff",
   "metadata": {},
   "outputs": [
    {
     "name": "stdout",
     "output_type": "stream",
     "text": [
      "필터링 후 학습 데이터 개수: 145791\n",
      "필터링 후 테스트 데이터 개수: 48995\n"
     ]
    }
   ],
   "source": [
    "# 결측값(NaN) 제거\n",
    "train_data = train_data.dropna(subset=['document']).copy()\n",
    "test_data = test_data.dropna(subset=['document']).copy()\n",
    "\n",
    "# 문장 길이 필터링 (NaN 방지)\n",
    "filtered_train_data = train_data[train_data['document'].apply(lambda x: 1 <= len(str(x)) <= 140)].copy()\n",
    "filtered_test_data = test_data[test_data['document'].apply(lambda x: 1 <= len(str(x)) <= 140)].copy()\n",
    "\n",
    "print(f\"필터링 후 학습 데이터 개수: {len(filtered_train_data)}\")\n",
    "print(f\"필터링 후 테스트 데이터 개수: {len(filtered_test_data)}\")\n"
   ]
  },
  {
   "cell_type": "markdown",
   "id": "4ab70e74",
   "metadata": {},
   "source": [
    "SentencePiece 학습 위한 corpus 준비"
   ]
  },
  {
   "cell_type": "code",
   "execution_count": 39,
   "id": "6c53135b",
   "metadata": {},
   "outputs": [
    {
     "name": "stdout",
     "output_type": "stream",
     "text": [
      "학습용 corpus 저장 완료: /aiffel/aiffel/sp_tokenizer/data/nsmc_corpus.txt\n"
     ]
    }
   ],
   "source": [
    "import os\n",
    "\n",
    "# 저장 경로 설정\n",
    "temp_file = os.getenv('HOME')+'/aiffel/sp_tokenizer/data/nsmc_corpus.txt'\n",
    "\n",
    "# SentencePiece 학습용 코퍼스 저장\n",
    "with open(temp_file, 'w', encoding='utf-8') as f:\n",
    "    for sentence in filtered_train_data['document']:\n",
    "        f.write(sentence.strip() + '\\n')\n",
    "\n",
    "print(f\"학습용 corpus 저장 완료: {temp_file}\")\n"
   ]
  },
  {
   "cell_type": "code",
   "execution_count": 40,
   "id": "b0ccc893",
   "metadata": {},
   "outputs": [
    {
     "name": "stdout",
     "output_type": "stream",
     "text": [
      "아 더빙 진짜 짜증나네요 목소리\r\n",
      "흠포스터보고 초딩영화줄오버연기조차 가볍지 않구나\r\n",
      "너무재밓었다그래서보는것을추천한다\r\n",
      "교도소 이야기구먼 솔직히 재미는 없다평점 조정\r\n",
      "사이몬페그의 익살스런 연기가 돋보였던 영화스파이더맨에서 늙어보이기만 했던 커스틴 던스트가 너무나도 이뻐보였다\r\n"
     ]
    }
   ],
   "source": [
    "!head -n 5 $HOME/aiffel/sp_tokenizer/data/nsmc_corpus.txt\n"
   ]
  },
  {
   "cell_type": "markdown",
   "id": "8058f1d2",
   "metadata": {},
   "source": [
    "### 4-2. SentencePiece 학습 및 토크나이저(sp_tokenize) 구현"
   ]
  },
  {
   "cell_type": "markdown",
   "id": "3f2bce9c",
   "metadata": {},
   "source": [
    "#### SentencePiece 학습"
   ]
  },
  {
   "cell_type": "code",
   "execution_count": 41,
   "id": "0963739f",
   "metadata": {},
   "outputs": [
    {
     "name": "stdout",
     "output_type": "stream",
     "text": [
      "SentencePiece 학습 완료\n"
     ]
    },
    {
     "name": "stderr",
     "output_type": "stream",
     "text": [
      "sentencepiece_trainer.cc(177) LOG(INFO) Running command: --input=/aiffel/aiffel/sp_tokenizer/data/nsmc_corpus.txt --model_prefix=/aiffel/aiffel/sp_tokenizer/data/nsmc_spm --vocab_size=8000 --model_type=unigram\n",
      "sentencepiece_trainer.cc(77) LOG(INFO) Starts training with : \n",
      "trainer_spec {\n",
      "  input: /aiffel/aiffel/sp_tokenizer/data/nsmc_corpus.txt\n",
      "  input_format: \n",
      "  model_prefix: /aiffel/aiffel/sp_tokenizer/data/nsmc_spm\n",
      "  model_type: UNIGRAM\n",
      "  vocab_size: 8000\n",
      "  self_test_sample_size: 0\n",
      "  character_coverage: 0.9995\n",
      "  input_sentence_size: 0\n",
      "  shuffle_input_sentence: 1\n",
      "  seed_sentencepiece_size: 1000000\n",
      "  shrinking_factor: 0.75\n",
      "  max_sentence_length: 4192\n",
      "  num_threads: 16\n",
      "  num_sub_iterations: 2\n",
      "  max_sentencepiece_length: 16\n",
      "  split_by_unicode_script: 1\n",
      "  split_by_number: 1\n",
      "  split_by_whitespace: 1\n",
      "  split_digits: 0\n",
      "  treat_whitespace_as_suffix: 0\n",
      "  allow_whitespace_only_pieces: 0\n",
      "  required_chars: \n",
      "  byte_fallback: 0\n",
      "  vocabulary_output_piece_score: 1\n",
      "  train_extremely_large_corpus: 0\n",
      "  hard_vocab_limit: 1\n",
      "  use_all_vocab: 0\n",
      "  unk_id: 0\n",
      "  bos_id: 1\n",
      "  eos_id: 2\n",
      "  pad_id: -1\n",
      "  unk_piece: <unk>\n",
      "  bos_piece: <s>\n",
      "  eos_piece: </s>\n",
      "  pad_piece: <pad>\n",
      "  unk_surface:  ⁇ \n",
      "}\n",
      "normalizer_spec {\n",
      "  name: nmt_nfkc\n",
      "  add_dummy_prefix: 1\n",
      "  remove_extra_whitespaces: 1\n",
      "  escape_whitespaces: 1\n",
      "  normalization_rule_tsv: \n",
      "}\n",
      "denormalizer_spec {}\n",
      "trainer_interface.cc(329) LOG(INFO) SentenceIterator is not specified. Using MultiFileSentenceIterator.\n",
      "trainer_interface.cc(178) LOG(INFO) Loading corpus: /aiffel/aiffel/sp_tokenizer/data/nsmc_corpus.txt\n",
      "trainer_interface.cc(385) LOG(INFO) Loaded all 145393 sentences\n",
      "trainer_interface.cc(400) LOG(INFO) Adding meta_piece: <unk>\n",
      "trainer_interface.cc(400) LOG(INFO) Adding meta_piece: <s>\n",
      "trainer_interface.cc(400) LOG(INFO) Adding meta_piece: </s>\n",
      "trainer_interface.cc(405) LOG(INFO) Normalizing sentences...\n",
      "trainer_interface.cc(466) LOG(INFO) all chars count=4944911\n",
      "trainer_interface.cc(477) LOG(INFO) Done: 99.95% characters are covered.\n",
      "trainer_interface.cc(487) LOG(INFO) Alphabet size=1550\n",
      "trainer_interface.cc(488) LOG(INFO) Final character coverage=0.9995\n",
      "trainer_interface.cc(520) LOG(INFO) Done! preprocessed 145393 sentences.\n",
      "unigram_model_trainer.cc(139) LOG(INFO) Making suffix array...\n",
      "unigram_model_trainer.cc(143) LOG(INFO) Extracting frequent sub strings...\n",
      "unigram_model_trainer.cc(194) LOG(INFO) Initialized 317695 seed sentencepieces\n",
      "trainer_interface.cc(526) LOG(INFO) Tokenizing input sentences with whitespace: 145393\n",
      "trainer_interface.cc(537) LOG(INFO) Done! 299292\n",
      "unigram_model_trainer.cc(489) LOG(INFO) Using 299292 sentences for EM training\n",
      "unigram_model_trainer.cc(505) LOG(INFO) EM sub_iter=0 size=154308 obj=13.9864 num_tokens=624105 num_tokens/piece=4.04454\n",
      "unigram_model_trainer.cc(505) LOG(INFO) EM sub_iter=1 size=142006 obj=13.0761 num_tokens=627169 num_tokens/piece=4.4165\n",
      "unigram_model_trainer.cc(505) LOG(INFO) EM sub_iter=0 size=106439 obj=13.1581 num_tokens=658989 num_tokens/piece=6.19124\n",
      "unigram_model_trainer.cc(505) LOG(INFO) EM sub_iter=1 size=106198 obj=13.1042 num_tokens=659398 num_tokens/piece=6.20914\n",
      "unigram_model_trainer.cc(505) LOG(INFO) EM sub_iter=0 size=79643 obj=13.3211 num_tokens=698587 num_tokens/piece=8.77148\n",
      "unigram_model_trainer.cc(505) LOG(INFO) EM sub_iter=1 size=79634 obj=13.2608 num_tokens=698754 num_tokens/piece=8.77457\n",
      "unigram_model_trainer.cc(505) LOG(INFO) EM sub_iter=0 size=59725 obj=13.498 num_tokens=735665 num_tokens/piece=12.3175\n",
      "unigram_model_trainer.cc(505) LOG(INFO) EM sub_iter=1 size=59725 obj=13.4376 num_tokens=735673 num_tokens/piece=12.3177\n",
      "unigram_model_trainer.cc(505) LOG(INFO) EM sub_iter=0 size=44793 obj=13.7112 num_tokens=774873 num_tokens/piece=17.299\n",
      "unigram_model_trainer.cc(505) LOG(INFO) EM sub_iter=1 size=44793 obj=13.6487 num_tokens=774896 num_tokens/piece=17.2995\n",
      "unigram_model_trainer.cc(505) LOG(INFO) EM sub_iter=0 size=33594 obj=13.9502 num_tokens=814972 num_tokens/piece=24.2595\n",
      "unigram_model_trainer.cc(505) LOG(INFO) EM sub_iter=1 size=33594 obj=13.8865 num_tokens=814956 num_tokens/piece=24.259\n",
      "unigram_model_trainer.cc(505) LOG(INFO) EM sub_iter=0 size=25195 obj=14.2185 num_tokens=855998 num_tokens/piece=33.9749\n",
      "unigram_model_trainer.cc(505) LOG(INFO) EM sub_iter=1 size=25195 obj=14.1493 num_tokens=856090 num_tokens/piece=33.9786\n",
      "unigram_model_trainer.cc(505) LOG(INFO) EM sub_iter=0 size=18896 obj=14.5122 num_tokens=899658 num_tokens/piece=47.611\n",
      "unigram_model_trainer.cc(505) LOG(INFO) EM sub_iter=1 size=18896 obj=14.4347 num_tokens=899747 num_tokens/piece=47.6157\n",
      "unigram_model_trainer.cc(505) LOG(INFO) EM sub_iter=0 size=14172 obj=14.8297 num_tokens=944864 num_tokens/piece=66.6712\n",
      "unigram_model_trainer.cc(505) LOG(INFO) EM sub_iter=1 size=14172 obj=14.7422 num_tokens=944875 num_tokens/piece=66.672\n",
      "unigram_model_trainer.cc(505) LOG(INFO) EM sub_iter=0 size=10629 obj=15.1831 num_tokens=993298 num_tokens/piece=93.4517\n",
      "unigram_model_trainer.cc(505) LOG(INFO) EM sub_iter=1 size=10629 obj=15.0777 num_tokens=993452 num_tokens/piece=93.4662\n",
      "unigram_model_trainer.cc(505) LOG(INFO) EM sub_iter=0 size=8800 obj=15.3793 num_tokens=1025495 num_tokens/piece=116.534\n",
      "unigram_model_trainer.cc(505) LOG(INFO) EM sub_iter=1 size=8800 obj=15.3119 num_tokens=1025685 num_tokens/piece=116.555\n",
      "trainer_interface.cc(615) LOG(INFO) Saving model: /aiffel/aiffel/sp_tokenizer/data/nsmc_spm.model\n",
      "trainer_interface.cc(626) LOG(INFO) Saving vocabs: /aiffel/aiffel/sp_tokenizer/data/nsmc_spm.vocab\n"
     ]
    }
   ],
   "source": [
    "import sentencepiece as spm\n",
    "\n",
    "# 학습된 모델이 저장될 파일명 설정\n",
    "model_prefix = os.getenv('HOME') + '/aiffel/sp_tokenizer/data/nsmc_spm'\n",
    "\n",
    "# SentencePiece 학습 실행\n",
    "spm.SentencePieceTrainer.Train(\n",
    "    f'--input={temp_file} --model_prefix={model_prefix} --vocab_size=8000 --model_type=unigram'\n",
    ")\n",
    "\n",
    "print(\"SentencePiece 학습 완료\")\n"
   ]
  },
  {
   "cell_type": "code",
   "execution_count": 42,
   "id": "92c5dbed",
   "metadata": {},
   "outputs": [
    {
     "name": "stdout",
     "output_type": "stream",
     "text": [
      "-rw-r--r-- 1 root root 369K Feb 25 05:42 /aiffel/aiffel/sp_tokenizer/data/nsmc_spm.model\r\n",
      "-rw-r--r-- 1 root root 144K Feb 25 05:42 /aiffel/aiffel/sp_tokenizer/data/nsmc_spm.vocab\r\n"
     ]
    }
   ],
   "source": [
    "!ls -lh $HOME/aiffel/sp_tokenizer/data/nsmc_spm*\n"
   ]
  },
  {
   "cell_type": "markdown",
   "id": "c372e0f1",
   "metadata": {},
   "source": [
    "#### SentencePiece 모델 로드"
   ]
  },
  {
   "cell_type": "code",
   "execution_count": 43,
   "id": "8459ca8b",
   "metadata": {},
   "outputs": [
    {
     "name": "stdout",
     "output_type": "stream",
     "text": [
      "토큰 ID: [19, 5, 21, 1144, 0]\n",
      "토큰화된 문장: ['▁이', '▁영화', '▁정말', '▁재미있다', '!']\n"
     ]
    }
   ],
   "source": [
    "import sentencepiece as spm\n",
    "import os\n",
    "\n",
    "# 학습된 SentencePiece 모델 로드\n",
    "model_path = os.getenv('HOME') + '/aiffel/sp_tokenizer/data/nsmc_spm.model'\n",
    "s = spm.SentencePieceProcessor()\n",
    "s.Load(model_path)\n",
    "\n",
    "# 테스트 문장\n",
    "test_sentence = \"이 영화 정말 재미있다!\"\n",
    "print(\"토큰 ID:\", s.EncodeAsIds(test_sentence))\n",
    "print(\"토큰화된 문장:\", s.EncodeAsPieces(test_sentence))\n"
   ]
  },
  {
   "cell_type": "markdown",
   "id": "77815e61",
   "metadata": {},
   "source": [
    "#### sp_tokenize() 함수 구현"
   ]
  },
  {
   "cell_type": "code",
   "execution_count": 44,
   "id": "7bb3c193",
   "metadata": {},
   "outputs": [],
   "source": [
    "import tensorflow as tf\n",
    "\n",
    "def sp_tokenize(s, corpus): \n",
    "    tensor = []\n",
    "\n",
    "    # 문장을 토큰 ID 리스트로 변환\n",
    "    for sen in corpus:\n",
    "        tensor.append(s.EncodeAsIds(sen))\n",
    "\n",
    "    # 단어-인덱스 매핑 생성\n",
    "    vocab_file = os.getenv('HOME') + '/aiffel/sp_tokenizer/data/nsmc_spm.vocab'\n",
    "\n",
    "    with open(vocab_file, 'r', encoding='utf-8') as f:\n",
    "        vocab = f.readlines()\n",
    "\n",
    "    word_index = {}\n",
    "    index_word = {}\n",
    "\n",
    "    for idx, line in enumerate(vocab):\n",
    "        word = line.split(\"\\t\")[0]  # 단어 추출\n",
    "\n",
    "        word_index.update({word: idx})  # 단어 -> 인덱스 매핑\n",
    "        index_word.update({idx: word})  # 인덱스 -> 단어 매핑\n",
    "\n",
    "    # 패딩 적용\n",
    "    tensor = tf.keras.preprocessing.sequence.pad_sequences(tensor, padding='post')\n",
    "\n",
    "    return tensor, word_index, index_word\n"
   ]
  },
  {
   "cell_type": "markdown",
   "id": "78056b7d",
   "metadata": {},
   "source": [
    "#### sp_tokenize() 함수 테스트"
   ]
  },
  {
   "cell_type": "code",
   "execution_count": 45,
   "id": "418ded34",
   "metadata": {},
   "outputs": [
    {
     "name": "stdout",
     "output_type": "stream",
     "text": [
      "Tokenized Tensor: [[  19    5   21 1366    0]\n",
      " [ 116  383  871    0    0]\n",
      " [ 215  431 4729    0    0]]\n",
      "Word Index 예시: [('<unk>', 0), ('<s>', 1), ('</s>', 2), ('▁', 3), ('이', 4), ('▁영화', 5), ('의', 6), ('도', 7), ('가', 8), ('는', 9)]\n",
      "Index Word 예시: [(0, '<unk>'), (1, '<s>'), (2, '</s>'), (3, '▁'), (4, '이'), (5, '▁영화'), (6, '의'), (7, '도'), (8, '가'), (9, '는')]\n"
     ]
    }
   ],
   "source": [
    "# 테스트 데이터 준비\n",
    "sample_sentences = [\"이 영화 정말 재미있어요!\", \"완전 최악이야.\", \"기대 이상이었습니다.\"]\n",
    "\n",
    "# 토큰화 실행\n",
    "tokenized_tensor, word_index, index_word = sp_tokenize(s, sample_sentences)\n",
    "\n",
    "# 결과 확인\n",
    "print(\"Tokenized Tensor:\", tokenized_tensor)\n",
    "print(\"Word Index 예시:\", list(word_index.items())[:10])  # 일부 단어 출력\n",
    "print(\"Index Word 예시:\", list(index_word.items())[:10])  # 일부 단어 출력\n"
   ]
  },
  {
   "cell_type": "markdown",
   "id": "42abfa1a",
   "metadata": {},
   "source": [
    "### 4-3. SentencePiece 기반 RNN 감정 분석 모델 학습"
   ]
  },
  {
   "cell_type": "markdown",
   "id": "912ebc6d",
   "metadata": {},
   "source": [
    "#### 네이버 영화 리뷰 전체 데이터셋 변환"
   ]
  },
  {
   "cell_type": "code",
   "execution_count": 46,
   "id": "b10361c6",
   "metadata": {},
   "outputs": [
    {
     "name": "stdout",
     "output_type": "stream",
     "text": [
      "변환된 훈련 데이터 크기: (145791, 116)\n",
      "변환된 테스트 데이터 크기: (48995, 107)\n"
     ]
    }
   ],
   "source": [
    "# 훈련 및 테스트 데이터 변환\n",
    "train_tensor, train_word_index, train_index_word = sp_tokenize(s, filtered_train_data['document'].tolist())\n",
    "test_tensor, test_word_index, test_index_word = sp_tokenize(s, filtered_test_data['document'].tolist())\n",
    "\n",
    "print(\"변환된 훈련 데이터 크기:\", train_tensor.shape)\n",
    "print(\"변환된 테스트 데이터 크기:\", test_tensor.shape)\n"
   ]
  },
  {
   "cell_type": "markdown",
   "id": "05639aee",
   "metadata": {},
   "source": [
    "#### 감정 분석 모델 설계"
   ]
  },
  {
   "cell_type": "code",
   "execution_count": 47,
   "id": "3e181591",
   "metadata": {},
   "outputs": [
    {
     "name": "stdout",
     "output_type": "stream",
     "text": [
      "Model: \"sequential\"\n",
      "_________________________________________________________________\n",
      "Layer (type)                 Output Shape              Param #   \n",
      "=================================================================\n",
      "embedding (Embedding)        (None, None, 128)         1024000   \n",
      "_________________________________________________________________\n",
      "lstm (LSTM)                  (None, 64)                49408     \n",
      "_________________________________________________________________\n",
      "dense (Dense)                (None, 1)                 65        \n",
      "=================================================================\n",
      "Total params: 1,073,473\n",
      "Trainable params: 1,073,473\n",
      "Non-trainable params: 0\n",
      "_________________________________________________________________\n"
     ]
    }
   ],
   "source": [
    "import tensorflow as tf\n",
    "from tensorflow.keras.models import Sequential\n",
    "from tensorflow.keras.layers import Embedding, LSTM, Dense\n",
    "\n",
    "# 하이퍼파라미터 설정\n",
    "vocab_size = 8000  # SentencePiece에서 설정한 vocab_size와 동일\n",
    "embedding_dim = 128\n",
    "hidden_units = 64 # 감정 분석 위해\n",
    "\n",
    "# 모델 설계\n",
    "model = Sequential([\n",
    "    Embedding(input_dim=vocab_size, output_dim=embedding_dim, mask_zero=True),\n",
    "    LSTM(hidden_units),\n",
    "    Dense(1, activation='sigmoid')  # 감정 분석 (이진 분류)\n",
    "])\n",
    "\n",
    "# 모델 컴파일\n",
    "model.compile(loss='binary_crossentropy', optimizer='adam', metrics=['accuracy'])\n",
    "\n",
    "# 모델 구조 확인\n",
    "model.summary()\n"
   ]
  },
  {
   "cell_type": "markdown",
   "id": "0937b110",
   "metadata": {},
   "source": [
    "#### 감정 분석 모델 학습"
   ]
  },
  {
   "cell_type": "code",
   "execution_count": 48,
   "id": "f6a5157e",
   "metadata": {},
   "outputs": [
    {
     "name": "stdout",
     "output_type": "stream",
     "text": [
      "Epoch 1/5\n",
      "2278/2278 [==============================] - 455s 191ms/step - loss: 0.3795 - accuracy: 0.8279 - val_loss: 0.3414 - val_accuracy: 0.8483\n",
      "Epoch 2/5\n",
      "2278/2278 [==============================] - 430s 189ms/step - loss: 0.3041 - accuracy: 0.8659 - val_loss: 0.3367 - val_accuracy: 0.8520\n",
      "Epoch 3/5\n",
      "2278/2278 [==============================] - 425s 187ms/step - loss: 0.2671 - accuracy: 0.8833 - val_loss: 0.3335 - val_accuracy: 0.8545\n",
      "Epoch 4/5\n",
      "2278/2278 [==============================] - 423s 186ms/step - loss: 0.2325 - accuracy: 0.9001 - val_loss: 0.3513 - val_accuracy: 0.8534\n",
      "Epoch 5/5\n",
      "2278/2278 [==============================] - 431s 189ms/step - loss: 0.1965 - accuracy: 0.9182 - val_loss: 0.3780 - val_accuracy: 0.8527\n"
     ]
    }
   ],
   "source": [
    "# 레이블 데이터 준비\n",
    "train_labels = filtered_train_data['label'].values\n",
    "test_labels = filtered_test_data['label'].values\n",
    "\n",
    "# 모델 학습\n",
    "history = model.fit(train_tensor, train_labels, \n",
    "                    validation_data=(test_tensor, test_labels),\n",
    "                    epochs=5, batch_size=64)\n"
   ]
  },
  {
   "cell_type": "markdown",
   "id": "5b4ca987",
   "metadata": {},
   "source": [
    "#### SentencePiece 모델 평가"
   ]
  },
  {
   "cell_type": "code",
   "execution_count": 49,
   "id": "e473212d",
   "metadata": {},
   "outputs": [
    {
     "name": "stdout",
     "output_type": "stream",
     "text": [
      "1532/1532 [==============================] - 15s 10ms/step - loss: 0.3780 - accuracy: 0.8527\n",
      "테스트 정확도: 0.8527\n"
     ]
    }
   ],
   "source": [
    "# 테스트 데이터에서 정확도 확인\n",
    "test_loss, test_acc = model.evaluate(test_tensor, test_labels)\n",
    "print(f\"테스트 정확도: {test_acc:.4f}\")\n"
   ]
  }
 ],
 "metadata": {
  "kernelspec": {
   "display_name": "Python 3 (ipykernel)",
   "language": "python",
   "name": "python3"
  },
  "language_info": {
   "codemirror_mode": {
    "name": "ipython",
    "version": 3
   },
   "file_extension": ".py",
   "mimetype": "text/x-python",
   "name": "python",
   "nbconvert_exporter": "python",
   "pygments_lexer": "ipython3",
   "version": "3.9.7"
  }
 },
 "nbformat": 4,
 "nbformat_minor": 5
}
