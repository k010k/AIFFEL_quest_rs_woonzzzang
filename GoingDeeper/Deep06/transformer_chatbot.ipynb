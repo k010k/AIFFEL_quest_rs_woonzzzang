{
 "cells": [
  {
   "cell_type": "code",
   "execution_count": 1,
   "metadata": {},
   "outputs": [
    {
     "name": "stderr",
     "output_type": "stream",
     "text": [
      "2025-03-13 01:13:14.369135: I tensorflow/core/util/port.cc:110] oneDNN custom operations are on. You may see slightly different numerical results due to floating-point round-off errors from different computation orders. To turn them off, set the environment variable `TF_ENABLE_ONEDNN_OPTS=0`.\n",
      "2025-03-13 01:13:14.371248: I tensorflow/tsl/cuda/cudart_stub.cc:28] Could not find cuda drivers on your machine, GPU will not be used.\n",
      "2025-03-13 01:13:14.417361: I tensorflow/tsl/cuda/cudart_stub.cc:28] Could not find cuda drivers on your machine, GPU will not be used.\n",
      "2025-03-13 01:13:14.418434: I tensorflow/core/platform/cpu_feature_guard.cc:182] This TensorFlow binary is optimized to use available CPU instructions in performance-critical operations.\n",
      "To enable the following instructions: AVX2 AVX_VNNI FMA, in other operations, rebuild TensorFlow with the appropriate compiler flags.\n",
      "2025-03-13 01:13:14.969114: W tensorflow/compiler/tf2tensorrt/utils/py_utils.cc:38] TF-TRT Warning: Could not find TensorRT\n"
     ]
    },
    {
     "name": "stdout",
     "output_type": "stream",
     "text": [
      "2.13.1\n"
     ]
    }
   ],
   "source": [
    "import numpy as np\n",
    "if not hasattr(np, 'typeDict'):\n",
    "    np.typeDict = np.sctypeDict\n",
    "import pandas as pd\n",
    "import tensorflow as tf\n",
    "import sentencepiece as spm\n",
    "from nltk.translate.bleu_score import sentence_bleu\n",
    "from nltk.translate.bleu_score import SmoothingFunction\n",
    "\n",
    "import re\n",
    "import os\n",
    "import random\n",
    "import math\n",
    "\n",
    "from tqdm.notebook import tqdm\n",
    "import matplotlib.pyplot as plt\n",
    "\n",
    "print(tf.__version__)"
   ]
  },
  {
   "cell_type": "markdown",
   "metadata": {},
   "source": [
    "## 데이터"
   ]
  },
  {
   "cell_type": "markdown",
   "metadata": {},
   "source": [
    "### 데이터 준비"
   ]
  },
  {
   "cell_type": "code",
   "execution_count": 2,
   "metadata": {},
   "outputs": [
    {
     "name": "stdout",
     "output_type": "stream",
     "text": [
      "['12시 땡!', '1지망 학교 떨어졌어', '3박4일 놀러가고 싶다', '3박4일 정도 놀러가고 싶다', 'PPL 심하네']\n",
      "['하루가 또 가네요.', '위로해 드립니다.', '여행은 언제나 좋죠.', '여행은 언제나 좋죠.', '눈살이 찌푸려지죠.']\n"
     ]
    }
   ],
   "source": [
    "import pandas as pd\n",
    "\n",
    "# CSV 파일 경로\n",
    "path = \"/home/downtown/aiffel/transformer_chatbot/ChatbotData.csv\"\n",
    "\n",
    "# CSV 파일 읽기\n",
    "df = pd.read_csv(path)\n",
    "\n",
    "# 'Q' 컬럼은 질문, 'A' 컬럼은 답변으로 분리\n",
    "questions = df['Q'].tolist()\n",
    "answers = df['A'].tolist()\n",
    "\n",
    "# 데이터 확인\n",
    "print(questions[:5])\n",
    "print(answers[:5])"
   ]
  },
  {
   "cell_type": "markdown",
   "metadata": {},
   "source": [
    "### 데이터 전처리"
   ]
  },
  {
   "cell_type": "code",
   "execution_count": 3,
   "metadata": {},
   "outputs": [],
   "source": [
    "# Q. 전처리 함수를 만들어 보세요. 아래 기능을 추가해주세요.\n",
    "def preprocess_sentence(sentence):\n",
    "    # 대문자를 소문자로 변환\n",
    "    # 영문자와 한글, 숫자, 그리고 주요 특수문자를 제외하곤 정규식을 활용하여 모두 제거\n",
    "    sentence = sentence.lower()\n",
    "    sentence = re.sub(r\"[^a-zA-Z0-9ㄱ-ㅎ가-힣.,!?]\", \" \", sentence)\n",
    "\n",
    "    return sentence"
   ]
  },
  {
   "cell_type": "code",
   "execution_count": 4,
   "metadata": {},
   "outputs": [
    {
     "name": "stdout",
     "output_type": "stream",
     "text": [
      "['12시 땡!', '1지망 학교 떨어졌어', '3박4일 놀러가고 싶다', '3박4일 정도 놀러가고 싶다', 'ppl 심하네']\n",
      "['하루가 또 가네요.', '위로해 드립니다.', '여행은 언제나 좋죠.', '여행은 언제나 좋죠.', '눈살이 찌푸려지죠.']\n"
     ]
    }
   ],
   "source": [
    "questions = list(map(preprocess_sentence, questions))\n",
    "answers = list(map(preprocess_sentence, answers))\n",
    "\n",
    "# 데이터 확인\n",
    "print(questions[:5])\n",
    "print(answers[:5])"
   ]
  },
  {
   "cell_type": "markdown",
   "metadata": {},
   "source": [
    "## 토큰화\n",
    "### 토크나이저 준비\n",
    "토큰화에는 KoNLPy의 mecab 클래스를 사용   \n",
    "\n",
    "아래 조건을 만족하는 build_corpus() 함수 구현   \n",
    "\n",
    "1. 소스 문장 데이터와 타겟 문장 데이터를 입력으로 받습니다. \n",
    "2. 데이터를 앞서 정의한 preprocess_sentence() 함수로 정제하고, 토큰화합니다. \n",
    "3. 토큰화는 전달받은 토크나이즈 함수를 사용합니다. 이번엔 mecab.morphs 함수를 전달하시면 됩니다. \n",
    "4. 토큰의 개수가 일정 길이 이상인 문장은 데이터에서 제외합니다. \n",
    "5. 중복되는 문장은 데이터에서 제외합니다. 소스 : 타겟 쌍을 비교하지 않고 소스는 소스대로 타겟은 타겟대로 검사합니다. 중복 쌍이 흐트러지지 않도록 유의하세요! \n",
    "\n",
    "구현한 함수를 활용하여 questions 와 answers 를 각각 que_corpus , ans_corpus 에 토큰화하여 저장"
   ]
  },
  {
   "cell_type": "code",
   "execution_count": 5,
   "metadata": {},
   "outputs": [],
   "source": [
    "from konlpy.tag import Okt\n",
    "\n",
    "tokenizer = Okt().morphs\n",
    "\n",
    "def build_corpus(sentences, tokenizer, max_len=50):\n",
    "    \"\"\"\n",
    "    문장 데이터를 토큰화하고, 길이 제한 및 중복 제거하여 정제하는 함수\n",
    "\n",
    "    :param sentences: 입력 문장 리스트\n",
    "    :param tokenizer: 사용할 토크나이저 (예: Okt().morphs)\n",
    "    :param max_len: 최대 토큰 길이 제한 (default: 50)\n",
    "    :return: 토큰화된 문장 리스트 (중복 제거됨)\n",
    "    \"\"\"\n",
    "    processed_sentences = set()  # 중복 제거를 위해 set 사용\n",
    "    tokenized_sentences = []\n",
    "\n",
    "    for sentence in sentences:\n",
    "        sentence = preprocess_sentence(sentence)  # 전처리 수행\n",
    "        tokenized = tokenizer(sentence)  # 형태소 분석기 사용\n",
    "\n",
    "        if len(tokenized) > max_len:\n",
    "            continue  # 최대 길이를 초과하는 문장은 제외\n",
    "\n",
    "        joined_sentence = \" \".join(tokenized)\n",
    "        if joined_sentence not in processed_sentences:  # 중복 제거\n",
    "            processed_sentences.add(joined_sentence)\n",
    "            tokenized_sentences.append(tokenized)\n",
    "\n",
    "    return tokenized_sentences\n"
   ]
  },
  {
   "cell_type": "code",
   "execution_count": 6,
   "metadata": {},
   "outputs": [
    {
     "name": "stdout",
     "output_type": "stream",
     "text": [
      "[['12시', '땡', '!'], ['1', '지망', '학교', '떨어졌어'], ['3', '박', '4일', '놀러', '가고', '싶다'], ['3', '박', '4일', '정도', '놀러', '가고', '싶다'], ['ppl', '심하네']]\n",
      "[['하루', '가', '또', '가네요', '.'], ['위로', '해', '드립니다', '.'], ['여행', '은', '언제나', '좋죠', '.'], ['눈살', '이', '찌푸려지죠', '.'], ['다시', '새로', '사는', '게', '마음', '편해요', '.']]\n"
     ]
    }
   ],
   "source": [
    "# 토큰화\n",
    "que_corpus = build_corpus(questions, tokenizer)\n",
    "ans_corpus = build_corpus(answers, tokenizer)\n",
    "\n",
    "print(que_corpus[:5])\n",
    "print(ans_corpus[:5])"
   ]
  },
  {
   "cell_type": "markdown",
   "metadata": {},
   "source": [
    "## Augmentation\n",
    "- Embedding을 활용한 Lexical Subsitution 구현\n",
    "- gensim 라이브러리에 사전 훈련된 Embedding 모델 불러와 사용\n",
    "- 대표적으로 사용되는 Embedding 모델인 `word2vec-google-news-300`은 용량이 너무 크기 때문에 적당한 사이즈 모델인 `glove-wiki-gigaword-300` 사용"
   ]
  },
  {
   "cell_type": "code",
   "execution_count": 11,
   "metadata": {},
   "outputs": [
    {
     "name": "stdout",
     "output_type": "stream",
     "text": [
      "Collecting gensim==3.8.3\n",
      "  Downloading gensim-3.8.3-cp38-cp38-manylinux1_x86_64.whl.metadata (9.2 kB)\n",
      "Requirement already satisfied: numpy>=1.11.3 in /home/downtown/miniconda3/envs/fucklms/lib/python3.8/site-packages (from gensim==3.8.3) (1.24.3)\n",
      "Requirement already satisfied: scipy>=0.18.1 in /home/downtown/miniconda3/envs/fucklms/lib/python3.8/site-packages (from gensim==3.8.3) (1.9.3)\n",
      "Requirement already satisfied: six>=1.5.0 in /home/downtown/miniconda3/envs/fucklms/lib/python3.8/site-packages (from gensim==3.8.3) (1.15.0)\n",
      "Collecting smart-open>=1.8.1 (from gensim==3.8.3)\n",
      "  Downloading smart_open-7.1.0-py3-none-any.whl.metadata (24 kB)\n",
      "Requirement already satisfied: wrapt in /home/downtown/miniconda3/envs/fucklms/lib/python3.8/site-packages (from smart-open>=1.8.1->gensim==3.8.3) (1.12.1)\n",
      "Downloading gensim-3.8.3-cp38-cp38-manylinux1_x86_64.whl (24.2 MB)\n",
      "\u001b[2K   \u001b[90m━━━━━━━━━━━━━━━━━━━━━━━━━━━━━━━━━━━━━━━━\u001b[0m \u001b[32m24.2/24.2 MB\u001b[0m \u001b[31m9.3 MB/s\u001b[0m eta \u001b[36m0:00:00\u001b[0m00:01\u001b[0m00:01\u001b[0m\n",
      "\u001b[?25hDownloading smart_open-7.1.0-py3-none-any.whl (61 kB)\n",
      "Installing collected packages: smart-open, gensim\n",
      "Successfully installed gensim-3.8.3 smart-open-7.1.0\n"
     ]
    }
   ],
   "source": [
    "!pip install --upgrade gensim==3.8.3"
   ]
  },
  {
   "cell_type": "code",
   "execution_count": 7,
   "metadata": {},
   "outputs": [],
   "source": [
    "import gensim.downloader as api\n",
    "\n",
    "wv = api.load('glove-wiki-gigaword-300')"
   ]
  },
  {
   "cell_type": "code",
   "execution_count": 8,
   "metadata": {},
   "outputs": [],
   "source": [
    "from gensim.models import Word2Vec\n",
    "\n",
    "# Gensim Word2Vec 모델 로드\n",
    "ko_model_path = \"/home/downtown/aiffel/transformer_chatbot/ko.bin\"\n",
    "\n",
    "wv = Word2Vec.load(ko_model_path)\n",
    "\n",
    "# 단어 벡터만 추출 (KeyedVectors 형태로 변환)\n",
    "wv = wv.wv"
   ]
  },
  {
   "cell_type": "code",
   "execution_count": 9,
   "metadata": {},
   "outputs": [
    {
     "name": "stdout",
     "output_type": "stream",
     "text": [
      "모델에 포함된 단어 개수: 30185\n",
      "상위 10개 단어: ['관위', '정어리', '유식론', '장로회', '춘추관', '도입부', '민병', '어렵', '매니저', '청담']\n"
     ]
    }
   ],
   "source": [
    "if hasattr(wv, 'vocab'):\n",
    "    print(\"모델에 포함된 단어 개수:\", len(wv.vocab.keys()))\n",
    "    print(\"상위 10개 단어:\", list(wv.vocab.keys())[:10])"
   ]
  },
  {
   "cell_type": "code",
   "execution_count": null,
   "metadata": {},
   "outputs": [],
   "source": [
    "# import random\n",
    "# from tqdm import tqdm\n",
    "\n",
    "# def lexical_sub(sentence, wv, top_n=5, sub_prob=0.3):\n",
    "#     \"\"\"\n",
    "#     문장에서 랜덤한 단어 하나를 의미적으로 유사한 단어로 대체하여 데이터 증강 수행.\n",
    "    \n",
    "#     :param sentence: 원본 문장 (str)\n",
    "#     :param wv: GloVe 등 사전 학습된 단어 임베딩 모델\n",
    "#     :param top_n: 유사한 단어 후보 개수 (default: 5)\n",
    "#     :param sub_prob: 단어 치환 확률 (0~1, default: 0.3)\n",
    "#     :return: 치환된 문장 (원본과 동일하면 None 반환)\n",
    "#     \"\"\"\n",
    "#     words = sentence.split()\n",
    "    \n",
    "#     # 치환할 단어를 랜덤 선택 (확률 기반)\n",
    "#     if random.random() > sub_prob or not words:\n",
    "#         return None  # 치환 확률이 낮거나 문장이 비어있으면 변경하지 않음\n",
    "    \n",
    "#     selected_tok = random.choice(words)  # 랜덤하게 하나의 단어 선택\n",
    "    \n",
    "#     try:\n",
    "#         # 선택된 단어와 의미적으로 유사한 단어 중 하나 선택\n",
    "#         similar_words = [w for w, _ in wv.most_similar(selected_tok, topn=top_n)]\n",
    "#         new_word = random.choice(similar_words) if similar_words else selected_tok\n",
    "#     except KeyError:\n",
    "#         return None  # 선택된 단어가 Word2Vec 모델에 없으면 치환하지 않음\n",
    "\n",
    "#     # 선택된 단어를 유사한 단어로 치환\n",
    "#     new_sentence = \" \".join([new_word if tok == selected_tok else tok for tok in words])\n",
    "    \n",
    "#     return new_sentence if new_sentence != sentence else None"
   ]
  },
  {
   "cell_type": "code",
   "execution_count": 25,
   "metadata": {},
   "outputs": [
    {
     "name": "stderr",
     "output_type": "stream",
     "text": [
      " 67%|██████▋   | 7748/11644 [00:06<00:03, 1112.89it/s]\n"
     ]
    }
   ],
   "source": [
    "# aug_que_corpus = []  # 질문 데이터 증강\n",
    "# aug_ans_corpus = []  # 답변 데이터 증강\n",
    "\n",
    "# for src, tgt in tqdm(zip(que_corpus, ans_corpus), total=len(que_corpus)):\n",
    "#     # 질문(que_corpus)만 Augmentation하고 답변(ans_corpus)은 원본 유지\n",
    "#     new_src = lexical_sub(\" \".join(src), wv)  # 원본은 토큰 리스트이므로 문자열로 변환\n",
    "#     if new_src is not None:\n",
    "#         aug_que_corpus.append(new_src.split())  # Augmentation된 문장 추가\n",
    "#         aug_ans_corpus.append(tgt)  # 원본 답변 유지\n",
    "    \n",
    "#     # 답변(ans_corpus)만 Augmentation하고 질문(que_corpus)은 원본 유지\n",
    "#     new_tgt = lexical_sub(\" \".join(tgt), wv)\n",
    "#     if new_tgt is not None:\n",
    "#         aug_que_corpus.append(src)  # 원본 질문 유지\n",
    "#         aug_ans_corpus.append(new_tgt.split())  # Augmentation된 문장 추가\n",
    "    \n",
    "#     # 원본 데이터도 포함\n",
    "#     aug_que_corpus.append(src)\n",
    "#     aug_ans_corpus.append(tgt)\n"
   ]
  },
  {
   "cell_type": "markdown",
   "metadata": {},
   "source": [
    "증강을 하다 말고 맘대로 끝낸다 ;"
   ]
  },
  {
   "cell_type": "code",
   "execution_count": 26,
   "metadata": {},
   "outputs": [
    {
     "name": "stdout",
     "output_type": "stream",
     "text": [
      "\n",
      "데이터 크기: 원본 11644 → 증강 후 10737\n",
      "aug_que\n",
      "[['12시', '땡', '!'], ['1', '지망', '강습소', '떨어졌어'], ['1', '지망', '학교', '떨어졌어'], ['3', '박', '4일', '놀러', '가고', '싶다'], ['3', '박', '4일', '정도', '놀러', '가고', '싶다']]\n",
      "aug_ans\n",
      "[['하루', '가', '또', '가네요', '.'], ['위로', '해', '드립니다', '.'], ['위로', '해', '드립니다', '.'], ['여행', '은', '언제나', '좋죠', '.'], ['눈살', '이', '찌푸려지죠', '.']]\n"
     ]
    }
   ],
   "source": [
    "# print(f\"\\n데이터 크기: 원본 {len(que_corpus)} → 증강 후 {len(aug_que_corpus)}\")\n",
    "\n",
    "# print(\"aug_que\")\n",
    "# print(aug_que_corpus[:5])\n",
    "\n",
    "# print(\"aug_ans\")\n",
    "# print(aug_ans_corpus[:5])\n"
   ]
  },
  {
   "cell_type": "markdown",
   "metadata": {},
   "source": [
    "오히려 증강 후 수가 더 적음"
   ]
  },
  {
   "cell_type": "code",
   "execution_count": null,
   "metadata": {},
   "outputs": [],
   "source": [
    "# def lexical_sub(sentence, wv, top_n=5, sub_prob=0.3):\n",
    "#     words = sentence.split()\n",
    "    \n",
    "#     # 치환할 단어를 랜덤 선택 (확률 기반)\n",
    "#     if random.random() > sub_prob or not words:\n",
    "#         return None\n",
    "    \n",
    "#     selected_tok = random.choice(words)  # 랜덤하게 하나의 단어 선택\n",
    "    \n",
    "#     try:\n",
    "#         # 선택된 단어와 의미적으로 유사한 단어 중 하나 선택\n",
    "#         similar_words = [w for w, _ in wv.most_similar(selected_tok, topn=top_n)]\n",
    "#         new_word = random.choice(similar_words) if similar_words else selected_tok\n",
    "#     except (KeyError, ValueError, IndexError):\n",
    "#         return None  # 단어가 모델에 없거나 유사 단어가 없을 경우 무시\n",
    "\n",
    "#     new_sentence = \" \".join([new_word if tok == selected_tok else tok for tok in words])\n",
    "#     return new_sentence if new_sentence != sentence else None\n"
   ]
  },
  {
   "cell_type": "code",
   "execution_count": 31,
   "metadata": {},
   "outputs": [
    {
     "name": "stderr",
     "output_type": "stream",
     "text": [
      " 67%|██████▋   | 7748/11644 [00:19<00:09, 396.82it/s]\n"
     ]
    }
   ],
   "source": [
    "# aug_que_corpus = []\n",
    "# aug_ans_corpus = []\n",
    "\n",
    "# sub_prob = 0.7  # 70% 확률로 단어 교체\n",
    "\n",
    "# for src, tgt in tqdm(zip(que_corpus, ans_corpus), total=len(que_corpus), leave=True):\n",
    "#     new_src = lexical_sub(\" \".join(src), wv, sub_prob=sub_prob)  # sub_prob 적용\n",
    "#     new_tgt = lexical_sub(\" \".join(tgt), wv, sub_prob=sub_prob)\n",
    "\n",
    "#     if new_src is not None:\n",
    "#         aug_que_corpus.append(new_src.split())\n",
    "#         aug_ans_corpus.append(tgt)\n",
    "\n",
    "#     if new_tgt is not None:\n",
    "#         aug_que_corpus.append(src)\n",
    "#         aug_ans_corpus.append(new_tgt.split())\n",
    "\n",
    "#     aug_que_corpus.append(src)\n",
    "#     aug_ans_corpus.append(tgt)\n"
   ]
  },
  {
   "cell_type": "code",
   "execution_count": 32,
   "metadata": {},
   "outputs": [
    {
     "name": "stdout",
     "output_type": "stream",
     "text": [
      "\n",
      "데이터 크기: 원본 11644 → 증강 후 14665\n",
      "aug_que\n",
      "[['12시', '땡', '크레딧'], ['12시', '땡', '!'], ['1', '지망', '중고등학교', '떨어졌어'], ['1', '지망', '학교', '떨어졌어'], ['3', '박', '4일', '놀러', '가고', '싶다']]\n",
      "aug_ans\n",
      "[['하루', '가', '또', '가네요', '.'], ['하루', '가', '또', '가네요', '.'], ['위로', '해', '드립니다', '.'], ['위로', '해', '드립니다', '.'], ['여행', '이란', '언제나', '좋죠', '.']]\n"
     ]
    }
   ],
   "source": [
    "# print(f\"\\n데이터 크기: 원본 {len(que_corpus)} → 증강 후 {len(aug_que_corpus)}\")\n",
    "\n",
    "# print(\"aug_que\")\n",
    "# print(aug_que_corpus[:5])\n",
    "\n",
    "# print(\"aug_ans\")\n",
    "# print(aug_ans_corpus[:5])\n"
   ]
  },
  {
   "cell_type": "code",
   "execution_count": 58,
   "metadata": {},
   "outputs": [
    {
     "name": "stdout",
     "output_type": "stream",
     "text": [
      "질문 데이터에서 None 발생 개수: 9437\n",
      "답변 데이터에서 None 발생 개수: 6623\n"
     ]
    }
   ],
   "source": [
    "none_count_enc = 0\n",
    "none_count_dec = 0\n",
    "\n",
    "# 질문 데이터에서 None 발생 개수 확인\n",
    "for src in que_corpus:\n",
    "    if lexical_sub(\" \".join(src), wv) is None:\n",
    "        none_count_enc += 1\n",
    "\n",
    "# 답변 데이터에서 None 발생 개수 확인\n",
    "for tgt in ans_corpus:\n",
    "    if lexical_sub(\" \".join(tgt), wv) is None:\n",
    "        none_count_dec += 1\n",
    "\n",
    "print(f\"질문 데이터에서 None 발생 개수: {none_count_enc}\")\n",
    "print(f\"답변 데이터에서 None 발생 개수: {none_count_dec}\")\n"
   ]
  },
  {
   "cell_type": "markdown",
   "metadata": {},
   "source": [
    "기존 증강 코드를 보면 OOV 일 경우 None을 반환하는데 원본 문장을 반환하도록 증강 코드 수정"
   ]
  },
  {
   "cell_type": "code",
   "execution_count": 10,
   "metadata": {},
   "outputs": [],
   "source": [
    "def lexical_sub(sentence, wv, top_n=5, sub_prob=0.3):\n",
    "    words = sentence.split()\n",
    "    \n",
    "    # 치환할 단어를 랜덤 선택 (확률 기반)\n",
    "    if random.random() > sub_prob or not words:\n",
    "        return None\n",
    "    \n",
    "    selected_tok = random.choice(words)  # 랜덤하게 하나의 단어 선택\n",
    "    \n",
    "    try:\n",
    "        # 선택된 단어와 의미적으로 유사한 단어 중 하나 선택\n",
    "        similar_words = [w for w, _ in wv.most_similar(selected_tok, topn=top_n)]\n",
    "        new_word = random.choice(similar_words) if similar_words else selected_tok\n",
    "    except (KeyError, ValueError, IndexError):\n",
    "        return sentence  # 단어가 모델에 없거나 유사 단어가 없을 경우 원본 문장 반환환\n",
    "\n",
    "    new_sentence = \" \".join([new_word if tok == selected_tok else tok for tok in words])\n",
    "    return new_sentence if new_sentence != sentence else None\n"
   ]
  },
  {
   "cell_type": "code",
   "execution_count": 11,
   "metadata": {},
   "outputs": [
    {
     "data": {
      "application/vnd.jupyter.widget-view+json": {
       "model_id": "372fa5e5f1c14685ab4f765b7c466f47",
       "version_major": 2,
       "version_minor": 0
      },
      "text/plain": [
       "  0%|          | 0/11644 [00:00<?, ?it/s]"
      ]
     },
     "metadata": {},
     "output_type": "display_data"
    }
   ],
   "source": [
    "aug_que_corpus = []\n",
    "aug_ans_corpus = []\n",
    "\n",
    "sub_prob = 0.7  # 70% 확률로 단어 교체\n",
    "\n",
    "for src, tgt in tqdm(zip(que_corpus, ans_corpus), total=len(que_corpus), leave=True):\n",
    "    new_src = lexical_sub(\" \".join(src), wv, sub_prob=sub_prob)  # sub_prob 적용\n",
    "    new_tgt = lexical_sub(\" \".join(tgt), wv, sub_prob=sub_prob)\n",
    "\n",
    "    if new_src is not None:\n",
    "        aug_que_corpus.append(new_src.split())\n",
    "        aug_ans_corpus.append(tgt)\n",
    "\n",
    "    if new_tgt is not None:\n",
    "        aug_que_corpus.append(src)\n",
    "        aug_ans_corpus.append(new_tgt.split())\n",
    "\n",
    "    aug_que_corpus.append(src)\n",
    "    aug_ans_corpus.append(tgt)\n"
   ]
  },
  {
   "cell_type": "code",
   "execution_count": 12,
   "metadata": {},
   "outputs": [
    {
     "name": "stdout",
     "output_type": "stream",
     "text": [
      "\n",
      "데이터 크기: 원본 11644 → 증강 후 18732\n",
      "aug_que\n",
      "[['12시', 'ㅋ', '!'], ['12시', '땡', '!'], ['12시', '땡', '!'], ['1', '지망', '전문학교', '떨어졌어'], ['1', '지망', '학교', '떨어졌어']]\n",
      "aug_ans\n",
      "[['하루', '가', '또', '가네요', '.'], ['하루', '가', '또', '가네요', '.'], ['하루', '가', '또', '가네요', '.'], ['위로', '해', '드립니다', '.'], ['꿇', '해', '드립니다', '.']]\n"
     ]
    }
   ],
   "source": [
    "print(f\"\\n데이터 크기: 원본 {len(que_corpus)} → 증강 후 {len(aug_que_corpus)}\")\n",
    "\n",
    "print(\"aug_que\")\n",
    "print(aug_que_corpus[:5])\n",
    "\n",
    "print(\"aug_ans\")\n",
    "print(aug_ans_corpus[:5])\n"
   ]
  },
  {
   "cell_type": "markdown",
   "metadata": {},
   "source": [
    "## 데이터 벡터화"
   ]
  },
  {
   "cell_type": "markdown",
   "metadata": {},
   "source": [
    "타겟 데이터인 ans_corpus 에 \\<start\\> 토큰과 \\<end\\> 토큰 추가 후 벡터화 진행"
   ]
  },
  {
   "cell_type": "code",
   "execution_count": 13,
   "metadata": {},
   "outputs": [],
   "source": [
    "aug_ans_corpus = [[\"<start>\"] + ans + [\"<end>\"] for ans in aug_ans_corpus]"
   ]
  },
  {
   "cell_type": "code",
   "execution_count": 14,
   "metadata": {},
   "outputs": [
    {
     "name": "stdout",
     "output_type": "stream",
     "text": [
      "[['<start>', '하루', '가', '또', '가네요', '.', '<end>'], ['<start>', '하루', '가', '또', '가네요', '.', '<end>'], ['<start>', '하루', '가', '또', '가네요', '.', '<end>']]\n"
     ]
    }
   ],
   "source": [
    "print(aug_ans_corpus[:3])"
   ]
  },
  {
   "cell_type": "code",
   "execution_count": 15,
   "metadata": {},
   "outputs": [
    {
     "name": "stdout",
     "output_type": "stream",
     "text": [
      "단어 사전 크기: 12559\n",
      "샘플 단어 10개: ['<pad>', '<unk>', '!', '!!', '!!!', '!?', ',', ',,', ',.', '.']\n"
     ]
    }
   ],
   "source": [
    "from collections import Counter\n",
    "\n",
    "# 전체 데이터 통합\n",
    "all_sentences = aug_que_corpus + aug_ans_corpus  # 질문 + 답변 데이터 결합\n",
    "\n",
    "# 단어 사전 생성\n",
    "word_counts = Counter(token for sentence in all_sentences for token in sentence)\n",
    "vocab = [\"<pad>\", \"<unk>\"] + sorted(word_counts.keys())  # <pad>, <unk> 추가\n",
    "\n",
    "# 단어 → 인덱스 매핑\n",
    "word2idx = {word: idx for idx, word in enumerate(vocab)}\n",
    "idx2word = {idx: word for word, idx in word2idx.items()}\n",
    "\n",
    "# 사전 크기 확인\n",
    "print(f\"단어 사전 크기: {len(vocab)}\")\n",
    "print(f\"샘플 단어 10개: {list(word2idx.keys())[:10]}\")\n"
   ]
  },
  {
   "cell_type": "code",
   "execution_count": 16,
   "metadata": {},
   "outputs": [
    {
     "name": "stdout",
     "output_type": "stream",
     "text": [
      "enc_train 샘플 크기 : 18732\n",
      "dec_train 샘플 크기 : 18732\n",
      "인코더 입력 샘플 : [[27, 103, 2], [27, 3392, 2]]\n",
      "디코더 입력 샘플 : [[76, 11663, 109, 3474, 130, 9, 75], [76, 11663, 109, 3474, 130, 9, 75]]\n",
      "enc_train max len : 17\n",
      "dec_train max len : 33\n"
     ]
    }
   ],
   "source": [
    "## 단어를 벡터화하여 모델 입력 데이터로 변환\n",
    "\n",
    "# 문장을 인덱스 벡터로 변환하는 함수\n",
    "def tokenize(sentences, word2idx):\n",
    "    return [[word2idx.get(token, word2idx[\"<unk>\"]) for token in sentence] for sentence in sentences]\n",
    "\n",
    "# 질문과 답변 데이터를 인덱스로 변환\n",
    "enc_train = tokenize(aug_que_corpus, word2idx)  # 인코더 입력\n",
    "dec_train = tokenize(aug_ans_corpus, word2idx)  # 디코더 입력\n",
    "\n",
    "# 데이터 크기 확인\n",
    "print(f\"enc_train 샘플 크기 : {len(enc_train)}\")\n",
    "print(f\"dec_train 샘플 크기 : {len(dec_train)}\")\n",
    "\n",
    "# 샘플 확인\n",
    "print(\"인코더 입력 샘플 :\", enc_train[:2])\n",
    "print(\"디코더 입력 샘플 :\", dec_train[:2])\n",
    "\n",
    "# 각 데이터셋의 최대 길이 확인\n",
    "enc_max_len = max(len(seq) for seq in enc_train)\n",
    "dec_max_len = max(len(seq) for seq in dec_train)\n",
    "\n",
    "# 최대 길이 확인\n",
    "print(f\"enc_train max len : {enc_max_len}\")\n",
    "print(f\"dec_train max len : {dec_max_len}\")"
   ]
  },
  {
   "cell_type": "code",
   "execution_count": 17,
   "metadata": {},
   "outputs": [],
   "source": [
    "# 한 문장의 토큰 길이가 각각의 max len이 되도록 설정\n",
    "enc_ndarray = tf.keras.preprocessing.sequence.pad_sequences(enc_train, maxlen=enc_max_len, padding='post')\n",
    "dec_ndarray = tf.keras.preprocessing.sequence.pad_sequences(dec_train, maxlen=dec_max_len, padding='post')"
   ]
  },
  {
   "cell_type": "code",
   "execution_count": 18,
   "metadata": {},
   "outputs": [
    {
     "name": "stderr",
     "output_type": "stream",
     "text": [
      "2025-03-13 01:15:04.014603: I tensorflow/compiler/xla/stream_executor/cuda/cuda_gpu_executor.cc:981] could not open file to read NUMA node: /sys/bus/pci/devices/0000:01:00.0/numa_node\n",
      "Your kernel may have been built without NUMA support.\n",
      "2025-03-13 01:15:04.061222: W tensorflow/core/common_runtime/gpu/gpu_device.cc:1960] Cannot dlopen some GPU libraries. Please make sure the missing libraries mentioned above are installed properly if you would like to use GPU. Follow the guide at https://www.tensorflow.org/install/gpu for how to download and setup the required libraries for your platform.\n",
      "Skipping registering GPU devices...\n"
     ]
    }
   ],
   "source": [
    "# 훈련에 사용할 수 있도록 각 데이터를 묶어 배치 크기의 텐서로 만들어 줌\n",
    "\n",
    "BATCH_SIZE = 64\n",
    "train_dataset = tf.data.Dataset.from_tensor_slices((enc_ndarray, dec_ndarray)).batch(batch_size=BATCH_SIZE)"
   ]
  },
  {
   "cell_type": "markdown",
   "metadata": {},
   "source": [
    "### 트랜스포머 구현\n",
    "Encoder와 Decoder 각각의 Embedding과 출력층의 Linear, 총 3개의 레이어가 Weight를 공유할 수 있도록"
   ]
  },
  {
   "cell_type": "markdown",
   "metadata": {},
   "source": [
    "##### Positional Encoding"
   ]
  },
  {
   "cell_type": "code",
   "execution_count": 19,
   "metadata": {},
   "outputs": [],
   "source": [
    "# Positional Encoding 구현\n",
    "def positional_encoding(pos, d_model):\n",
    "    def cal_angle(position, i):\n",
    "        return position / np.power(10000, (2*(i//2)) / np.float32(d_model))\n",
    "\n",
    "    def get_posi_angle_vec(position):\n",
    "        return [cal_angle(position, i) for i in range(d_model)]\n",
    "\n",
    "    sinusoid_table = np.array([get_posi_angle_vec(pos_i) for pos_i in range(pos)])\n",
    "\n",
    "    sinusoid_table[:, 0::2] = np.sin(sinusoid_table[:, 0::2])\n",
    "    sinusoid_table[:, 1::2] = np.cos(sinusoid_table[:, 1::2])\n",
    "\n",
    "    return sinusoid_table"
   ]
  },
  {
   "cell_type": "markdown",
   "metadata": {},
   "source": [
    "##### 마스크 생성"
   ]
  },
  {
   "cell_type": "code",
   "execution_count": 20,
   "metadata": {},
   "outputs": [],
   "source": [
    "# Mask  생성하기\n",
    "def generate_padding_mask(seq):\n",
    "    seq = tf.cast(tf.math.equal(seq, 0), tf.float32)\n",
    "    return seq[:, tf.newaxis, tf.newaxis, :]\n",
    "\n",
    "def generate_lookahead_mask(size):\n",
    "    mask = 1 - tf.linalg.band_part(tf.ones((size, size)), -1, 0)\n",
    "    return mask\n",
    "\n",
    "def generate_masks(src, tgt):\n",
    "    enc_mask = generate_padding_mask(src)\n",
    "    dec_enc_mask = generate_padding_mask(src)\n",
    "\n",
    "    dec_lookahead_mask = generate_lookahead_mask(tgt.shape[1])\n",
    "    dec_tgt_padding_mask = generate_padding_mask(tgt)\n",
    "    dec_mask = tf.maximum(dec_tgt_padding_mask, dec_lookahead_mask)\n",
    "\n",
    "    return enc_mask, dec_enc_mask, dec_mask"
   ]
  },
  {
   "cell_type": "markdown",
   "metadata": {},
   "source": [
    "##### Multi-head Attention"
   ]
  },
  {
   "cell_type": "code",
   "execution_count": 21,
   "metadata": {},
   "outputs": [],
   "source": [
    "# Multi Head Attention 구현\n",
    "class MultiHeadAttention(tf.keras.layers.Layer):\n",
    "    def __init__(self, d_model, num_heads):\n",
    "        super(MultiHeadAttention, self).__init__()\n",
    "        self.num_heads = num_heads\n",
    "        self.d_model = d_model\n",
    "        \n",
    "        self.depth = d_model // self.num_heads\n",
    "        \n",
    "        self.W_q = tf.keras.layers.Dense(d_model)\n",
    "        self.W_k = tf.keras.layers.Dense(d_model)\n",
    "        self.W_v = tf.keras.layers.Dense(d_model)\n",
    "        \n",
    "        self.linear = tf.keras.layers.Dense(d_model)\n",
    "\n",
    "    def scaled_dot_product_attention(self, Q, K, V, mask):\n",
    "        d_k = tf.cast(K.shape[-1], tf.float32)\n",
    "        QK = tf.matmul(Q, K, transpose_b=True)\n",
    "\n",
    "        scaled_qk = QK / tf.math.sqrt(d_k)\n",
    "\n",
    "        if mask is not None: scaled_qk += (mask * -1e9)  \n",
    "\n",
    "        attentions = tf.nn.softmax(scaled_qk, axis=-1)\n",
    "        out = tf.matmul(attentions, V)\n",
    "\n",
    "        return out, attentions\n",
    "        \n",
    "\n",
    "    def split_heads(self, x):\n",
    "        bsz = x.shape[0]\n",
    "        split_x = tf.reshape(x, (bsz, -1, self.num_heads, self.depth))\n",
    "        split_x = tf.transpose(split_x, perm=[0, 2, 1, 3])\n",
    "\n",
    "        return split_x\n",
    "\n",
    "    def combine_heads(self, x):\n",
    "        bsz = x.shape[0]\n",
    "        combined_x = tf.transpose(x, perm=[0, 2, 1, 3])\n",
    "        combined_x = tf.reshape(combined_x, (bsz, -1, self.d_model))\n",
    "\n",
    "        return combined_x\n",
    "\n",
    "    \n",
    "    def call(self, Q, K, V, mask):\n",
    "        WQ = self.W_q(Q)\n",
    "        WK = self.W_k(K)\n",
    "        WV = self.W_v(V)\n",
    "        \n",
    "        WQ_splits = self.split_heads(WQ)\n",
    "        WK_splits = self.split_heads(WK)\n",
    "        WV_splits = self.split_heads(WV)\n",
    "        \n",
    "        out, attention_weights = self.scaled_dot_product_attention(\n",
    "            WQ_splits, WK_splits, WV_splits, mask)\n",
    "                        \n",
    "        out = self.combine_heads(out)\n",
    "        out = self.linear(out)\n",
    "            \n",
    "        return out, attention_weights"
   ]
  },
  {
   "cell_type": "markdown",
   "metadata": {},
   "source": [
    "##### Position-wise Feed Forward Network"
   ]
  },
  {
   "cell_type": "code",
   "execution_count": 22,
   "metadata": {},
   "outputs": [],
   "source": [
    "# Position-wise Feed Forward Network 구현\n",
    "class PoswiseFeedForwardNet(tf.keras.layers.Layer):\n",
    "    def __init__(self, d_model, d_ff):\n",
    "        super(PoswiseFeedForwardNet, self).__init__()\n",
    "        self.d_model = d_model\n",
    "        self.d_ff = d_ff\n",
    "\n",
    "        self.fc1 = tf.keras.layers.Dense(d_ff, activation='relu')\n",
    "        self.fc2 = tf.keras.layers.Dense(d_model)\n",
    "\n",
    "    def call(self, x):\n",
    "        out = self.fc1(x)\n",
    "        out = self.fc2(out)\n",
    "            \n",
    "        return out"
   ]
  },
  {
   "cell_type": "markdown",
   "metadata": {},
   "source": [
    "##### Encoder Layer"
   ]
  },
  {
   "cell_type": "code",
   "execution_count": 23,
   "metadata": {},
   "outputs": [],
   "source": [
    "# Encoder의 레이어 구현\n",
    "class EncoderLayer(tf.keras.layers.Layer):\n",
    "    def __init__(self, d_model, n_heads, d_ff, dropout):\n",
    "        super(EncoderLayer, self).__init__()\n",
    "\n",
    "        self.enc_self_attn = MultiHeadAttention(d_model, n_heads)\n",
    "        self.ffn = PoswiseFeedForwardNet(d_model, d_ff)\n",
    "\n",
    "        self.norm_1 = tf.keras.layers.LayerNormalization(epsilon=1e-6)\n",
    "        self.norm_2 = tf.keras.layers.LayerNormalization(epsilon=1e-6)\n",
    "\n",
    "        self.do = tf.keras.layers.Dropout(dropout)\n",
    "        \n",
    "    def call(self, x, mask):\n",
    "        '''\n",
    "        Multi-Head Attention\n",
    "        '''\n",
    "        residual = x\n",
    "        out = self.norm_1(x)\n",
    "        out, enc_attn = self.enc_self_attn(out, out, out, mask)\n",
    "        out = self.do(out)\n",
    "        out += residual\n",
    "        \n",
    "        '''\n",
    "        Position-Wise Feed Forward Network\n",
    "        '''\n",
    "        residual = out\n",
    "        out = self.norm_2(out)\n",
    "        out = self.ffn(out)\n",
    "        out = self.do(out)\n",
    "        out += residual\n",
    "        \n",
    "        return out, enc_attn"
   ]
  },
  {
   "cell_type": "markdown",
   "metadata": {},
   "source": [
    "##### Decoder Layer"
   ]
  },
  {
   "cell_type": "code",
   "execution_count": 24,
   "metadata": {},
   "outputs": [],
   "source": [
    "# Decoder 레이어 구현\n",
    "class DecoderLayer(tf.keras.layers.Layer):\n",
    "    def __init__(self, d_model, num_heads, d_ff, dropout):\n",
    "        super(DecoderLayer, self).__init__()\n",
    "\n",
    "        self.dec_self_attn = MultiHeadAttention(d_model, num_heads)\n",
    "        self.enc_dec_attn = MultiHeadAttention(d_model, num_heads)\n",
    "\n",
    "        self.ffn = PoswiseFeedForwardNet(d_model, d_ff)\n",
    "\n",
    "        self.norm_1 = tf.keras.layers.LayerNormalization(epsilon=1e-6)\n",
    "        self.norm_2 = tf.keras.layers.LayerNormalization(epsilon=1e-6)\n",
    "        self.norm_3 = tf.keras.layers.LayerNormalization(epsilon=1e-6)\n",
    "\n",
    "        self.do = tf.keras.layers.Dropout(dropout)\n",
    "    \n",
    "    def call(self, x, enc_out, dec_enc_mask, padding_mask):\n",
    "        '''\n",
    "        Masked Multi-Head Attention\n",
    "        '''\n",
    "        residual = x\n",
    "        out = self.norm_1(x)\n",
    "        out, dec_attn = self.dec_self_attn(out, out, out, padding_mask)\n",
    "        out = self.do(out)\n",
    "        out += residual\n",
    "\n",
    "        '''\n",
    "        Multi-Head Attention\n",
    "        '''\n",
    "        residual = out\n",
    "        out = self.norm_2(out)\n",
    "        # Q, K, V 순서에 주의하세요!\n",
    "        out, dec_enc_attn = self.enc_dec_attn(Q=out, K=enc_out, V=enc_out, mask=dec_enc_mask)\n",
    "        out = self.do(out)\n",
    "        out += residual\n",
    "        \n",
    "        '''\n",
    "        Position-Wise Feed Forward Network\n",
    "        '''\n",
    "        residual = out\n",
    "        out = self.norm_3(out)\n",
    "        out = self.ffn(out)\n",
    "        out = self.do(out)\n",
    "        out += residual\n",
    "\n",
    "        return out, dec_attn, dec_enc_attn"
   ]
  },
  {
   "cell_type": "markdown",
   "metadata": {},
   "source": [
    "##### Encoder"
   ]
  },
  {
   "cell_type": "code",
   "execution_count": 25,
   "metadata": {},
   "outputs": [],
   "source": [
    "# Encoder 구현\n",
    "class Encoder(tf.keras.Model):\n",
    "    def __init__(self,\n",
    "                    n_layers,\n",
    "                    d_model,\n",
    "                    n_heads,\n",
    "                    d_ff,\n",
    "                    dropout):\n",
    "        super(Encoder, self).__init__()\n",
    "        self.n_layers = n_layers\n",
    "        self.enc_layers = [EncoderLayer(d_model, n_heads, d_ff, dropout) \n",
    "                        for _ in range(n_layers)]\n",
    "    \n",
    "        self.do = tf.keras.layers.Dropout(dropout)\n",
    "        \n",
    "    def call(self, x, mask):\n",
    "        out = x\n",
    "    \n",
    "        enc_attns = list()\n",
    "        for i in range(self.n_layers):\n",
    "            out, enc_attn = self.enc_layers[i](out, mask)\n",
    "            enc_attns.append(enc_attn)\n",
    "        \n",
    "        return out, enc_attns"
   ]
  },
  {
   "cell_type": "markdown",
   "metadata": {},
   "source": [
    "##### Decoder"
   ]
  },
  {
   "cell_type": "code",
   "execution_count": 26,
   "metadata": {},
   "outputs": [],
   "source": [
    "# Decoder 구현\n",
    "class Decoder(tf.keras.Model):\n",
    "    def __init__(self,\n",
    "                    n_layers,\n",
    "                    d_model,\n",
    "                    n_heads,\n",
    "                    d_ff,\n",
    "                    dropout):\n",
    "        super(Decoder, self).__init__()\n",
    "        self.n_layers = n_layers\n",
    "        self.dec_layers = [DecoderLayer(d_model, n_heads, d_ff, dropout) \n",
    "                            for _ in range(n_layers)]\n",
    "                            \n",
    "    def call(self, x, enc_out, dec_enc_mask, padding_mask):\n",
    "        out = x\n",
    "    \n",
    "        dec_attns = list()\n",
    "        dec_enc_attns = list()\n",
    "        for i in range(self.n_layers):\n",
    "            out, dec_attn, dec_enc_attn = \\\n",
    "            self.dec_layers[i](out, enc_out, dec_enc_mask, padding_mask)\n",
    "\n",
    "            dec_attns.append(dec_attn)\n",
    "            dec_enc_attns.append(dec_enc_attn)\n",
    "\n",
    "        return out, dec_attns, dec_enc_attns"
   ]
  },
  {
   "cell_type": "markdown",
   "metadata": {},
   "source": [
    "##### Transformer 전체 모델 조립"
   ]
  },
  {
   "cell_type": "code",
   "execution_count": 27,
   "metadata": {},
   "outputs": [],
   "source": [
    "class Transformer(tf.keras.Model):\n",
    "    def __init__(self,\n",
    "                    n_layers,\n",
    "                    d_model,\n",
    "                    n_heads,\n",
    "                    d_ff,\n",
    "                    src_vocab_size,\n",
    "                    tgt_vocab_size,\n",
    "                    pos_len,\n",
    "                    dropout,\n",
    "                    shared_fc=True,\n",
    "                    shared_emb=False):\n",
    "        super(Transformer, self).__init__()\n",
    "\n",
    "        self.n_layers = n_layers\n",
    "        self.n_heads = n_heads\n",
    "        self.d_ff = d_ff\n",
    "        \n",
    "        self.d_model = tf.cast(d_model, tf.float32)\n",
    "\n",
    "        if shared_emb:\n",
    "            self.enc_emb = self.dec_emb = \\\n",
    "            tf.keras.layers.Embedding(src_vocab_size, d_model)\n",
    "        else:\n",
    "            self.enc_emb = tf.keras.layers.Embedding(src_vocab_size, d_model)\n",
    "            self.dec_emb = tf.keras.layers.Embedding(tgt_vocab_size, d_model)\n",
    "\n",
    "        self.pos_encoding = positional_encoding(pos_len, d_model)\n",
    "        self.do = tf.keras.layers.Dropout(dropout)\n",
    "\n",
    "        self.encoder = Encoder(n_layers, d_model, n_heads, d_ff, dropout)\n",
    "        self.decoder = Decoder(n_layers, d_model, n_heads, d_ff, dropout)\n",
    "\n",
    "        self.fc = tf.keras.layers.Dense(tgt_vocab_size)\n",
    "\n",
    "        self.shared_fc = shared_fc\n",
    "\n",
    "        if shared_fc:\n",
    "            self.fc.set_weights(tf.transpose(self.dec_emb.weights))\n",
    "\n",
    "    def embedding(self, emb, x):\n",
    "        seq_len = x.shape[1]\n",
    "\n",
    "        out = emb(x)\n",
    "\n",
    "        if self.shared_fc: out *= tf.math.sqrt(self.d_model)\n",
    "\n",
    "        out += self.pos_encoding[np.newaxis, ...][:, :seq_len, :]\n",
    "        out = self.do(out)\n",
    "\n",
    "        return out\n",
    "\n",
    "        \n",
    "    def call(self, enc_in, dec_in, enc_mask, dec_enc_mask, dec_mask):\n",
    "        enc_in = self.embedding(self.enc_emb, enc_in)\n",
    "        dec_in = self.embedding(self.dec_emb, dec_in)\n",
    "\n",
    "        enc_out, enc_attns = self.encoder(enc_in, enc_mask)\n",
    "        \n",
    "        dec_out, dec_attns, dec_enc_attns = \\\n",
    "        self.decoder(dec_in, enc_out, dec_enc_mask, dec_mask)\n",
    "        \n",
    "        logits = self.fc(dec_out)\n",
    "        \n",
    "        return logits, enc_attns, dec_attns, dec_enc_attns"
   ]
  },
  {
   "cell_type": "markdown",
   "metadata": {},
   "source": [
    "##### 모델 인스턴스 생성"
   ]
  },
  {
   "cell_type": "code",
   "execution_count": 28,
   "metadata": {},
   "outputs": [],
   "source": [
    "# 주어진 하이퍼파라미터로 Transformer 인스턴스 생성\n",
    "transformer = Transformer(\n",
    "    n_layers=3,\n",
    "    d_model=512,\n",
    "    n_heads=8,\n",
    "    d_ff=2048,\n",
    "    src_vocab_size=len(vocab),\n",
    "    tgt_vocab_size=len(vocab),\n",
    "    pos_len=200,\n",
    "    dropout=0.2,\n",
    "    shared_fc=True,\n",
    "    shared_emb=True)\n",
    "\t\t\n",
    "d_model = 512"
   ]
  },
  {
   "cell_type": "markdown",
   "metadata": {},
   "source": [
    "##### Learning Rate Scheduler"
   ]
  },
  {
   "cell_type": "code",
   "execution_count": 29,
   "metadata": {},
   "outputs": [],
   "source": [
    "# Learning Rate Scheduler 구현\n",
    "class LearningRateScheduler(tf.keras.optimizers.schedules.LearningRateSchedule):\n",
    "    WARMUP_STEPS = 3000\n",
    "    def __init__(self, d_model, warmup_steps=WARMUP_STEPS):\n",
    "        super(LearningRateScheduler, self).__init__()\n",
    "        \n",
    "        self.d_model = tf.cast(d_model, tf.float32)\n",
    "        self.warmup_steps = tf.cast(warmup_steps, tf.float32)\n",
    "    \n",
    "    def __call__(self, step):\n",
    "        step = tf.cast(step, tf.float32)\n",
    "        arg1 = tf.math.pow(step, -0.5)\n",
    "        arg2 = step * tf.math.pow(self.warmup_steps, -1.5)\n",
    "        \n",
    "        return tf.math.pow(self.d_model, -0.5) * tf.math.minimum(arg1, arg2)"
   ]
  },
  {
   "cell_type": "markdown",
   "metadata": {},
   "source": [
    "##### Learning Rate & Optimizer"
   ]
  },
  {
   "cell_type": "code",
   "execution_count": 30,
   "metadata": {},
   "outputs": [],
   "source": [
    "# Learning Rate 인스턴스 선언 & Optimizer 구현\n",
    "learning_rate = LearningRateScheduler(d_model)\n",
    "\n",
    "optimizer = tf.keras.optimizers.Adam(learning_rate,\n",
    "                                        beta_1=0.9,\n",
    "                                        beta_2=0.98, \n",
    "                                        epsilon=1e-9)"
   ]
  },
  {
   "cell_type": "markdown",
   "metadata": {},
   "source": [
    "##### Loss Function"
   ]
  },
  {
   "cell_type": "code",
   "execution_count": 31,
   "metadata": {},
   "outputs": [],
   "source": [
    "# Loss Function 정의\n",
    "loss_object = tf.keras.losses.SparseCategoricalCrossentropy(\n",
    "    from_logits=True, reduction='none')\n",
    "\n",
    "def loss_function(real, pred):\n",
    "    mask = tf.math.logical_not(tf.math.equal(real, 0))\n",
    "    loss_ = loss_object(real, pred)\n",
    "\n",
    "    mask = tf.cast(mask, dtype=loss_.dtype)\n",
    "    loss_ *= mask\n",
    "\n",
    "    return tf.reduce_sum(loss_)/tf.reduce_sum(mask)"
   ]
  },
  {
   "cell_type": "markdown",
   "metadata": {},
   "source": [
    "##### Train Step"
   ]
  },
  {
   "cell_type": "code",
   "execution_count": 32,
   "metadata": {},
   "outputs": [],
   "source": [
    "# Train Step 정의\n",
    "@tf.function()\n",
    "def train_step(src, tgt, model, optimizer):\n",
    "    tgt_in = tgt[:, :-1]  # Decoder의 input\n",
    "    gold = tgt[:, 1:]     # Decoder의 output과 비교하기 위해 right shift를 통해 생성한 최종 타겟\n",
    "\n",
    "    enc_mask, dec_enc_mask, dec_mask = generate_masks(src, tgt_in)\n",
    "\n",
    "    with tf.GradientTape() as tape:\n",
    "        predictions, enc_attns, dec_attns, dec_enc_attns = \\\n",
    "        model(src, tgt_in, enc_mask, dec_enc_mask, dec_mask)\n",
    "        loss = loss_function(gold, predictions)\n",
    "\n",
    "    gradients = tape.gradient(loss, model.trainable_variables)    \n",
    "    optimizer.apply_gradients(zip(gradients, model.trainable_variables))\n",
    "\n",
    "    return loss, enc_attns, dec_attns, dec_enc_attns"
   ]
  },
  {
   "cell_type": "markdown",
   "metadata": {},
   "source": [
    "### Training"
   ]
  },
  {
   "cell_type": "markdown",
   "metadata": {},
   "source": [
    "상헌님 꿀팁 : 저 방금 훈련 돌려봤는데 레이어 개수 3개로 늘리니까 training loss가 훨씬 잘 떨어집니다 validation loss는 안 찍어봤는데 일단 훈련데이터에 대해선 확실히 효과있었습니다"
   ]
  },
  {
   "cell_type": "markdown",
   "metadata": {},
   "source": [
    "---\n",
    "### 1차 실험"
   ]
  },
  {
   "cell_type": "code",
   "execution_count": 33,
   "metadata": {},
   "outputs": [
    {
     "data": {
      "application/vnd.jupyter.widget-view+json": {
       "model_id": "ad8f9bc6156c4f9da355090e00b93478",
       "version_major": 2,
       "version_minor": 0
      },
      "text/plain": [
       "Epoch 1:   0%|          | 0/292 [00:00<?, ?it/s]"
      ]
     },
     "metadata": {},
     "output_type": "display_data"
    },
    {
     "name": "stdout",
     "output_type": "stream",
     "text": [
      "Epoch 1 평균 손실: 6.6297\n"
     ]
    },
    {
     "data": {
      "application/vnd.jupyter.widget-view+json": {
       "model_id": "3bbc2c6848d64bc2a963a68212aaff03",
       "version_major": 2,
       "version_minor": 0
      },
      "text/plain": [
       "Epoch 2:   0%|          | 0/292 [00:00<?, ?it/s]"
      ]
     },
     "metadata": {},
     "output_type": "display_data"
    },
    {
     "name": "stdout",
     "output_type": "stream",
     "text": [
      "Epoch 2 평균 손실: 5.0305\n"
     ]
    },
    {
     "data": {
      "application/vnd.jupyter.widget-view+json": {
       "model_id": "db1f499fc1164411a44455171cf4ea1f",
       "version_major": 2,
       "version_minor": 0
      },
      "text/plain": [
       "Epoch 3:   0%|          | 0/292 [00:00<?, ?it/s]"
      ]
     },
     "metadata": {},
     "output_type": "display_data"
    },
    {
     "name": "stdout",
     "output_type": "stream",
     "text": [
      "Epoch 3 평균 손실: 4.2132\n"
     ]
    }
   ],
   "source": [
    "# Q. 위의 코드를 활용하여 모델을 훈련시켜봅시다!\n",
    "EPOCHS = 3\n",
    "\n",
    "for epoch in range(EPOCHS):\n",
    "    total_loss = 0\n",
    "    dataset_count = tf.data.experimental.cardinality(train_dataset).numpy()\n",
    "    tqdm_bar = tqdm(total=dataset_count, desc=f\"Epoch {epoch+1}\")\n",
    "    \n",
    "    for batch, (src, tgt) in enumerate(train_dataset):\n",
    "        loss, enc_attns, dec_attns, dec_enc_attns = train_step(src, tgt, transformer, optimizer)\n",
    "        total_loss += loss\n",
    "        tqdm_bar.set_description(f\"Epoch {epoch+1} Loss: {loss.numpy():.4f}\")\n",
    "        tqdm_bar.update(1)\n",
    "    \n",
    "    tqdm_bar.close()\n",
    "    print(f\"Epoch {epoch+1} 평균 손실: {(total_loss / dataset_count):.4f}\")"
   ]
  },
  {
   "cell_type": "code",
   "execution_count": 35,
   "metadata": {},
   "outputs": [],
   "source": [
    "# 챗봇 응답 생성 함수 (greedy decoding)\n",
    "def chat_response(sentence, model, word2idx, idx2word, max_len_enc, max_len_dec):\n",
    "    # 입력이 리스트라면 문자열로 변환\n",
    "    if isinstance(sentence, list):\n",
    "        sentence = \" \".join(sentence)\n",
    "\n",
    "    # 입력 문장 전처리\n",
    "    sentence = preprocess_sentence(sentence)\n",
    "    # 간단한 토큰화 (이미 전처리된 문장은 공백 기준 분리)\n",
    "    tokens = sentence.split()\n",
    "    # 단어를 인덱스로 변환 (없으면 <unk>로 처리)\n",
    "    input_ids = [word2idx.get(token, word2idx[\"<unk>\"]) for token in tokens]\n",
    "    # 인코더 입력 벡터로 패딩 (배치 크기 1)\n",
    "    input_ids = tf.keras.preprocessing.sequence.pad_sequences([input_ids], maxlen=max_len_enc, padding='post')\n",
    "    encoder_input = tf.convert_to_tensor(input_ids)\n",
    "    \n",
    "    # 디코더 입력 초기화 (<start> 토큰)\n",
    "    decoder_input = [word2idx[\"<start>\"]]\n",
    "    \n",
    "    for i in range(max_len_dec):\n",
    "        # 현재 디코더 입력을 max_len_dec에 맞춰 패딩\n",
    "        dec_input_padded = tf.keras.preprocessing.sequence.pad_sequences([decoder_input], maxlen=max_len_dec, padding='post')\n",
    "        dec_input_tensor = tf.convert_to_tensor(dec_input_padded)\n",
    "        \n",
    "        # 마스크 생성 (generate_masks 함수가 이미 정의되어 있다고 가정)\n",
    "        enc_mask, combined_mask, dec_mask = generate_masks(encoder_input, dec_input_tensor)\n",
    "        \n",
    "        # 모델 예측 수행\n",
    "        predictions, _, _, _ = model(encoder_input, dec_input_tensor, enc_mask, combined_mask, dec_mask)\n",
    "        # predictions shape: (batch, sequence_length, vocab_size)\n",
    "        # 현재 단계: decoder_input의 길이 - 1 (마지막 토큰의 위치)\n",
    "        predicted_id = tf.argmax(predictions[0, len(decoder_input)-1]).numpy()\n",
    "        \n",
    "        # <end> 토큰이면 종료\n",
    "        if predicted_id == word2idx[\"<end>\"]:\n",
    "            break\n",
    "        \n",
    "        # 예측된 토큰을 디코더 입력에 추가\n",
    "        decoder_input.append(predicted_id)\n",
    "    \n",
    "    # 디코더 입력 중, 첫 번째 <start> 토큰 제외하고 단어로 변환\n",
    "    response_tokens = [idx2word[idx] for idx in decoder_input[1:]]\n",
    "    return \" \".join(response_tokens)"
   ]
  },
  {
   "cell_type": "code",
   "execution_count": 36,
   "metadata": {},
   "outputs": [
    {
     "name": "stdout",
     "output_type": "stream",
     "text": [
      "\n",
      "Translations\n",
      "> 1. 정말 사랑 하는 것 도 좋을 것 같아요 . <end>\n",
      "> 2. 사랑 은 사랑 은 언제나 하는 거 예요 . <end>\n",
      "> 3. 사랑 은 나 봐요 . <end>\n",
      "> 4. 정말 사랑 하는 것 도 좋을 것 같아요 . <end>\n",
      "\n",
      "Hyperparameters\n",
      "> n_layers: 2\n",
      "> d_model: 512.0\n",
      "> n_heads: 8\n",
      "> d_ff: 2048\n",
      "> dropout: 0.3\n",
      "\n",
      "Training Parameters\n",
      "> Warmup Steps: 4000\n",
      "> Batch Size: 64\n",
      "> Epoch At: 3\n"
     ]
    }
   ],
   "source": [
    "# 인코더, 디코더의 최대 길이\n",
    "enc_max_len = enc_ndarray.shape[1]\n",
    "dec_max_len = dec_ndarray.shape[1]\n",
    "\n",
    "# 테스트용 예문\n",
    "test_queries = [\n",
    "    \"지루하다, 놀러가고 싶어.\",\n",
    "    \"오늘 일찍 일어났더니 피곤하다.\",\n",
    "    \"간만에 여자친구랑 데이트 하기로 했어.\",\n",
    "    \"집에 있는다는 소리야.\"\n",
    "]\n",
    "\n",
    "# 챗봇 응답 생성\n",
    "responses = [chat_response(query, transformer, word2idx, idx2word, enc_max_len, dec_max_len) \n",
    "             for query in test_queries]\n",
    "\n",
    "# 제출 형식에 맞게 결과 출력\n",
    "print(\"\\nTranslations\")\n",
    "for i, response in enumerate(responses, 1):\n",
    "    print(f\"> {i}. {response} <end>\")\n",
    "\n",
    "# 하이퍼파라미터 출력 함수\n",
    "def print_hyperparameters(model):\n",
    "    print(\"\\nHyperparameters\")\n",
    "    print(\"> n_layers:\", model.n_layers)\n",
    "    print(\"> d_model:\", model.d_model.numpy() if hasattr(model.d_model, \"numpy\") else model.d_model)\n",
    "    print(\"> n_heads:\", model.n_heads)\n",
    "    print(\"> d_ff:\", model.d_ff)\n",
    "    print(\"> dropout:\", model.do.rate)\n",
    "\n",
    "print_hyperparameters(transformer)\n",
    "\n",
    "# 훈련 파라미터 (학습 시 사용한 값)\n",
    "\n",
    "print(\"\\nTraining Parameters\")\n",
    "print(\"> Warmup Steps:\", LearningRateScheduler.WARMUP_STEPS)\n",
    "print(\"> Batch Size:\", BATCH_SIZE)\n",
    "print(\"> Epoch At:\", EPOCHS)"
   ]
  },
  {
   "cell_type": "code",
   "execution_count": 37,
   "metadata": {},
   "outputs": [],
   "source": [
    "from nltk.translate.bleu_score import sentence_bleu, SmoothingFunction\n",
    "from tqdm import tqdm\n",
    "\n",
    "def eval_bleu_single(model, src_sentence, tgt_sentence, word2idx, idx2word, max_len_enc, max_len_dec, verbose=True):\n",
    "    # 만약 src_sentence나 tgt_sentence가 리스트라면 문자열로 변환\n",
    "    if isinstance(src_sentence, list):\n",
    "        src_str = \" \".join(src_sentence)\n",
    "    else:\n",
    "        src_str = src_sentence\n",
    "    if isinstance(tgt_sentence, list):\n",
    "        tgt_str = \" \".join(tgt_sentence)\n",
    "    else:\n",
    "        tgt_str = tgt_sentence\n",
    "\n",
    "    candidate = chat_response(src_str, model, word2idx, idx2word, max_len_enc, max_len_dec)\n",
    "    candidate_tokens = candidate.split()\n",
    "    reference_tokens = tgt_str.split()\n",
    "\n",
    "    score = sentence_bleu([reference_tokens], candidate_tokens, smoothing_function=SmoothingFunction().method1)\n",
    "    \n",
    "    if verbose:\n",
    "        print(\"Source Sentence: \", src_str)\n",
    "        print(\"Model Prediction: \", candidate)\n",
    "        print(\"Reference: \", tgt_str)\n",
    "        print(\"Score: %lf\\n\" % score)\n",
    "        \n",
    "    return score\n",
    "\n",
    "def eval_bleu(model, src_sentences, tgt_sentences, word2idx, idx2word, max_len_enc, max_len_dec, verbose=True):\n",
    "    total_score = 0.0\n",
    "    sample_size = len(src_sentences)\n",
    "    \n",
    "    for idx in tqdm(range(sample_size), desc=\"Evaluating\"):\n",
    "        score = eval_bleu_single(model, src_sentences[idx], tgt_sentences[idx],\n",
    "                                 word2idx, idx2word, max_len_enc, max_len_dec, verbose)\n",
    "        total_score += score\n",
    "    \n",
    "    print(\"Num of Samples:\", sample_size)\n",
    "    print(\"Average BLEU Score: {:.4f}\".format(total_score / sample_size))\n"
   ]
  },
  {
   "cell_type": "code",
   "execution_count": 38,
   "metadata": {},
   "outputs": [],
   "source": [
    "def compute_bleu_batch(queries, references, model, word2idx, idx2word, max_len_enc, max_len_dec, eval_batch_size=64):\n",
    "    \"\"\"\n",
    "    전체 데이터셋(queries, references)을 배치 처리하여 BLEU Score를 계산하는 함수.\n",
    "    queries, references는 문자열 리스트.\n",
    "    \"\"\"\n",
    "    smooth_fn = SmoothingFunction().method1\n",
    "    # 배치로 챗봇 응답 생성\n",
    "    responses = chat_response_batch(queries, model, word2idx, idx2word, max_len_enc, max_len_dec, eval_batch_size)\n",
    "    \n",
    "    bleu_scores = []\n",
    "    for resp, ref in zip(responses, references):\n",
    "        candidate_tokens = resp.split()\n",
    "        reference_tokens = ref.split()  # reference가 문자열로 되어 있다고 가정\n",
    "        score = sentence_bleu([reference_tokens], candidate_tokens, smoothing_function=smooth_fn)\n",
    "        bleu_scores.append(score)\n",
    "        \n",
    "    avg_bleu = sum(bleu_scores) / len(bleu_scores) if bleu_scores else 0\n",
    "    return avg_bleu"
   ]
  },
  {
   "cell_type": "code",
   "execution_count": 40,
   "metadata": {},
   "outputs": [],
   "source": [
    "# eval_bleu(transformer, que_corpus, ans_corpus, word2idx, idx2word, enc_max_len, dec_max_len, verbose=False)"
   ]
  },
  {
   "cell_type": "markdown",
   "metadata": {},
   "source": [
    "### bleu score 용 sample data 추출"
   ]
  },
  {
   "cell_type": "code",
   "execution_count": 41,
   "metadata": {},
   "outputs": [
    {
     "name": "stdout",
     "output_type": "stream",
     "text": [
      "샘플 추출 완료: 2000개\n"
     ]
    }
   ],
   "source": [
    "import random\n",
    "from tqdm.notebook import tqdm\n",
    "from nltk.translate.bleu_score import sentence_bleu, SmoothingFunction\n",
    "\n",
    "# 무작위로 2000개 샘플 추출\n",
    "def sample_random_data(que_corpus, ans_corpus, sample_size=2000):\n",
    "    \"\"\"\n",
    "    전체 토큰화된 질문(que_corpus)과 정답(ans_corpus)에서 무작위로 sample_size개 샘플을 추출합니다.\n",
    "    \n",
    "    que_corpus, ans_corpus: 토큰화된 문장 리스트들 (예: [['12시', '땡', '!'], ...])\n",
    "    sample_size: 추출할 샘플 수 (기본 2000)\n",
    "    \n",
    "    Returns:\n",
    "      sampled_questions: 선택된 질문(토큰 리스트)\n",
    "      sampled_answers: 선택된 정답(토큰 리스트)\n",
    "    \"\"\"\n",
    "    total_samples = min(len(que_corpus), len(ans_corpus))\n",
    "    sample_size = sample_size if total_samples >= sample_size else total_samples\n",
    "    sample_indices = random.sample(range(total_samples), sample_size)\n",
    "    \n",
    "    sampled_questions = [que_corpus[i] for i in sample_indices]\n",
    "    sampled_answers   = [ans_corpus[i] for i in sample_indices]\n",
    "    return sampled_questions, sampled_answers\n",
    "\n",
    "# 샘플 데이터 추출\n",
    "sampled_questions, sampled_answers = sample_random_data(que_corpus, ans_corpus, sample_size=2000)\n",
    "print(\"샘플 추출 완료: {}개\".format(len(sampled_questions)))"
   ]
  },
  {
   "cell_type": "code",
   "execution_count": 42,
   "metadata": {},
   "outputs": [
    {
     "data": {
      "application/vnd.jupyter.widget-view+json": {
       "model_id": "ab806904fd7b4f0e8588e7f4507cb5d8",
       "version_major": 2,
       "version_minor": 0
      },
      "text/plain": [
       "Generating responses:   0%|          | 0/2000 [00:00<?, ?it/s]"
      ]
     },
     "metadata": {},
     "output_type": "display_data"
    },
    {
     "data": {
      "application/vnd.jupyter.widget-view+json": {
       "model_id": "abe42e40b2f44c3ead0b00b06ef77951",
       "version_major": 2,
       "version_minor": 0
      },
      "text/plain": [
       "Computing BLEU scores:   0%|          | 0/2000 [00:00<?, ?it/s]"
      ]
     },
     "metadata": {},
     "output_type": "display_data"
    },
    {
     "name": "stdout",
     "output_type": "stream",
     "text": [
      "Random sample Average BLEU Score: 0.0373\n"
     ]
    }
   ],
   "source": [
    "# 학습된 모델로 샘플 질문에 대해 응답 생성 (chat_response 함수 사용)\n",
    "# chat_response 함수는 입력 문자열을 받아 챗봇 응답(문자열)을 반환\n",
    "generated_responses = []\n",
    "for question in tqdm(sampled_questions, desc=\"Generating responses\"):\n",
    "    # 질문은 토큰 리스트이므로 문자열로 변환\n",
    "    question_str = \" \".join(question)\n",
    "    response_str = chat_response(question_str, transformer, word2idx, idx2word, enc_max_len, dec_max_len)\n",
    "    generated_responses.append(response_str)\n",
    "\n",
    "# BLEU Score 계산\n",
    "smooth_fn = SmoothingFunction().method1\n",
    "bleu_scores = []\n",
    "# 샘플 정답(sampled_answers)은 토큰 리스트 그대로 사용, 모델 응답은 문자열이므로 split() 처리\n",
    "for ref_tokens, candidate_str in tqdm(zip(sampled_answers, generated_responses),\n",
    "                                       total=len(generated_responses),\n",
    "                                       desc=\"Computing BLEU scores\"):\n",
    "    candidate_tokens = candidate_str.split()\n",
    "    score = sentence_bleu([ref_tokens], candidate_tokens, smoothing_function=smooth_fn)\n",
    "    bleu_scores.append(score)\n",
    "\n",
    "avg_bleu = sum(bleu_scores) / len(bleu_scores) if bleu_scores else 0\n",
    "print(\"Random sample Average BLEU Score: {:.4f}\".format(avg_bleu))\n"
   ]
  },
  {
   "cell_type": "markdown",
   "metadata": {},
   "source": [
    "---\n",
    "### 2차 실험"
   ]
  },
  {
   "cell_type": "code",
   "execution_count": 34,
   "metadata": {},
   "outputs": [
    {
     "data": {
      "application/vnd.jupyter.widget-view+json": {
       "model_id": "e301a8dbd53848dcae5c6627d6d9f3db",
       "version_major": 2,
       "version_minor": 0
      },
      "text/plain": [
       "Epoch 1:   0%|          | 0/293 [00:00<?, ?it/s]"
      ]
     },
     "metadata": {},
     "output_type": "display_data"
    },
    {
     "name": "stdout",
     "output_type": "stream",
     "text": [
      "Epoch 1 평균 손실: 6.0877\n"
     ]
    },
    {
     "data": {
      "application/vnd.jupyter.widget-view+json": {
       "model_id": "904086a970ac494c9cd6c222ea0187ec",
       "version_major": 2,
       "version_minor": 0
      },
      "text/plain": [
       "Epoch 2:   0%|          | 0/293 [00:00<?, ?it/s]"
      ]
     },
     "metadata": {},
     "output_type": "display_data"
    },
    {
     "name": "stdout",
     "output_type": "stream",
     "text": [
      "Epoch 2 평균 손실: 4.7899\n"
     ]
    },
    {
     "data": {
      "application/vnd.jupyter.widget-view+json": {
       "model_id": "2d4a20df42ec44748d433d8a07405b29",
       "version_major": 2,
       "version_minor": 0
      },
      "text/plain": [
       "Epoch 3:   0%|          | 0/293 [00:00<?, ?it/s]"
      ]
     },
     "metadata": {},
     "output_type": "display_data"
    },
    {
     "name": "stdout",
     "output_type": "stream",
     "text": [
      "Epoch 3 평균 손실: 3.7832\n"
     ]
    },
    {
     "data": {
      "application/vnd.jupyter.widget-view+json": {
       "model_id": "b304bcfbe0d94af7a689c994e5a5e419",
       "version_major": 2,
       "version_minor": 0
      },
      "text/plain": [
       "Epoch 4:   0%|          | 0/293 [00:00<?, ?it/s]"
      ]
     },
     "metadata": {},
     "output_type": "display_data"
    },
    {
     "name": "stdout",
     "output_type": "stream",
     "text": [
      "Epoch 4 평균 손실: 2.7715\n"
     ]
    },
    {
     "data": {
      "application/vnd.jupyter.widget-view+json": {
       "model_id": "c11afc909aaa4a26b7bf8fb5639f9e71",
       "version_major": 2,
       "version_minor": 0
      },
      "text/plain": [
       "Epoch 5:   0%|          | 0/293 [00:00<?, ?it/s]"
      ]
     },
     "metadata": {},
     "output_type": "display_data"
    },
    {
     "name": "stdout",
     "output_type": "stream",
     "text": [
      "Epoch 5 평균 손실: 2.2006\n"
     ]
    },
    {
     "data": {
      "application/vnd.jupyter.widget-view+json": {
       "model_id": "4ac1c409725f4cb8957a2de2f4a4fb63",
       "version_major": 2,
       "version_minor": 0
      },
      "text/plain": [
       "Epoch 6:   0%|          | 0/293 [00:00<?, ?it/s]"
      ]
     },
     "metadata": {},
     "output_type": "display_data"
    },
    {
     "name": "stdout",
     "output_type": "stream",
     "text": [
      "Epoch 6 평균 손실: 1.9130\n"
     ]
    },
    {
     "data": {
      "application/vnd.jupyter.widget-view+json": {
       "model_id": "227dad5964de4062b93ab3084ba4b5b5",
       "version_major": 2,
       "version_minor": 0
      },
      "text/plain": [
       "Epoch 7:   0%|          | 0/293 [00:00<?, ?it/s]"
      ]
     },
     "metadata": {},
     "output_type": "display_data"
    },
    {
     "name": "stdout",
     "output_type": "stream",
     "text": [
      "Epoch 7 평균 손실: 1.7117\n"
     ]
    },
    {
     "data": {
      "application/vnd.jupyter.widget-view+json": {
       "model_id": "c275ce47001441478bf3ed7267e6398b",
       "version_major": 2,
       "version_minor": 0
      },
      "text/plain": [
       "Epoch 8:   0%|          | 0/293 [00:00<?, ?it/s]"
      ]
     },
     "metadata": {},
     "output_type": "display_data"
    },
    {
     "name": "stdout",
     "output_type": "stream",
     "text": [
      "Epoch 8 평균 손실: 1.5724\n"
     ]
    },
    {
     "data": {
      "application/vnd.jupyter.widget-view+json": {
       "model_id": "2abaddcf97c54f30a355a8e3d4cd4eac",
       "version_major": 2,
       "version_minor": 0
      },
      "text/plain": [
       "Epoch 9:   0%|          | 0/293 [00:00<?, ?it/s]"
      ]
     },
     "metadata": {},
     "output_type": "display_data"
    },
    {
     "name": "stdout",
     "output_type": "stream",
     "text": [
      "Epoch 9 평균 손실: 1.5129\n"
     ]
    },
    {
     "data": {
      "application/vnd.jupyter.widget-view+json": {
       "model_id": "53104471394342979fca33ff1d167823",
       "version_major": 2,
       "version_minor": 0
      },
      "text/plain": [
       "Epoch 10:   0%|          | 0/293 [00:00<?, ?it/s]"
      ]
     },
     "metadata": {},
     "output_type": "display_data"
    },
    {
     "name": "stdout",
     "output_type": "stream",
     "text": [
      "Epoch 10 평균 손실: 1.4586\n"
     ]
    },
    {
     "data": {
      "application/vnd.jupyter.widget-view+json": {
       "model_id": "40ed7b28ef7e4a36b7734452164c6c09",
       "version_major": 2,
       "version_minor": 0
      },
      "text/plain": [
       "Epoch 11:   0%|          | 0/293 [00:00<?, ?it/s]"
      ]
     },
     "metadata": {},
     "output_type": "display_data"
    },
    {
     "name": "stdout",
     "output_type": "stream",
     "text": [
      "Epoch 11 평균 손실: 1.4366\n"
     ]
    },
    {
     "data": {
      "application/vnd.jupyter.widget-view+json": {
       "model_id": "707711a9d89d4f93b00843c126fef5c7",
       "version_major": 2,
       "version_minor": 0
      },
      "text/plain": [
       "Epoch 12:   0%|          | 0/293 [00:00<?, ?it/s]"
      ]
     },
     "metadata": {},
     "output_type": "display_data"
    },
    {
     "name": "stdout",
     "output_type": "stream",
     "text": [
      "Epoch 12 평균 손실: 1.2623\n"
     ]
    },
    {
     "data": {
      "application/vnd.jupyter.widget-view+json": {
       "model_id": "960ac571996144a98d7d0ccc61c0d64a",
       "version_major": 2,
       "version_minor": 0
      },
      "text/plain": [
       "Epoch 13:   0%|          | 0/293 [00:00<?, ?it/s]"
      ]
     },
     "metadata": {},
     "output_type": "display_data"
    },
    {
     "name": "stdout",
     "output_type": "stream",
     "text": [
      "Epoch 13 평균 손실: 1.0582\n"
     ]
    },
    {
     "data": {
      "application/vnd.jupyter.widget-view+json": {
       "model_id": "99454ab39b024827ad3efb9a32b085e4",
       "version_major": 2,
       "version_minor": 0
      },
      "text/plain": [
       "Epoch 14:   0%|          | 0/293 [00:00<?, ?it/s]"
      ]
     },
     "metadata": {},
     "output_type": "display_data"
    },
    {
     "name": "stdout",
     "output_type": "stream",
     "text": [
      "Epoch 14 평균 손실: 0.9400\n"
     ]
    },
    {
     "data": {
      "application/vnd.jupyter.widget-view+json": {
       "model_id": "d2005c584b3e497096b2a320cbc6342f",
       "version_major": 2,
       "version_minor": 0
      },
      "text/plain": [
       "Epoch 15:   0%|          | 0/293 [00:00<?, ?it/s]"
      ]
     },
     "metadata": {},
     "output_type": "display_data"
    },
    {
     "name": "stdout",
     "output_type": "stream",
     "text": [
      "Epoch 15 평균 손실: 0.8237\n"
     ]
    },
    {
     "data": {
      "application/vnd.jupyter.widget-view+json": {
       "model_id": "db6845a8c63c4247888bad2fe5ca5048",
       "version_major": 2,
       "version_minor": 0
      },
      "text/plain": [
       "Epoch 16:   0%|          | 0/293 [00:00<?, ?it/s]"
      ]
     },
     "metadata": {},
     "output_type": "display_data"
    },
    {
     "name": "stdout",
     "output_type": "stream",
     "text": [
      "Epoch 16 평균 손실: 0.7295\n"
     ]
    },
    {
     "data": {
      "application/vnd.jupyter.widget-view+json": {
       "model_id": "e77ab649547d40c38ee00a73a8e4688a",
       "version_major": 2,
       "version_minor": 0
      },
      "text/plain": [
       "Epoch 17:   0%|          | 0/293 [00:00<?, ?it/s]"
      ]
     },
     "metadata": {},
     "output_type": "display_data"
    },
    {
     "name": "stdout",
     "output_type": "stream",
     "text": [
      "Epoch 17 평균 손실: 0.6754\n"
     ]
    },
    {
     "data": {
      "application/vnd.jupyter.widget-view+json": {
       "model_id": "83f0df6af9f847e9a7c4496bf06f31d7",
       "version_major": 2,
       "version_minor": 0
      },
      "text/plain": [
       "Epoch 18:   0%|          | 0/293 [00:00<?, ?it/s]"
      ]
     },
     "metadata": {},
     "output_type": "display_data"
    },
    {
     "name": "stdout",
     "output_type": "stream",
     "text": [
      "Epoch 18 평균 손실: 0.6113\n"
     ]
    },
    {
     "data": {
      "application/vnd.jupyter.widget-view+json": {
       "model_id": "8a0fb7eb308846a09cdabccb07c11593",
       "version_major": 2,
       "version_minor": 0
      },
      "text/plain": [
       "Epoch 19:   0%|          | 0/293 [00:00<?, ?it/s]"
      ]
     },
     "metadata": {},
     "output_type": "display_data"
    },
    {
     "name": "stdout",
     "output_type": "stream",
     "text": [
      "Epoch 19 평균 손실: 0.5563\n"
     ]
    },
    {
     "data": {
      "application/vnd.jupyter.widget-view+json": {
       "model_id": "a8434a3f73f64368985084ce91181d31",
       "version_major": 2,
       "version_minor": 0
      },
      "text/plain": [
       "Epoch 20:   0%|          | 0/293 [00:00<?, ?it/s]"
      ]
     },
     "metadata": {},
     "output_type": "display_data"
    },
    {
     "name": "stdout",
     "output_type": "stream",
     "text": [
      "Epoch 20 평균 손실: 0.5299\n"
     ]
    },
    {
     "data": {
      "image/png": "[encoded data removed]",
      "text/plain": [
       "<Figure size 800x600 with 1 Axes>"
      ]
     },
     "metadata": {},
     "output_type": "display_data"
    }
   ],
   "source": [
    "# Q. 위의 코드를 활용하여 모델을 훈련시켜봅시다!\n",
    "import matplotlib.pyplot as plt\n",
    "\n",
    "epoch_losses = []\n",
    "\n",
    "EPOCHS = 20\n",
    "\n",
    "for epoch in range(EPOCHS):\n",
    "    total_loss = 0\n",
    "    dataset_count = tf.data.experimental.cardinality(train_dataset).numpy()\n",
    "    tqdm_bar = tqdm(total=dataset_count, desc=f\"Epoch {epoch+1}\")\n",
    "    \n",
    "    for batch, (src, tgt) in enumerate(train_dataset):\n",
    "        loss, enc_attns, dec_attns, dec_enc_attns = train_step(src, tgt, transformer, optimizer)\n",
    "        total_loss += loss\n",
    "        tqdm_bar.set_description(f\"Epoch {epoch+1} Loss: {loss.numpy():.4f}\")\n",
    "        tqdm_bar.update(1)\n",
    "    \n",
    "    tqdm_bar.close()\n",
    "    avg_loss = total_loss / dataset_count\n",
    "    epoch_losses.append(avg_loss.numpy())\n",
    "    print(f\"Epoch {epoch+1} 평균 손실: {avg_loss:.4f}\")\n",
    "\n",
    "# 에폭별 평균 손실 그래프 그리기\n",
    "plt.figure(figsize=(8, 6))\n",
    "plt.plot(range(1, EPOCHS+1), epoch_losses, marker='o', linestyle='-', color='blue')\n",
    "plt.xlabel(\"Epoch\")\n",
    "plt.ylabel(\"Average Loss\")\n",
    "plt.title(\"Training Loss per Epoch\")\n",
    "plt.grid(True)\n",
    "plt.show()"
   ]
  },
  {
   "cell_type": "code",
   "execution_count": 35,
   "metadata": {},
   "outputs": [],
   "source": [
    "# 챗봇 응답 생성 함수 (greedy decoding)\n",
    "def chat_response(sentence, model, word2idx, idx2word, max_len_enc, max_len_dec):\n",
    "    # 입력이 리스트라면 문자열로 변환\n",
    "    if isinstance(sentence, list):\n",
    "        sentence = \" \".join(sentence)\n",
    "\n",
    "    # 입력 문장 전처리\n",
    "    sentence = preprocess_sentence(sentence)\n",
    "    # 간단한 토큰화 (이미 전처리된 문장은 공백 기준 분리)\n",
    "    tokens = sentence.split()\n",
    "    # 단어를 인덱스로 변환 (없으면 <unk>로 처리)\n",
    "    input_ids = [word2idx.get(token, word2idx[\"<unk>\"]) for token in tokens]\n",
    "    # 인코더 입력 벡터로 패딩 (배치 크기 1)\n",
    "    input_ids = tf.keras.preprocessing.sequence.pad_sequences([input_ids], maxlen=max_len_enc, padding='post')\n",
    "    encoder_input = tf.convert_to_tensor(input_ids)\n",
    "    \n",
    "    # 디코더 입력 초기화 (<start> 토큰)\n",
    "    decoder_input = [word2idx[\"<start>\"]]\n",
    "    \n",
    "    for i in range(max_len_dec):\n",
    "        # 현재 디코더 입력을 max_len_dec에 맞춰 패딩\n",
    "        dec_input_padded = tf.keras.preprocessing.sequence.pad_sequences([decoder_input], maxlen=max_len_dec, padding='post')\n",
    "        dec_input_tensor = tf.convert_to_tensor(dec_input_padded)\n",
    "        \n",
    "        # 마스크 생성 (generate_masks 함수가 이미 정의되어 있다고 가정)\n",
    "        enc_mask, combined_mask, dec_mask = generate_masks(encoder_input, dec_input_tensor)\n",
    "        \n",
    "        # 모델 예측 수행\n",
    "        predictions, _, _, _ = model(encoder_input, dec_input_tensor, enc_mask, combined_mask, dec_mask)\n",
    "        # predictions shape: (batch, sequence_length, vocab_size)\n",
    "        # 현재 단계: decoder_input의 길이 - 1 (마지막 토큰의 위치)\n",
    "        predicted_id = tf.argmax(predictions[0, len(decoder_input)-1]).numpy()\n",
    "        \n",
    "        # <end> 토큰이면 종료\n",
    "        if predicted_id == word2idx[\"<end>\"]:\n",
    "            break\n",
    "        \n",
    "        # 예측된 토큰을 디코더 입력에 추가\n",
    "        decoder_input.append(predicted_id)\n",
    "    \n",
    "    # 디코더 입력 중, 첫 번째 <start> 토큰 제외하고 단어로 변환\n",
    "    response_tokens = [idx2word[idx] for idx in decoder_input[1:]]\n",
    "    return \" \".join(response_tokens)"
   ]
  },
  {
   "cell_type": "code",
   "execution_count": 36,
   "metadata": {},
   "outputs": [
    {
     "name": "stdout",
     "output_type": "stream",
     "text": [
      "\n",
      "Translations\n",
      "> 1. 그게 무슨 부분 으로 착각 만 할 수 있어요 . <end>\n",
      "> 2. 마음 이 것 건지 바쁜 까지 해보세요 . <end>\n",
      "> 3. 그게 무슨 부분 이에요 . <end>\n",
      "> 4. 그게 무슨 부분 으로 착각 만 할 수 있어요 . <end>\n",
      "\n",
      "Hyperparameters\n",
      "> n_layers: 3\n",
      "> d_model: 512.0\n",
      "> n_heads: 8\n",
      "> d_ff: 2048\n",
      "> dropout: 0.2\n",
      "\n",
      "Training Parameters\n",
      "> Warmup Steps: 3000\n",
      "> Batch Size: 64\n",
      "> Epoch At: 20\n"
     ]
    }
   ],
   "source": [
    "# 인코더, 디코더의 최대 길이\n",
    "enc_max_len = enc_ndarray.shape[1]\n",
    "dec_max_len = dec_ndarray.shape[1]\n",
    "\n",
    "# 테스트용 예문\n",
    "test_queries = [\n",
    "    \"지루하다, 놀러가고 싶어.\",\n",
    "    \"오늘 일찍 일어났더니 피곤하다.\",\n",
    "    \"간만에 여자친구랑 데이트 하기로 했어.\",\n",
    "    \"집에 있는다는 소리야.\"\n",
    "]\n",
    "\n",
    "# 챗봇 응답 생성\n",
    "responses = [chat_response(query, transformer, word2idx, idx2word, enc_max_len, dec_max_len) \n",
    "             for query in test_queries]\n",
    "\n",
    "# 제출 형식에 맞게 결과 출력\n",
    "print(\"\\nTranslations\")\n",
    "for i, response in enumerate(responses, 1):\n",
    "    print(f\"> {i}. {response} <end>\")\n",
    "\n",
    "# 하이퍼파라미터 출력 함수\n",
    "def print_hyperparameters(model):\n",
    "    print(\"\\nHyperparameters\")\n",
    "    print(\"> n_layers:\", model.n_layers)\n",
    "    print(\"> d_model:\", model.d_model.numpy() if hasattr(model.d_model, \"numpy\") else model.d_model)\n",
    "    print(\"> n_heads:\", model.n_heads)\n",
    "    print(\"> d_ff:\", model.d_ff)\n",
    "    print(\"> dropout:\", model.do.rate)\n",
    "\n",
    "print_hyperparameters(transformer)\n",
    "\n",
    "# 훈련 파라미터 (학습 시 사용한 값)\n",
    "\n",
    "print(\"\\nTraining Parameters\")\n",
    "print(\"> Warmup Steps:\", LearningRateScheduler.WARMUP_STEPS)\n",
    "print(\"> Batch Size:\", BATCH_SIZE)\n",
    "print(\"> Epoch At:\", EPOCHS)"
   ]
  },
  {
   "cell_type": "code",
   "execution_count": 37,
   "metadata": {},
   "outputs": [
    {
     "name": "stdout",
     "output_type": "stream",
     "text": [
      "샘플 추출 완료: 2000개\n"
     ]
    }
   ],
   "source": [
    "import random\n",
    "from tqdm.notebook import tqdm\n",
    "from nltk.translate.bleu_score import sentence_bleu, SmoothingFunction\n",
    "\n",
    "# 무작위로 2000개 샘플 추출\n",
    "def sample_random_data(que_corpus, ans_corpus, sample_size=2000):\n",
    "    \"\"\"\n",
    "    전체 토큰화된 질문(que_corpus)과 정답(ans_corpus)에서 무작위로 sample_size개 샘플을 추출합니다.\n",
    "    \n",
    "    que_corpus, ans_corpus: 토큰화된 문장 리스트들 (예: [['12시', '땡', '!'], ...])\n",
    "    sample_size: 추출할 샘플 수 (기본 2000)\n",
    "    \n",
    "    Returns:\n",
    "      sampled_questions: 선택된 질문(토큰 리스트)\n",
    "      sampled_answers: 선택된 정답(토큰 리스트)\n",
    "    \"\"\"\n",
    "    total_samples = min(len(que_corpus), len(ans_corpus))\n",
    "    sample_size = sample_size if total_samples >= sample_size else total_samples\n",
    "    sample_indices = random.sample(range(total_samples), sample_size)\n",
    "    \n",
    "    sampled_questions = [que_corpus[i] for i in sample_indices]\n",
    "    sampled_answers   = [ans_corpus[i] for i in sample_indices]\n",
    "    return sampled_questions, sampled_answers\n",
    "\n",
    "# 샘플 데이터 추출\n",
    "sampled_questions, sampled_answers = sample_random_data(que_corpus, ans_corpus, sample_size=2000)\n",
    "print(\"샘플 추출 완료: {}개\".format(len(sampled_questions)))"
   ]
  },
  {
   "cell_type": "code",
   "execution_count": 38,
   "metadata": {},
   "outputs": [
    {
     "data": {
      "application/vnd.jupyter.widget-view+json": {
       "model_id": "5dfb666c5a9540dba508cd959ee1ff52",
       "version_major": 2,
       "version_minor": 0
      },
      "text/plain": [
       "Generating responses:   0%|          | 0/2000 [00:00<?, ?it/s]"
      ]
     },
     "metadata": {},
     "output_type": "display_data"
    },
    {
     "data": {
      "application/vnd.jupyter.widget-view+json": {
       "model_id": "3885e414c6c047e396420e36d3ea7383",
       "version_major": 2,
       "version_minor": 0
      },
      "text/plain": [
       "Computing BLEU scores:   0%|          | 0/2000 [00:00<?, ?it/s]"
      ]
     },
     "metadata": {},
     "output_type": "display_data"
    },
    {
     "name": "stdout",
     "output_type": "stream",
     "text": [
      "Random sample Average BLEU Score: 0.5826\n"
     ]
    }
   ],
   "source": [
    "# 학습된 모델로 샘플 질문에 대해 응답 생성 (chat_response 함수 사용)\n",
    "# chat_response 함수는 입력 문자열을 받아 챗봇 응답(문자열)을 반환\n",
    "generated_responses = []\n",
    "for question in tqdm(sampled_questions, desc=\"Generating responses\"):\n",
    "    # 질문은 토큰 리스트이므로 문자열로 변환\n",
    "    question_str = \" \".join(question)\n",
    "    response_str = chat_response(question_str, transformer, word2idx, idx2word, enc_max_len, dec_max_len)\n",
    "    generated_responses.append(response_str)\n",
    "\n",
    "# BLEU Score 계산\n",
    "smooth_fn = SmoothingFunction().method1\n",
    "bleu_scores = []\n",
    "# 샘플 정답(sampled_answers)은 토큰 리스트 그대로 사용, 모델 응답은 문자열이므로 split() 처리\n",
    "for ref_tokens, candidate_str in tqdm(zip(sampled_answers, generated_responses),\n",
    "                                       total=len(generated_responses),\n",
    "                                       desc=\"Computing BLEU scores\"):\n",
    "    candidate_tokens = candidate_str.split()\n",
    "    score = sentence_bleu([ref_tokens], candidate_tokens, smoothing_function=smooth_fn)\n",
    "    bleu_scores.append(score)\n",
    "\n",
    "avg_bleu = sum(bleu_scores) / len(bleu_scores) if bleu_scores else 0\n",
    "print(\"Random sample Average BLEU Score: {:.4f}\".format(avg_bleu))\n"
   ]
  },
  {
   "cell_type": "markdown",
   "metadata": {},
   "source": [
    "## 회고\n",
    "일단 mecab 설치하는 부분에서 시간이 너무 오래걸렸다.   \n",
    "결국 설치도 못하고.. okt로 바꿨지만..   \n",
    "다른 사람들은 어떻게 설치하셨을지 궁금하다.   \n",
    "그리고 BLEU score 계산할 때도 엄청 걸리던데 다른 분들은 어떻게 하셨는지 궁금하다.   \n",
    "난 결국 2000개 랜덤으로 추출해서 점수를 계산하는 방법을 선택했다.   \n",
    "그리고 원래 이렇게 오래 걸리는 지 궁금하다.  \n",
    "생각보다 시간이 너무 오래 걸려서 많은 실험을 하지는 못했지만 두 번째 실험 결과 BLEU score가 0.5를 넘겨서 너무 기분이 좋았다.   \n",
    "근데 예문 결과는 썩 별로라서... 뭔가 더 살펴봐야 될 것 같지만 이만 마무리하겠다...   \n",
    "그동안 했던 프로젝트 노드 중에서 거의 처음으로 성과를 확인할 수 있었던 노드라서 너무 기쁘다.   \n",
    "추후 좀 더 면밀하게 뜯어봐야겠다.   \n"
   ]
  }
 ],
 "metadata": {
  "kernelspec": {
   "display_name": "fucklms",
   "language": "python",
   "name": "python3"
  },
  "language_info": {
   "codemirror_mode": {
    "name": "ipython",
    "version": 3
   },
   "file_extension": ".py",
   "mimetype": "text/x-python",
   "name": "python",
   "nbconvert_exporter": "python",
   "pygments_lexer": "ipython3",
   "version": "3.8.20"
  }
 },
 "nbformat": 4,
 "nbformat_minor": 2
}
