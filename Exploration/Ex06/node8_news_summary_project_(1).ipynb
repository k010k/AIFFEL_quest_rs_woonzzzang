{
 "cells": [
  {
   "cell_type": "markdown",
   "id": "22901e8c",
   "metadata": {},
   "source": [
    "### Object : Abstractive summarization & Extractive summarization"
   ]
  },
  {
   "cell_type": "code",
   "execution_count": null,
   "id": "eb7d3d06",
   "metadata": {},
   "outputs": [],
   "source": [
    "from importlib.metadata import version\n",
    "import nltk\n",
    "import tensorflow\n",
    "import summa\n",
    "import pandas as pd\n",
    "\n",
    "print(nltk.__version__)\n",
    "print(tensorflow.__version__)\n",
    "print(pd.__version__)\n",
    "print(version('summa'))"
   ]
  },
  {
   "cell_type": "markdown",
   "id": "cb446c3f",
   "metadata": {},
   "source": [
    "### 1. 데이터 수집"
   ]
  },
  {
   "cell_type": "code",
   "execution_count": 46,
   "id": "c6c06185",
   "metadata": {},
   "outputs": [],
   "source": [
    "import urllib.request\n",
    "urllib.request.urlretrieve(\"https://raw.githubusercontent.com/sunnysai12345/News_Summary/master/news_summary_more.csv\", filename=\"news_summary_more.csv\")\n",
    "data = pd.read_csv('news_summary_more.csv', encoding='iso-8859-1')"
   ]
  },
  {
   "cell_type": "code",
   "execution_count": 55,
   "id": "ce13782e",
   "metadata": {},
   "outputs": [
    {
     "data": {
      "text/html": [
       "<div>\n",
       "<style scoped>\n",
       "    .dataframe tbody tr th:only-of-type {\n",
       "        vertical-align: middle;\n",
       "    }\n",
       "\n",
       "    .dataframe tbody tr th {\n",
       "        vertical-align: top;\n",
       "    }\n",
       "\n",
       "    .dataframe thead th {\n",
       "        text-align: right;\n",
       "    }\n",
       "</style>\n",
       "<table border=\"1\" class=\"dataframe\">\n",
       "  <thead>\n",
       "    <tr style=\"text-align: right;\">\n",
       "      <th></th>\n",
       "      <th>headlines</th>\n",
       "      <th>text</th>\n",
       "    </tr>\n",
       "  </thead>\n",
       "  <tbody>\n",
       "    <tr>\n",
       "      <th>0</th>\n",
       "      <td>upGrad learner switches to career in ML &amp; Al with 90% salary hike</td>\n",
       "      <td>Saurav Kant, an alumnus of upGrad and IIIT-B's PG Program in Machine learning and Artificial Intelligence, was a Sr Systems Engineer at Infosys with almost 5 years of work experience. The program and upGrad's 360-degree career support helped him transition to a Data Scientist at Tech Mahindra with 90% salary hike. upGrad's Online Power Learning has powered 3 lakh+ careers.</td>\n",
       "    </tr>\n",
       "    <tr>\n",
       "      <th>1</th>\n",
       "      <td>Delhi techie wins free food from Swiggy for one year on CRED</td>\n",
       "      <td>Kunal Shah's credit card bill payment platform, CRED, gave users a chance to win free food from Swiggy for one year. Pranav Kaushik, a Delhi techie, bagged this reward after spending 2000 CRED coins. Users get one CRED coin per rupee of bill paid, which can be used to avail rewards from brands like Ixigo, BookMyShow, UberEats, Cult.Fit and more.</td>\n",
       "    </tr>\n",
       "    <tr>\n",
       "      <th>2</th>\n",
       "      <td>New Zealand end Rohit Sharma-led India's 12-match winning streak</td>\n",
       "      <td>New Zealand defeated India by 8 wickets in the fourth ODI at Hamilton on Thursday to win their first match of the five-match ODI series. India lost an international match under Rohit Sharma's captaincy after 12 consecutive victories dating back to March 2018. The match witnessed India getting all out for 92, their seventh lowest total in ODI cricket history.</td>\n",
       "    </tr>\n",
       "    <tr>\n",
       "      <th>3</th>\n",
       "      <td>Aegon life iTerm insurance plan helps customers save tax</td>\n",
       "      <td>With Aegon Life iTerm Insurance plan, customers can enjoy tax benefits on your premiums paid and save up to Ã¢ÂÂ¹46,800^ on taxes. The plan provides life cover up to the age of 100 years. Also, customers have options to insure against Critical Illnesses, Disability and Accidental Death Benefit Rider with a life cover up to the age of 80 years.</td>\n",
       "    </tr>\n",
       "    <tr>\n",
       "      <th>4</th>\n",
       "      <td>Have known Hirani for yrs, what if MeToo claims are not true: Sonam</td>\n",
       "      <td>Speaking about the sexual harassment allegations against Rajkumar Hirani, Sonam Kapoor said, \"I've known Hirani for many years...What if it's not true, the [#MeToo] movement will get derailed.\" \"In the #MeToo movement, I always believe a woman. But in this case, we need to reserve our judgment,\" she added. Hirani has been accused by an assistant who worked in 'Sanju'.</td>\n",
       "    </tr>\n",
       "    <tr>\n",
       "      <th>...</th>\n",
       "      <td>...</td>\n",
       "      <td>...</td>\n",
       "    </tr>\n",
       "    <tr>\n",
       "      <th>50</th>\n",
       "      <td>Yashwant Sinha demands probe into alleged fund diversion by DHFL</td>\n",
       "      <td>Former Finance Minister Yashwant Sinha on Tuesday demanded a probe into the alleged diversion of loans worth Ã¢ÂÂ¹31,000 crore by Dewan Housing Finance (DHFL). All agencies including regulators of the government have failed to track nefarious deals, he said. This comes after a media report on Tuesday accused DHFL's controlling shareholders of diverting funds to shell companies to buy assets.</td>\n",
       "    </tr>\n",
       "    <tr>\n",
       "      <th>51</th>\n",
       "      <td>Boeing sales cross $100bn for 1st time in its 102-yr history</td>\n",
       "      <td>US-based Boeing on Wednesday reported annual sales worth $101.12 billion in 2018, the first time the planemaker's sales crossed the $100-billion mark in its 102-year history. The company said it expects to deliver between 895 and 905 commercial aircraft in 2019. Boeing retained its position as the world's largest planemaker for the seventh straight year, delivering 806 aircraft in 2018.</td>\n",
       "    </tr>\n",
       "    <tr>\n",
       "      <th>52</th>\n",
       "      <td>headlines</td>\n",
       "      <td>text</td>\n",
       "    </tr>\n",
       "    <tr>\n",
       "      <th>53</th>\n",
       "      <td>OnePlus named bestselling premium smartphone brand of 2018: Report</td>\n",
       "      <td>OnePlus has emerged as India's best-selling premium smartphone brand of 2018, as per a report by Counterpoint. It captured 36% of the market share in the premium segment, in Q4 2018. Further, its OnePlus 6 emerged as the highest selling premium smartphone of 2018 followed by OnePlus 6T.</td>\n",
       "    </tr>\n",
       "    <tr>\n",
       "      <th>54</th>\n",
       "      <td>Can never look at female body, even if naked, in vulgar way: Pooja</td>\n",
       "      <td>Filmmaker Pooja Bhatt, while talking about the presentation of women in her films, said, \"I can never look at a female body, even if it's naked, in a vulgar manner.\" \"Our audience can say...the women in my films are bold or sensual, but never ever vulgar,\" she added. Pooja further said her censor board is her \"own heart and mind\".</td>\n",
       "    </tr>\n",
       "  </tbody>\n",
       "</table>\n",
       "<p>55 rows × 2 columns</p>\n",
       "</div>"
      ],
      "text/plain": [
       "                                                              headlines  \\\n",
       "0     upGrad learner switches to career in ML & Al with 90% salary hike   \n",
       "1          Delhi techie wins free food from Swiggy for one year on CRED   \n",
       "2      New Zealand end Rohit Sharma-led India's 12-match winning streak   \n",
       "3              Aegon life iTerm insurance plan helps customers save tax   \n",
       "4   Have known Hirani for yrs, what if MeToo claims are not true: Sonam   \n",
       "..                                                                  ...   \n",
       "50     Yashwant Sinha demands probe into alleged fund diversion by DHFL   \n",
       "51         Boeing sales cross $100bn for 1st time in its 102-yr history   \n",
       "52                                                            headlines   \n",
       "53   OnePlus named bestselling premium smartphone brand of 2018: Report   \n",
       "54   Can never look at female body, even if naked, in vulgar way: Pooja   \n",
       "\n",
       "                                                                                                                                                                                                                                                                                                                                                                                                           text  \n",
       "0                       Saurav Kant, an alumnus of upGrad and IIIT-B's PG Program in Machine learning and Artificial Intelligence, was a Sr Systems Engineer at Infosys with almost 5 years of work experience. The program and upGrad's 360-degree career support helped him transition to a Data Scientist at Tech Mahindra with 90% salary hike. upGrad's Online Power Learning has powered 3 lakh+ careers.  \n",
       "1                                                   Kunal Shah's credit card bill payment platform, CRED, gave users a chance to win free food from Swiggy for one year. Pranav Kaushik, a Delhi techie, bagged this reward after spending 2000 CRED coins. Users get one CRED coin per rupee of bill paid, which can be used to avail rewards from brands like Ixigo, BookMyShow, UberEats, Cult.Fit and more.  \n",
       "2                                      New Zealand defeated India by 8 wickets in the fourth ODI at Hamilton on Thursday to win their first match of the five-match ODI series. India lost an international match under Rohit Sharma's captaincy after 12 consecutive victories dating back to March 2018. The match witnessed India getting all out for 92, their seventh lowest total in ODI cricket history.  \n",
       "3                                                    With Aegon Life iTerm Insurance plan, customers can enjoy tax benefits on your premiums paid and save up to Ã¢ÂÂ¹46,800^ on taxes. The plan provides life cover up to the age of 100 years. Also, customers have options to insure against Critical Illnesses, Disability and Accidental Death Benefit Rider with a life cover up to the age of 80 years.  \n",
       "4                            Speaking about the sexual harassment allegations against Rajkumar Hirani, Sonam Kapoor said, \"I've known Hirani for many years...What if it's not true, the [#MeToo] movement will get derailed.\" \"In the #MeToo movement, I always believe a woman. But in this case, we need to reserve our judgment,\" she added. Hirani has been accused by an assistant who worked in 'Sanju'.  \n",
       "..                                                                                                                                                                                                                                                                                                                                                                                                          ...  \n",
       "50  Former Finance Minister Yashwant Sinha on Tuesday demanded a probe into the alleged diversion of loans worth Ã¢ÂÂ¹31,000 crore by Dewan Housing Finance (DHFL). All agencies including regulators of the government have failed to track nefarious deals, he said. This comes after a media report on Tuesday accused DHFL's controlling shareholders of diverting funds to shell companies to buy assets.  \n",
       "51       US-based Boeing on Wednesday reported annual sales worth $101.12 billion in 2018, the first time the planemaker's sales crossed the $100-billion mark in its 102-year history. The company said it expects to deliver between 895 and 905 commercial aircraft in 2019. Boeing retained its position as the world's largest planemaker for the seventh straight year, delivering 806 aircraft in 2018.   \n",
       "52                                                                                                                                                                                                                                                                                                                                                                                                         text  \n",
       "53                                                                                                              OnePlus has emerged as India's best-selling premium smartphone brand of 2018, as per a report by Counterpoint. It captured 36% of the market share in the premium segment, in Q4 2018. Further, its OnePlus 6 emerged as the highest selling premium smartphone of 2018 followed by OnePlus 6T.  \n",
       "54                                                                 Filmmaker Pooja Bhatt, while talking about the presentation of women in her films, said, \"I can never look at a female body, even if it's naked, in a vulgar manner.\" \"Our audience can say...the women in my films are bold or sensual, but never ever vulgar,\" she added. Pooja further said her censor board is her \"own heart and mind\".  \n",
       "\n",
       "[55 rows x 2 columns]"
      ]
     },
     "execution_count": 55,
     "metadata": {},
     "output_type": "execute_result"
    }
   ],
   "source": [
    "data.head(55)"
   ]
  },
  {
   "cell_type": "markdown",
   "id": "c3e46f78",
   "metadata": {},
   "source": [
    "### 2. 데이터 전처리 (추상적 요약)\n",
    "실습에서 사용된 전처리를 참고하여 각자 필요하다고 생각하는 전처리를 추가 사용하여 텍스트를 정규화 또는 정제해 보세요.   \n",
    "만약, 불용어 제거를 선택한다면 상대적으로 길이가 짧은 요약 데이터에 대해서도 불용어를 제거하는 것이 좋을지 고민해 보세요."
   ]
  },
  {
   "cell_type": "markdown",
   "id": "71f2ea9a",
   "metadata": {},
   "source": [
    "#### 중복 데이터 처리"
   ]
  },
  {
   "cell_type": "code",
   "execution_count": 48,
   "id": "c2cbdd77",
   "metadata": {},
   "outputs": [
    {
     "data": {
      "text/plain": [
       "98401"
      ]
     },
     "execution_count": 48,
     "metadata": {},
     "output_type": "execute_result"
    }
   ],
   "source": [
    "# 전체 샘플수\n",
    "len(data)"
   ]
  },
  {
   "cell_type": "code",
   "execution_count": 49,
   "id": "957236be",
   "metadata": {},
   "outputs": [
    {
     "name": "stdout",
     "output_type": "stream",
     "text": [
      "98280\n",
      "98360\n"
     ]
    }
   ],
   "source": [
    "# headlines 열에서 중복을 배제한 유일한 샘플 수\n",
    "print(data['headlines'].nunique())\n",
    "\n",
    "# text 열에서 중복을 배제한 유일한 샘플 수\n",
    "print(data['text'].nunique())"
   ]
  },
  {
   "cell_type": "markdown",
   "id": "5c4f7dea",
   "metadata": {},
   "source": [
    "headline이 text 내용을 요약한 것이긴 하지만 그렇다고 서로 다른 내용의 기사의 헤드라인이 중복 됐다는 게 조금 이해가 안 가서 중복 내용 확인"
   ]
  },
  {
   "cell_type": "code",
   "execution_count": 22,
   "id": "f4ec03dc",
   "metadata": {},
   "outputs": [
    {
     "name": "stdout",
     "output_type": "stream",
     "text": [
      "CSV 파일이 저장되었습니다: duplicates_headlines_sorted.csv\n"
     ]
    }
   ],
   "source": [
    "import pandas as pd\n",
    "\n",
    "# headlines 컬럼에서 중복된 데이터 확인 (모든 중복된 행 포함)\n",
    "duplicates_headlines = data[data.duplicated(subset=['headlines'], keep=False)]\n",
    "\n",
    "# headline 기준으로 정렬하여 비교하기 쉽게 정리\n",
    "duplicates_headlines_sorted = duplicates_headlines.sort_values(by=['headlines', 'text'])\n",
    "\n",
    "# CSV 파일로 저장\n",
    "output_file_path = \"duplicates_headlines_sorted.csv\"\n",
    "duplicates_headlines_sorted.to_csv(output_file_path, index=False, encoding='utf-8-sig')\n",
    "\n",
    "print(f\"CSV 파일이 저장되었습니다: {output_file_path}\")"
   ]
  },
  {
   "cell_type": "code",
   "execution_count": 23,
   "id": "05ce6058",
   "metadata": {},
   "outputs": [],
   "source": [
    "chk = pd.read_csv('duplicates_headlines_sorted.csv')"
   ]
  },
  {
   "cell_type": "code",
   "execution_count": 56,
   "id": "7cb701db",
   "metadata": {},
   "outputs": [
    {
     "data": {
      "text/html": [
       "<div>\n",
       "<style scoped>\n",
       "    .dataframe tbody tr th:only-of-type {\n",
       "        vertical-align: middle;\n",
       "    }\n",
       "\n",
       "    .dataframe tbody tr th {\n",
       "        vertical-align: top;\n",
       "    }\n",
       "\n",
       "    .dataframe thead th {\n",
       "        text-align: right;\n",
       "    }\n",
       "</style>\n",
       "<table border=\"1\" class=\"dataframe\">\n",
       "  <thead>\n",
       "    <tr style=\"text-align: right;\">\n",
       "      <th></th>\n",
       "      <th>headlines</th>\n",
       "      <th>text</th>\n",
       "    </tr>\n",
       "  </thead>\n",
       "  <tbody>\n",
       "    <tr>\n",
       "      <th>34</th>\n",
       "      <td>Bhabha convinced PM Nehru to start India's nuclear programme</td>\n",
       "      <td>Born on October 30, 1909, Padma Bhushan-awardee Homi J Bhabha was instrumental in convincing then Prime Minister Jawaharlal Nehru to start India's Nuclear Programme. In 1954, Nehru appointed Bhabha as the Director of Atomic Energy Establishment, Trombay (AEET) to develop nuclear weapons. India's first nuclear test was carried out at Pokhran following Bhabha's death in a plane crash in 1966.</td>\n",
       "    </tr>\n",
       "    <tr>\n",
       "      <th>192</th>\n",
       "      <td>Vijay Mallya arrested in London</td>\n",
       "      <td>Liquor baron and loan defaulter Vijay Mallya was arrested by London police on Tuesday. Mallya had appeared in Westminster Magistrates' Court later in the day. The beleaguered businessman is wanted in India for defaulting on loans worth around Ã¢ÂÂ¹9,000 crore related to Kingfisher Airlines that was grounded in 2012.</td>\n",
       "    </tr>\n",
       "    <tr>\n",
       "      <th>138</th>\n",
       "      <td>New poster of Sonam, Kareena starrer 'Veere Di Wedding' out</td>\n",
       "      <td>A new poster of Sonam Kapoor and Kareena Kapoor starrer 'Veere Di Wedding' has been released. It also stars Swara Bhasker, Shikha Talsania and Sumeet Vyas. The film reportedly revolves around four friends attending a wedding. Directed by Shashanka Ghosh, 'Veere Di Wedding' is scheduled to release on June 1, 2018.</td>\n",
       "    </tr>\n",
       "    <tr>\n",
       "      <th>219</th>\n",
       "      <td>Who are the richest women in the world?</td>\n",
       "      <td>For the first time, the world has 227 women billionaires, led by 94-year-old L'OrÃÂ©al heiress Liliane Bettencourt with a net worth of $39.5 billion, according to Forbes. Alice Walton, the daughter of Walmart Founder Sam Walton, is the world's second richest woman. The world's third richest woman is Jacqueline Mars, the granddaughter of the founders of American candy company Mars.</td>\n",
       "    </tr>\n",
       "    <tr>\n",
       "      <th>95</th>\n",
       "      <td>India is Afghanistan's most reliable regional partner: US</td>\n",
       "      <td>India is Afghanistan's most reliable regional partner and the largest contributor of development assistance in the region, the US' Defence Department said in its semi-annual report to the Congress. India has interpreted the US' new South Asia strategy as an opportunity to increase its economic involvement in Afghanistan. The strategy calls upon Pakistan to stop providing safe havens to terrorists.</td>\n",
       "    </tr>\n",
       "    <tr>\n",
       "      <th>230</th>\n",
       "      <td>Why is May 11 observed as the National Technology Day?</td>\n",
       "      <td>May 11 is marked as the National Technology Day to commemorate India's technological achievements, including the initiation of 'Operation Shakti' (Pokhran-II) at the Indian Army's Pokhran Test Range in Rajasthan in 1998. Following Operation Shakti, erstwhile Prime Minister Atal Bihari Vajpayee then declared India a full-fledged nuclear state, making it the sixth country to join the \"nuclear club\".</td>\n",
       "    </tr>\n",
       "    <tr>\n",
       "      <th>17</th>\n",
       "      <td>A Japanese man survived both Hiroshima &amp; Nagasaki atom bombs</td>\n",
       "      <td>Japan recognises only one person to have survived both the atomic bomb explosions during World War II. Tsutomu Yamaguchi was in Hiroshima within a 3-km radius when the first bomb detonated, killing over 80,000 people. Yamaguchi left for Nagasaki, where the next bomb was dropped three days later on August 9, 1945. He died of cancer in 2010 aged 93.</td>\n",
       "    </tr>\n",
       "    <tr>\n",
       "      <th>188</th>\n",
       "      <td>Veteran actor Dilip Kumar diagnosed with pneumonia</td>\n",
       "      <td>Veteran actor Dilip Kumar has been diagnosed with pneumonia and advised rest. \"Allah is kind that all other parameters are showing normal - Saab is doing better now,\" Dilip's family friend Faisal Farooqui posted on the actor's Twitter handle. \"Please remember him in your prayers and duas,\" the tweet further read.</td>\n",
       "    </tr>\n",
       "    <tr>\n",
       "      <th>88</th>\n",
       "      <td>How can a Test end as drawn, not tied when scores are level?</td>\n",
       "      <td>A Test is considered drawn, and not tied if the batting team has wickets remaining when the time expires, even if the scores are level. A Test can be termed tied only if the chasing side gets all-out with the scores level. The Bulawayo Test between England and Zimbabwe was declared drawn with the scores level, on December 22, 1996.</td>\n",
       "    </tr>\n",
       "    <tr>\n",
       "      <th>120</th>\n",
       "      <td>Jayawardene-Sangakkara's record 624-run stand lasted 10 hrs</td>\n",
       "      <td>Sri Lanka's Mahela Jayawardene and Kumar Sangakkara broke the record for the highest-ever partnership for any wicket in Test history with their 624-run stand against South Africa on July 29, 2006. The partnership started when Sri Lanka were 14/2 and saw Sangakkara scoring 287 and Jayawardene hitting a career-best 374. The duo batted for over 10 hours through 157 overs.</td>\n",
       "    </tr>\n",
       "    <tr>\n",
       "      <th>135</th>\n",
       "      <td>Murali picked up 800th Test wicket on career's last ball</td>\n",
       "      <td>Former Sri Lankan off-spinner Muttiah Muralitharan, the only player in Test cricket history to take 800 wickets, picked up his 800th wicket on the final ball of his Test career. Muralitharan dismissed India's Pragyan Ojha as his 800th Test wicket on July 22, 2010. Notably, Muralitharan is the fastest to pick 400, 500, 600, 700 and 800 Test wickets.</td>\n",
       "    </tr>\n",
       "    <tr>\n",
       "      <th>174</th>\n",
       "      <td>Shahid Kapoor shares pic from sets of Batti Gul Meter Chalu</td>\n",
       "      <td>Actor Shahid Kapoor has shared a picture from the sets of 'Batti Gul Meter Chalu'. The film stars Shraddha Kapoor opposite Shahid while Yami Gautam will reportedly be seen playing a lawyer in the Shree Narayan Singh directorial. Shahid earlier said, \"The story is based in Uttarakhand so I will be using a certain accent and dialect for the film.\"</td>\n",
       "    </tr>\n",
       "    <tr>\n",
       "      <th>132</th>\n",
       "      <td>Mukesh Ambani's son Akash gets engaged to Shloka Mehta</td>\n",
       "      <td>India's richest person and Reliance Industries Chairman Mukesh Ambani's eldest son Akash Ambani got officially engaged to diamond heiress Shloka Mehta at the Ambani residence, Antilia, in Mumbai. He had proposed to Shloka, his childhood friend, at a private gathering in March this year. The duo is likely to get married later this year.</td>\n",
       "    </tr>\n",
       "    <tr>\n",
       "      <th>141</th>\n",
       "      <td>Nikola Tesla once worked for his arch rival Thomas Edison</td>\n",
       "      <td>Born on July 10, 1856, Serbian inventor Nikola Tesla moved to the US in 1884 to work for Amercian inventor Thomas Edison. Tesla quit 'Edison Machine Works' within six months, reportedly over unpaid bonuses, and went on to develop alternating current (AC) technology which directly challenged Edison's direct current (DC). Edison later publicly electrocuted an elephant to depict AC's dangers.</td>\n",
       "    </tr>\n",
       "    <tr>\n",
       "      <th>27</th>\n",
       "      <td>An ODI was once played in the middle of a Test match</td>\n",
       "      <td>Zimbabwe played an ODI against New Zealand in the middle of a Test on November 8, 1992. The second match of the ODI series, played on a Sunday, was sandwiched between the first and second day of the second Test. New Zealand's captain Martin Crowe scored 140 in first innings, followed by 94 in ODI and 61 in second innings.</td>\n",
       "    </tr>\n",
       "    <tr>\n",
       "      <th>184</th>\n",
       "      <td>Suzuki Connect helps you connect to your car seamlessly</td>\n",
       "      <td>Suzuki Connect helps you connect to your car by providing a wealth of features and information that enhance your on-road experience. From your vehicle's maintenance to helping you drive better and even save fuel, Suzuki Connect will ensure that you and your car become a part of a better-connected world.</td>\n",
       "    </tr>\n",
       "    <tr>\n",
       "      <th>134</th>\n",
       "      <td>Murali picked up 800th Test wicket on career's last ball</td>\n",
       "      <td>Ex-Sri Lankan off-spinner Muttiah Muralitharan, the only player in Test cricket history to take 800 wickets, picked up his 800th wicket on the final ball of his Test career. Muralitharan, who turns 46 today, dismissed India's Pragyan Ojha as his 800th Test wicket in July 2010. Muralitharan is the fastest to pick 400, 500, 600, 700 and 800 Test wickets.</td>\n",
       "    </tr>\n",
       "    <tr>\n",
       "      <th>213</th>\n",
       "      <td>What is the Yo-Yo test, compulsory for Team India selection?</td>\n",
       "      <td>The Yo-Yo test evaluates an athlete's aerobic endurance fitness, requiring him to run between two lines, 20 metres apart, and turn when signaled by beeps. After every minute, the pace gets quicker and he's given two more beeps to catch up on not reaching the line in time. The test is stopped when he fails to catch up with pace.</td>\n",
       "    </tr>\n",
       "    <tr>\n",
       "      <th>98</th>\n",
       "      <td>India marks National Mathematics Day in memory of Ramanujan</td>\n",
       "      <td>National Mathematics Day is celebrated on December 22, since 2012, after former Prime Minister Manmohan Singh made the declaration to pay tribute to Srinivasa Ramanujan on his birth anniversary. Born into a Tamil family in Erode in 1887, the self-taught mathematician mastered Trigonometry by the age of 12 and independently compiled over 3,900 results before succumbing to ill-health, aged 32.</td>\n",
       "    </tr>\n",
       "    <tr>\n",
       "      <th>92</th>\n",
       "      <td>How do elections to the Rajya Sabha take place?</td>\n",
       "      <td>The election of the Rajya Sabha members is by proportional representation by means of the single transferable vote. A candidate requires a minimum 'quota' of votes to be elected. The vote is transferred from one candidate to another if either the candidate obtains more votes than the quota, or is out of the race for winning the seat.</td>\n",
       "    </tr>\n",
       "  </tbody>\n",
       "</table>\n",
       "</div>"
      ],
      "text/plain": [
       "                                                        headlines  \\\n",
       "34   Bhabha convinced PM Nehru to start India's nuclear programme   \n",
       "192                               Vijay Mallya arrested in London   \n",
       "138   New poster of Sonam, Kareena starrer 'Veere Di Wedding' out   \n",
       "219                       Who are the richest women in the world?   \n",
       "95      India is Afghanistan's most reliable regional partner: US   \n",
       "230        Why is May 11 observed as the National Technology Day?   \n",
       "17   A Japanese man survived both Hiroshima & Nagasaki atom bombs   \n",
       "188            Veteran actor Dilip Kumar diagnosed with pneumonia   \n",
       "88   How can a Test end as drawn, not tied when scores are level?   \n",
       "120   Jayawardene-Sangakkara's record 624-run stand lasted 10 hrs   \n",
       "135      Murali picked up 800th Test wicket on career's last ball   \n",
       "174   Shahid Kapoor shares pic from sets of Batti Gul Meter Chalu   \n",
       "132        Mukesh Ambani's son Akash gets engaged to Shloka Mehta   \n",
       "141     Nikola Tesla once worked for his arch rival Thomas Edison   \n",
       "27           An ODI was once played in the middle of a Test match   \n",
       "184       Suzuki Connect helps you connect to your car seamlessly   \n",
       "134      Murali picked up 800th Test wicket on career's last ball   \n",
       "213  What is the Yo-Yo test, compulsory for Team India selection?   \n",
       "98    India marks National Mathematics Day in memory of Ramanujan   \n",
       "92                How do elections to the Rajya Sabha take place?   \n",
       "\n",
       "                                                                                                                                                                                                                                                                                                                                                                                                                 text  \n",
       "34          Born on October 30, 1909, Padma Bhushan-awardee Homi J Bhabha was instrumental in convincing then Prime Minister Jawaharlal Nehru to start India's Nuclear Programme. In 1954, Nehru appointed Bhabha as the Director of Atomic Energy Establishment, Trombay (AEET) to develop nuclear weapons. India's first nuclear test was carried out at Pokhran following Bhabha's death in a plane crash in 1966.  \n",
       "192                                                                                    Liquor baron and loan defaulter Vijay Mallya was arrested by London police on Tuesday. Mallya had appeared in Westminster Magistrates' Court later in the day. The beleaguered businessman is wanted in India for defaulting on loans worth around Ã¢ÂÂ¹9,000 crore related to Kingfisher Airlines that was grounded in 2012.  \n",
       "138                                                                                       A new poster of Sonam Kapoor and Kareena Kapoor starrer 'Veere Di Wedding' has been released. It also stars Swara Bhasker, Shikha Talsania and Sumeet Vyas. The film reportedly revolves around four friends attending a wedding. Directed by Shashanka Ghosh, 'Veere Di Wedding' is scheduled to release on June 1, 2018.   \n",
       "219                  For the first time, the world has 227 women billionaires, led by 94-year-old L'OrÃÂ©al heiress Liliane Bettencourt with a net worth of $39.5 billion, according to Forbes. Alice Walton, the daughter of Walmart Founder Sam Walton, is the world's second richest woman. The world's third richest woman is Jacqueline Mars, the granddaughter of the founders of American candy company Mars.  \n",
       "95   India is Afghanistan's most reliable regional partner and the largest contributor of development assistance in the region, the US' Defence Department said in its semi-annual report to the Congress. India has interpreted the US' new South Asia strategy as an opportunity to increase its economic involvement in Afghanistan. The strategy calls upon Pakistan to stop providing safe havens to terrorists.  \n",
       "230  May 11 is marked as the National Technology Day to commemorate India's technological achievements, including the initiation of 'Operation Shakti' (Pokhran-II) at the Indian Army's Pokhran Test Range in Rajasthan in 1998. Following Operation Shakti, erstwhile Prime Minister Atal Bihari Vajpayee then declared India a full-fledged nuclear state, making it the sixth country to join the \"nuclear club\".  \n",
       "17                                                      Japan recognises only one person to have survived both the atomic bomb explosions during World War II. Tsutomu Yamaguchi was in Hiroshima within a 3-km radius when the first bomb detonated, killing over 80,000 people. Yamaguchi left for Nagasaki, where the next bomb was dropped three days later on August 9, 1945. He died of cancer in 2010 aged 93.  \n",
       "188                                                                                        Veteran actor Dilip Kumar has been diagnosed with pneumonia and advised rest. \"Allah is kind that all other parameters are showing normal - Saab is doing better now,\" Dilip's family friend Faisal Farooqui posted on the actor's Twitter handle. \"Please remember him in your prayers and duas,\" the tweet further read.  \n",
       "88                                                                     A Test is considered drawn, and not tied if the batting team has wickets remaining when the time expires, even if the scores are level. A Test can be termed tied only if the chasing side gets all-out with the scores level. The Bulawayo Test between England and Zimbabwe was declared drawn with the scores level, on December 22, 1996.   \n",
       "120                               Sri Lanka's Mahela Jayawardene and Kumar Sangakkara broke the record for the highest-ever partnership for any wicket in Test history with their 624-run stand against South Africa on July 29, 2006. The partnership started when Sri Lanka were 14/2 and saw Sangakkara scoring 287 and Jayawardene hitting a career-best 374. The duo batted for over 10 hours through 157 overs.  \n",
       "135                                                   Former Sri Lankan off-spinner Muttiah Muralitharan, the only player in Test cricket history to take 800 wickets, picked up his 800th wicket on the final ball of his Test career. Muralitharan dismissed India's Pragyan Ojha as his 800th Test wicket on July 22, 2010. Notably, Muralitharan is the fastest to pick 400, 500, 600, 700 and 800 Test wickets.   \n",
       "174                                                       Actor Shahid Kapoor has shared a picture from the sets of 'Batti Gul Meter Chalu'. The film stars Shraddha Kapoor opposite Shahid while Yami Gautam will reportedly be seen playing a lawyer in the Shree Narayan Singh directorial. Shahid earlier said, \"The story is based in Uttarakhand so I will be using a certain accent and dialect for the film.\"  \n",
       "132                                                                 India's richest person and Reliance Industries Chairman Mukesh Ambani's eldest son Akash Ambani got officially engaged to diamond heiress Shloka Mehta at the Ambani residence, Antilia, in Mumbai. He had proposed to Shloka, his childhood friend, at a private gathering in March this year. The duo is likely to get married later this year.  \n",
       "141          Born on July 10, 1856, Serbian inventor Nikola Tesla moved to the US in 1884 to work for Amercian inventor Thomas Edison. Tesla quit 'Edison Machine Works' within six months, reportedly over unpaid bonuses, and went on to develop alternating current (AC) technology which directly challenged Edison's direct current (DC). Edison later publicly electrocuted an elephant to depict AC's dangers.  \n",
       "27                                                                                Zimbabwe played an ODI against New Zealand in the middle of a Test on November 8, 1992. The second match of the ODI series, played on a Sunday, was sandwiched between the first and second day of the second Test. New Zealand's captain Martin Crowe scored 140 in first innings, followed by 94 in ODI and 61 in second innings.  \n",
       "184                                                                                                  Suzuki Connect helps you connect to your car by providing a wealth of features and information that enhance your on-road experience. From your vehicle's maintenance to helping you drive better and even save fuel, Suzuki Connect will ensure that you and your car become a part of a better-connected world.  \n",
       "134                                                Ex-Sri Lankan off-spinner Muttiah Muralitharan, the only player in Test cricket history to take 800 wickets, picked up his 800th wicket on the final ball of his Test career. Muralitharan, who turns 46 today, dismissed India's Pragyan Ojha as his 800th Test wicket in July 2010. Muralitharan is the fastest to pick 400, 500, 600, 700 and 800 Test wickets.  \n",
       "213                                                                         The Yo-Yo test evaluates an athlete's aerobic endurance fitness, requiring him to run between two lines, 20 metres apart, and turn when signaled by beeps. After every minute, the pace gets quicker and he's given two more beeps to catch up on not reaching the line in time. The test is stopped when he fails to catch up with pace.  \n",
       "98         National Mathematics Day is celebrated on December 22, since 2012, after former Prime Minister Manmohan Singh made the declaration to pay tribute to Srinivasa Ramanujan on his birth anniversary. Born into a Tamil family in Erode in 1887, the self-taught mathematician mastered Trigonometry by the age of 12 and independently compiled over 3,900 results before succumbing to ill-health, aged 32.  \n",
       "92                                                                    The election of the Rajya Sabha members is by proportional representation by means of the single transferable vote. A candidate requires a minimum 'quota' of votes to be elected. The vote is transferred from one candidate to another if either the candidate obtains more votes than the quota, or is out of the race for winning the seat.  "
      ]
     },
     "execution_count": 56,
     "metadata": {},
     "output_type": "execute_result"
    }
   ],
   "source": [
    "chk.sample(20)"
   ]
  },
  {
   "cell_type": "markdown",
   "id": "94823171",
   "metadata": {},
   "source": [
    "확인해보니 대부분 headline이 동일하면 text도 동일하지만, 아닌 경우도 존재함  \n",
    "내용은 같지만 문장 자체가 조금 상이함  \n",
    "text 중복만 삭제하면 될 것 같음"
   ]
  },
  {
   "cell_type": "code",
   "execution_count": 50,
   "id": "56a6dfb3",
   "metadata": {},
   "outputs": [
    {
     "name": "stdout",
     "output_type": "stream",
     "text": [
      "전체 샘플수 : 98360\n"
     ]
    }
   ],
   "source": [
    "# text 중복 삭제\n",
    "# inplace=True 를 설정하면 DataFrame 타입 값을 return 하지 않고 data 내부를 직접적으로 바꿉니다\n",
    "data.drop_duplicates(subset = ['text'], inplace=True)\n",
    "print('전체 샘플수 :', (len(data)))"
   ]
  },
  {
   "cell_type": "markdown",
   "id": "b9230071",
   "metadata": {},
   "source": [
    "#### Null 데이터 처리 (확인 결과 Null 데이터 없음)"
   ]
  },
  {
   "cell_type": "code",
   "execution_count": 28,
   "id": "263c3fa3",
   "metadata": {},
   "outputs": [
    {
     "name": "stdout",
     "output_type": "stream",
     "text": [
      "headlines    0\n",
      "text         0\n",
      "dtype: int64\n"
     ]
    }
   ],
   "source": [
    "print(data.isnull().sum())"
   ]
  },
  {
   "cell_type": "markdown",
   "id": "c7b63304",
   "metadata": {},
   "source": [
    "#### text 정규화, 불용어 제거"
   ]
  },
  {
   "cell_type": "markdown",
   "id": "bc30f245",
   "metadata": {},
   "source": [
    "텍스트 정규화 사전은 수업 노드에서 사용했던 정규화 사전을 이용합니다."
   ]
  },
  {
   "cell_type": "code",
   "execution_count": 30,
   "id": "f6e6369a",
   "metadata": {},
   "outputs": [
    {
     "name": "stdout",
     "output_type": "stream",
     "text": [
      "정규화 사전의 수:  120\n"
     ]
    }
   ],
   "source": [
    "# 텍스트 정규화 사전\n",
    "\n",
    "contractions = {\"ain't\": \"is not\", \"aren't\": \"are not\",\"can't\": \"cannot\", \"'cause\": \"because\", \"could've\": \"could have\", \"couldn't\": \"could not\",\n",
    "                           \"didn't\": \"did not\",  \"doesn't\": \"does not\", \"don't\": \"do not\", \"hadn't\": \"had not\", \"hasn't\": \"has not\", \"haven't\": \"have not\",\n",
    "                           \"he'd\": \"he would\",\"he'll\": \"he will\", \"he's\": \"he is\", \"how'd\": \"how did\", \"how'd'y\": \"how do you\", \"how'll\": \"how will\", \"how's\": \"how is\",\n",
    "                           \"I'd\": \"I would\", \"I'd've\": \"I would have\", \"I'll\": \"I will\", \"I'll've\": \"I will have\",\"I'm\": \"I am\", \"I've\": \"I have\", \"i'd\": \"i would\",\n",
    "                           \"i'd've\": \"i would have\", \"i'll\": \"i will\",  \"i'll've\": \"i will have\",\"i'm\": \"i am\", \"i've\": \"i have\", \"isn't\": \"is not\", \"it'd\": \"it would\",\n",
    "                           \"it'd've\": \"it would have\", \"it'll\": \"it will\", \"it'll've\": \"it will have\",\"it's\": \"it is\", \"let's\": \"let us\", \"ma'am\": \"madam\",\n",
    "                           \"mayn't\": \"may not\", \"might've\": \"might have\",\"mightn't\": \"might not\",\"mightn't've\": \"might not have\", \"must've\": \"must have\",\n",
    "                           \"mustn't\": \"must not\", \"mustn't've\": \"must not have\", \"needn't\": \"need not\", \"needn't've\": \"need not have\",\"o'clock\": \"of the clock\",\n",
    "                           \"oughtn't\": \"ought not\", \"oughtn't've\": \"ought not have\", \"shan't\": \"shall not\", \"sha'n't\": \"shall not\", \"shan't've\": \"shall not have\",\n",
    "                           \"she'd\": \"she would\", \"she'd've\": \"she would have\", \"she'll\": \"she will\", \"she'll've\": \"she will have\", \"she's\": \"she is\",\n",
    "                           \"should've\": \"should have\", \"shouldn't\": \"should not\", \"shouldn't've\": \"should not have\", \"so've\": \"so have\",\"so's\": \"so as\",\n",
    "                           \"this's\": \"this is\",\"that'd\": \"that would\", \"that'd've\": \"that would have\", \"that's\": \"that is\", \"there'd\": \"there would\",\n",
    "                           \"there'd've\": \"there would have\", \"there's\": \"there is\", \"here's\": \"here is\",\"they'd\": \"they would\", \"they'd've\": \"they would have\",\n",
    "                           \"they'll\": \"they will\", \"they'll've\": \"they will have\", \"they're\": \"they are\", \"they've\": \"they have\", \"to've\": \"to have\",\n",
    "                           \"wasn't\": \"was not\", \"we'd\": \"we would\", \"we'd've\": \"we would have\", \"we'll\": \"we will\", \"we'll've\": \"we will have\", \"we're\": \"we are\",\n",
    "                           \"we've\": \"we have\", \"weren't\": \"were not\", \"what'll\": \"what will\", \"what'll've\": \"what will have\", \"what're\": \"what are\",\n",
    "                           \"what's\": \"what is\", \"what've\": \"what have\", \"when's\": \"when is\", \"when've\": \"when have\", \"where'd\": \"where did\", \"where's\": \"where is\",\n",
    "                           \"where've\": \"where have\", \"who'll\": \"who will\", \"who'll've\": \"who will have\", \"who's\": \"who is\", \"who've\": \"who have\",\n",
    "                           \"why's\": \"why is\", \"why've\": \"why have\", \"will've\": \"will have\", \"won't\": \"will not\", \"won't've\": \"will not have\",\n",
    "                           \"would've\": \"would have\", \"wouldn't\": \"would not\", \"wouldn't've\": \"would not have\", \"y'all\": \"you all\",\n",
    "                           \"y'all'd\": \"you all would\",\"y'all'd've\": \"you all would have\",\"y'all're\": \"you all are\",\"y'all've\": \"you all have\",\n",
    "                           \"you'd\": \"you would\", \"you'd've\": \"you would have\", \"you'll\": \"you will\", \"you'll've\": \"you will have\",\n",
    "                           \"you're\": \"you are\", \"you've\": \"you have\"}\n",
    "\n",
    "print(\"정규화 사전의 수: \", len(contractions))"
   ]
  },
  {
   "cell_type": "code",
   "execution_count": 33,
   "id": "12dbe577",
   "metadata": {},
   "outputs": [
    {
     "name": "stdout",
     "output_type": "stream",
     "text": [
      "불용어 개수 : 179\n",
      "['i', 'me', 'my', 'myself', 'we', 'our', 'ours', 'ourselves', 'you', \"you're\", \"you've\", \"you'll\", \"you'd\", 'your', 'yours', 'yourself', 'yourselves', 'he', 'him', 'his', 'himself', 'she', \"she's\", 'her', 'hers', 'herself', 'it', \"it's\", 'its', 'itself', 'they', 'them', 'their', 'theirs', 'themselves', 'what', 'which', 'who', 'whom', 'this', 'that', \"that'll\", 'these', 'those', 'am', 'is', 'are', 'was', 'were', 'be', 'been', 'being', 'have', 'has', 'had', 'having', 'do', 'does', 'did', 'doing', 'a', 'an', 'the', 'and', 'but', 'if', 'or', 'because', 'as', 'until', 'while', 'of', 'at', 'by', 'for', 'with', 'about', 'against', 'between', 'into', 'through', 'during', 'before', 'after', 'above', 'below', 'to', 'from', 'up', 'down', 'in', 'out', 'on', 'off', 'over', 'under', 'again', 'further', 'then', 'once', 'here', 'there', 'when', 'where', 'why', 'how', 'all', 'any', 'both', 'each', 'few', 'more', 'most', 'other', 'some', 'such', 'no', 'nor', 'not', 'only', 'own', 'same', 'so', 'than', 'too', 'very', 's', 't', 'can', 'will', 'just', 'don', \"don't\", 'should', \"should've\", 'now', 'd', 'll', 'm', 'o', 're', 've', 'y', 'ain', 'aren', \"aren't\", 'couldn', \"couldn't\", 'didn', \"didn't\", 'doesn', \"doesn't\", 'hadn', \"hadn't\", 'hasn', \"hasn't\", 'haven', \"haven't\", 'isn', \"isn't\", 'ma', 'mightn', \"mightn't\", 'mustn', \"mustn't\", 'needn', \"needn't\", 'shan', \"shan't\", 'shouldn', \"shouldn't\", 'wasn', \"wasn't\", 'weren', \"weren't\", 'won', \"won't\", 'wouldn', \"wouldn't\"]\n"
     ]
    },
    {
     "name": "stderr",
     "output_type": "stream",
     "text": [
      "[nltk_data] Downloading package stopwords to /aiffel/nltk_data...\n",
      "[nltk_data]   Unzipping corpora/stopwords.zip.\n"
     ]
    }
   ],
   "source": [
    "# 불용어\n",
    "import nltk\n",
    "nltk.download('stopwords')\n",
    "from nltk.corpus import stopwords\n",
    "\n",
    "print('불용어 개수 :', len(stopwords.words('english') ))\n",
    "print(stopwords.words('english'))"
   ]
  },
  {
   "cell_type": "code",
   "execution_count": 39,
   "id": "1f450cdc",
   "metadata": {},
   "outputs": [],
   "source": [
    "# 데이터 전처리 함수\n",
    "import re\n",
    "from bs4 import BeautifulSoup \n",
    "\n",
    "def preprocess_sentence(sentence, remove_stopwords=True):\n",
    "    sentence = sentence.lower() # 텍스트 소문자화\n",
    "    sentence = BeautifulSoup(sentence, \"lxml\").text # <br />, <a href = ...> 등의 html 태그 제거\n",
    "    sentence = re.sub(r'\\([^)]*\\)', '', sentence) # 괄호로 닫힌 문자열 (...) 제거 Ex) my husband (and myself!) for => my husband for\n",
    "    sentence = re.sub('\"','', sentence) # 쌍따옴표 \" 제거\n",
    "    sentence = ' '.join([contractions[t] if t in contractions else t for t in sentence.split(\" \")]) # 약어 정규화\n",
    "    sentence = re.sub(r\"'s\\b\",\"\", sentence) # 소유격 제거. Ex) roland's -> roland\n",
    "    sentence = re.sub(\"[^a-zA-Z]\", \" \", sentence) # 영어 외 문자(숫자, 특수문자 등) 공백으로 변환\n",
    "    sentence = re.sub('[m]{2,}', 'mm', sentence) # m이 3개 이상이면 2개로 변경. Ex) ummmmmmm yeah -> umm yeah\n",
    "    \n",
    "    # 불용어 제거 (text)\n",
    "    if remove_stopwords:\n",
    "        tokens = ' '.join(word for word in sentence.split() if not word in stopwords.words('english') if len(word) > 1)\n",
    "    # 불용어 미제거 (headlines)\n",
    "    else:\n",
    "        tokens = ' '.join(word for word in sentence.split() if len(word) > 1)\n",
    "    return tokens"
   ]
  },
  {
   "cell_type": "markdown",
   "id": "f425ea25",
   "metadata": {},
   "source": [
    "데이터 전처리 전 text 길이 확인"
   ]
  },
  {
   "cell_type": "code",
   "execution_count": 51,
   "id": "736749ea",
   "metadata": {},
   "outputs": [
    {
     "name": "stdout",
     "output_type": "stream",
     "text": [
      "텍스트의 최소 길이 : 1\n",
      "텍스트의 최대 길이 : 91\n",
      "텍스트의 평균 길이 : 58.23813542090281\n"
     ]
    },
    {
     "data": {
      "image/png": "[encoded data removed]",
      "text/plain": [
       "<Figure size 432x288 with 1 Axes>"
      ]
     },
     "metadata": {
      "needs_background": "light"
     },
     "output_type": "display_data"
    },
    {
     "data": {
      "image/png": "[encoded data removed]",
      "text/plain": [
       "<Figure size 432x288 with 1 Axes>"
      ]
     },
     "metadata": {
      "needs_background": "light"
     },
     "output_type": "display_data"
    }
   ],
   "source": [
    "import matplotlib.pyplot as plt\n",
    "\n",
    "text_len = [len(s.split()) for s in data['text']]\n",
    "\n",
    "print('텍스트의 최소 길이 : {}'.format(np.min(text_len)))\n",
    "print('텍스트의 최대 길이 : {}'.format(np.max(text_len)))\n",
    "print('텍스트의 평균 길이 : {}'.format(np.mean(text_len)))\n",
    "\n",
    "plt.subplot()\n",
    "plt.boxplot(text_len)\n",
    "plt.title('text')\n",
    "plt.tight_layout()\n",
    "plt.show()\n",
    "\n",
    "plt.title('text')\n",
    "plt.hist(text_len, bins = 40)\n",
    "plt.xlabel('length of samples')\n",
    "plt.ylabel('number of samples')\n",
    "plt.show()"
   ]
  },
  {
   "cell_type": "markdown",
   "id": "061e85c8",
   "metadata": {},
   "source": [
    "문장 최소 길이가 1인 이상치가 있으므로 확인"
   ]
  },
  {
   "cell_type": "code",
   "execution_count": 52,
   "id": "9726ab4b",
   "metadata": {},
   "outputs": [
    {
     "data": {
      "text/html": [
       "<div>\n",
       "<style scoped>\n",
       "    .dataframe tbody tr th:only-of-type {\n",
       "        vertical-align: middle;\n",
       "    }\n",
       "\n",
       "    .dataframe tbody tr th {\n",
       "        vertical-align: top;\n",
       "    }\n",
       "\n",
       "    .dataframe thead th {\n",
       "        text-align: right;\n",
       "    }\n",
       "</style>\n",
       "<table border=\"1\" class=\"dataframe\">\n",
       "  <thead>\n",
       "    <tr style=\"text-align: right;\">\n",
       "      <th></th>\n",
       "      <th>headlines</th>\n",
       "      <th>text</th>\n",
       "    </tr>\n",
       "  </thead>\n",
       "  <tbody>\n",
       "    <tr>\n",
       "      <th>52</th>\n",
       "      <td>headlines</td>\n",
       "      <td>text</td>\n",
       "    </tr>\n",
       "  </tbody>\n",
       "</table>\n",
       "</div>"
      ],
      "text/plain": [
       "    headlines  text\n",
       "52  headlines  text"
      ]
     },
     "metadata": {},
     "output_type": "display_data"
    }
   ],
   "source": [
    "import pandas as pd\n",
    "\n",
    "# 단어 개수가 1개인 이상치 데이터 찾기\n",
    "outliers_text = data[data['text'].str.split().str.len() == 1]\n",
    "\n",
    "# 테이블 형태로 출력\n",
    "from IPython.display import display\n",
    "\n",
    "display(outliers_text)\n"
   ]
  },
  {
   "cell_type": "markdown",
   "id": "d8b8b34f",
   "metadata": {},
   "source": [
    "불필요한 데이터 -> 삭제"
   ]
  },
  {
   "cell_type": "code",
   "execution_count": 57,
   "id": "5cd418bc",
   "metadata": {},
   "outputs": [],
   "source": [
    "data = data.drop(index=52).reset_index(drop=True)"
   ]
  },
  {
   "cell_type": "code",
   "execution_count": 58,
   "id": "d4616007",
   "metadata": {},
   "outputs": [
    {
     "name": "stdout",
     "output_type": "stream",
     "text": [
      "전체 샘플수 : 98359\n"
     ]
    }
   ],
   "source": [
    "print('전체 샘플수 :', (len(data)))"
   ]
  },
  {
   "cell_type": "code",
   "execution_count": 59,
   "id": "119a7f1d",
   "metadata": {},
   "outputs": [
    {
     "name": "stdout",
     "output_type": "stream",
     "text": [
      "text 전처리 후 결과:  ['saurav kant alumnus upgrad iiit pg program machine learning artificial intelligence sr systems engineer infosys almost years work experience program upgrad degree career support helped transition data scientist tech mahindra salary hike upgrad online power learning powered lakh careers', 'kunal shah credit card bill payment platform cred gave users chance win free food swiggy one year pranav kaushik delhi techie bagged reward spending cred coins users get one cred coin per rupee bill paid used avail rewards brands like ixigo bookmyshow ubereats cult fit', 'new zealand defeated india wickets fourth odi hamilton thursday win first match five match odi series india lost international match rohit sharma captaincy consecutive victories dating back march match witnessed india getting seventh lowest total odi cricket history', 'aegon life iterm insurance plan customers enjoy tax benefits premiums paid save taxes plan provides life cover age years also customers options insure critical illnesses disability accidental death benefit rider life cover age years', 'speaking sexual harassment allegations rajkumar hirani sonam kapoor said known hirani many years true metoo movement get derailed metoo movement always believe woman case need reserve judgment added hirani accused assistant worked sanju']\n"
     ]
    }
   ],
   "source": [
    "# 전체 Text 데이터에 대한 전처리 : 10분 이상 시간이 걸릴 수 있습니다. \n",
    "\n",
    "clean_text = []\n",
    "\n",
    "for text in data['text']:\n",
    "    clean_text.append(preprocess_sentence(text, remove_stopwords=True))\n",
    "\n",
    "# 전처리 후 출력\n",
    "print(\"text 전처리 후 결과: \", clean_text[:5])"
   ]
  },
  {
   "cell_type": "code",
   "execution_count": 60,
   "id": "7af0cb0c",
   "metadata": {},
   "outputs": [
    {
     "name": "stdout",
     "output_type": "stream",
     "text": [
      "headlines 전처리 후 결과:  ['upgrad learner switches to career in ml al with salary hike', 'delhi techie wins free food from swiggy for one year on cred', 'new zealand end rohit sharma led india match winning streak', 'aegon life iterm insurance plan helps customers save tax', 'have known hirani for yrs what if metoo claims are not true sonam']\n"
     ]
    }
   ],
   "source": [
    "# 전체 headlines 데이터에 대한 전처리 : 5분 이상 시간이 걸릴 수 있습니다. \n",
    "clean_headlines = []\n",
    "\n",
    "for headline in data['headlines']:\n",
    "    clean_headlines.append(preprocess_sentence(headline, remove_stopwords=False))\n",
    "\n",
    "print(\"headlines 전처리 후 결과: \", clean_headlines[:5])"
   ]
  },
  {
   "cell_type": "markdown",
   "id": "99edd049",
   "metadata": {},
   "source": [
    "데이터 전처리 후 null 확인"
   ]
  },
  {
   "cell_type": "code",
   "execution_count": 61,
   "id": "b207ff2a",
   "metadata": {},
   "outputs": [
    {
     "data": {
      "text/plain": [
       "headlines    0\n",
       "text         0\n",
       "dtype: int64"
      ]
     },
     "execution_count": 61,
     "metadata": {},
     "output_type": "execute_result"
    }
   ],
   "source": [
    "import numpy as np\n",
    "\n",
    "data['text'] = clean_text\n",
    "data['headlines'] = clean_headlines\n",
    "\n",
    "# 빈 값을 Null 값으로 변환\n",
    "data.replace('', np.nan, inplace=True)\n",
    "\n",
    "data.isnull().sum()"
   ]
  },
  {
   "cell_type": "markdown",
   "id": "4b415615",
   "metadata": {},
   "source": [
    "#### train test split"
   ]
  },
  {
   "cell_type": "markdown",
   "id": "5c329a07",
   "metadata": {},
   "source": [
    "샘플 최대 길이 정하기"
   ]
  },
  {
   "cell_type": "code",
   "execution_count": 64,
   "id": "f58d573c",
   "metadata": {},
   "outputs": [
    {
     "name": "stdout",
     "output_type": "stream",
     "text": [
      "텍스트의 최소 길이 : 18\n",
      "텍스트의 최대 길이 : 60\n",
      "텍스트의 평균 길이 : 35.10003151719721\n",
      "요약의 최소 길이 : 3\n",
      "요약의 최대 길이 : 16\n",
      "요약의 평균 길이 : 9.299616710214622\n"
     ]
    },
    {
     "data": {
      "image/png": "[encoded data removed]",
      "text/plain": [
       "<Figure size 432x288 with 2 Axes>"
      ]
     },
     "metadata": {
      "needs_background": "light"
     },
     "output_type": "display_data"
    },
    {
     "data": {
      "image/png": "[encoded data removed]",
      "text/plain": [
       "<Figure size 432x288 with 1 Axes>"
      ]
     },
     "metadata": {
      "needs_background": "light"
     },
     "output_type": "display_data"
    },
    {
     "data": {
      "image/png": "[encoded data removed]",
      "text/plain": [
       "<Figure size 432x288 with 1 Axes>"
      ]
     },
     "metadata": {
      "needs_background": "light"
     },
     "output_type": "display_data"
    }
   ],
   "source": [
    "# 길이 분포 출력\n",
    "import matplotlib.pyplot as plt\n",
    "\n",
    "text_len = [len(s.split()) for s in data['text']]\n",
    "headlines_len = [len(s.split()) for s in data['headlines']]\n",
    "\n",
    "print('텍스트의 최소 길이 : {}'.format(np.min(text_len)))\n",
    "print('텍스트의 최대 길이 : {}'.format(np.max(text_len)))\n",
    "print('텍스트의 평균 길이 : {}'.format(np.mean(text_len)))\n",
    "print('요약의 최소 길이 : {}'.format(np.min(headlines_len)))\n",
    "print('요약의 최대 길이 : {}'.format(np.max(headlines_len)))\n",
    "print('요약의 평균 길이 : {}'.format(np.mean(headlines_len)))\n",
    "\n",
    "plt.subplot(1,2,1)\n",
    "plt.boxplot(text_len)\n",
    "plt.title('text')\n",
    "plt.subplot(1,2,2)\n",
    "plt.boxplot(headlines_len)\n",
    "plt.title('headlines')\n",
    "plt.tight_layout()\n",
    "plt.show()\n",
    "\n",
    "plt.title('text')\n",
    "plt.hist(text_len, bins = 40)\n",
    "plt.xlabel('length of samples')\n",
    "plt.ylabel('number of samples')\n",
    "plt.show()\n",
    "\n",
    "plt.title('headlines')\n",
    "plt.hist(headlines_len, bins = 40)\n",
    "plt.xlabel('length of samples')\n",
    "plt.ylabel('number of samples')\n",
    "plt.show()"
   ]
  },
  {
   "cell_type": "markdown",
   "id": "549ceace",
   "metadata": {},
   "source": [
    "데이터를 보면 text 와 headlines 모두 균일한 길이 분포를 보이고 이상치도 크게 없는 것 같다고 판단하여 max_len의 길이는 실제 최대 길이와 동일한 값으로 지정"
   ]
  },
  {
   "cell_type": "code",
   "execution_count": 65,
   "id": "aace36db",
   "metadata": {},
   "outputs": [],
   "source": [
    "text_max_len = 60\n",
    "headline_max_len = 16"
   ]
  },
  {
   "cell_type": "markdown",
   "id": "146e25f6",
   "metadata": {},
   "source": [
    "#### 헤드라인 (요약) 데이터에 시작 토큰과 종료 토큰 추가"
   ]
  },
  {
   "cell_type": "code",
   "execution_count": 67,
   "id": "742d35c0",
   "metadata": {},
   "outputs": [
    {
     "data": {
      "text/html": [
       "<div>\n",
       "<style scoped>\n",
       "    .dataframe tbody tr th:only-of-type {\n",
       "        vertical-align: middle;\n",
       "    }\n",
       "\n",
       "    .dataframe tbody tr th {\n",
       "        vertical-align: top;\n",
       "    }\n",
       "\n",
       "    .dataframe thead th {\n",
       "        text-align: right;\n",
       "    }\n",
       "</style>\n",
       "<table border=\"1\" class=\"dataframe\">\n",
       "  <thead>\n",
       "    <tr style=\"text-align: right;\">\n",
       "      <th></th>\n",
       "      <th>headlines</th>\n",
       "      <th>text</th>\n",
       "      <th>decoder_input</th>\n",
       "      <th>decoder_target</th>\n",
       "    </tr>\n",
       "  </thead>\n",
       "  <tbody>\n",
       "    <tr>\n",
       "      <th>0</th>\n",
       "      <td>upgrad learner switches to career in ml al with salary hike</td>\n",
       "      <td>saurav kant alumnus upgrad iiit pg program machine learning artificial intelligence sr systems engineer infosys almost years work experience program upgrad degree career support helped transition data scientist tech mahindra salary hike upgrad online power learning powered lakh careers</td>\n",
       "      <td>sostoken upgrad learner switches to career in ml al with salary hike</td>\n",
       "      <td>upgrad learner switches to career in ml al with salary hike eostoken</td>\n",
       "    </tr>\n",
       "    <tr>\n",
       "      <th>1</th>\n",
       "      <td>delhi techie wins free food from swiggy for one year on cred</td>\n",
       "      <td>kunal shah credit card bill payment platform cred gave users chance win free food swiggy one year pranav kaushik delhi techie bagged reward spending cred coins users get one cred coin per rupee bill paid used avail rewards brands like ixigo bookmyshow ubereats cult fit</td>\n",
       "      <td>sostoken delhi techie wins free food from swiggy for one year on cred</td>\n",
       "      <td>delhi techie wins free food from swiggy for one year on cred eostoken</td>\n",
       "    </tr>\n",
       "    <tr>\n",
       "      <th>2</th>\n",
       "      <td>new zealand end rohit sharma led india match winning streak</td>\n",
       "      <td>new zealand defeated india wickets fourth odi hamilton thursday win first match five match odi series india lost international match rohit sharma captaincy consecutive victories dating back march match witnessed india getting seventh lowest total odi cricket history</td>\n",
       "      <td>sostoken new zealand end rohit sharma led india match winning streak</td>\n",
       "      <td>new zealand end rohit sharma led india match winning streak eostoken</td>\n",
       "    </tr>\n",
       "    <tr>\n",
       "      <th>3</th>\n",
       "      <td>aegon life iterm insurance plan helps customers save tax</td>\n",
       "      <td>aegon life iterm insurance plan customers enjoy tax benefits premiums paid save taxes plan provides life cover age years also customers options insure critical illnesses disability accidental death benefit rider life cover age years</td>\n",
       "      <td>sostoken aegon life iterm insurance plan helps customers save tax</td>\n",
       "      <td>aegon life iterm insurance plan helps customers save tax eostoken</td>\n",
       "    </tr>\n",
       "    <tr>\n",
       "      <th>4</th>\n",
       "      <td>have known hirani for yrs what if metoo claims are not true sonam</td>\n",
       "      <td>speaking sexual harassment allegations rajkumar hirani sonam kapoor said known hirani many years true metoo movement get derailed metoo movement always believe woman case need reserve judgment added hirani accused assistant worked sanju</td>\n",
       "      <td>sostoken have known hirani for yrs what if metoo claims are not true sonam</td>\n",
       "      <td>have known hirani for yrs what if metoo claims are not true sonam eostoken</td>\n",
       "    </tr>\n",
       "  </tbody>\n",
       "</table>\n",
       "</div>"
      ],
      "text/plain": [
       "                                                           headlines  \\\n",
       "0        upgrad learner switches to career in ml al with salary hike   \n",
       "1       delhi techie wins free food from swiggy for one year on cred   \n",
       "2        new zealand end rohit sharma led india match winning streak   \n",
       "3           aegon life iterm insurance plan helps customers save tax   \n",
       "4  have known hirani for yrs what if metoo claims are not true sonam   \n",
       "\n",
       "                                                                                                                                                                                                                                                                                             text  \\\n",
       "0  saurav kant alumnus upgrad iiit pg program machine learning artificial intelligence sr systems engineer infosys almost years work experience program upgrad degree career support helped transition data scientist tech mahindra salary hike upgrad online power learning powered lakh careers   \n",
       "1                   kunal shah credit card bill payment platform cred gave users chance win free food swiggy one year pranav kaushik delhi techie bagged reward spending cred coins users get one cred coin per rupee bill paid used avail rewards brands like ixigo bookmyshow ubereats cult fit   \n",
       "2                      new zealand defeated india wickets fourth odi hamilton thursday win first match five match odi series india lost international match rohit sharma captaincy consecutive victories dating back march match witnessed india getting seventh lowest total odi cricket history   \n",
       "3                                                        aegon life iterm insurance plan customers enjoy tax benefits premiums paid save taxes plan provides life cover age years also customers options insure critical illnesses disability accidental death benefit rider life cover age years   \n",
       "4                                                    speaking sexual harassment allegations rajkumar hirani sonam kapoor said known hirani many years true metoo movement get derailed metoo movement always believe woman case need reserve judgment added hirani accused assistant worked sanju   \n",
       "\n",
       "                                                                decoder_input  \\\n",
       "0        sostoken upgrad learner switches to career in ml al with salary hike   \n",
       "1       sostoken delhi techie wins free food from swiggy for one year on cred   \n",
       "2        sostoken new zealand end rohit sharma led india match winning streak   \n",
       "3           sostoken aegon life iterm insurance plan helps customers save tax   \n",
       "4  sostoken have known hirani for yrs what if metoo claims are not true sonam   \n",
       "\n",
       "                                                               decoder_target  \n",
       "0        upgrad learner switches to career in ml al with salary hike eostoken  \n",
       "1       delhi techie wins free food from swiggy for one year on cred eostoken  \n",
       "2        new zealand end rohit sharma led india match winning streak eostoken  \n",
       "3           aegon life iterm insurance plan helps customers save tax eostoken  \n",
       "4  have known hirani for yrs what if metoo claims are not true sonam eostoken  "
      ]
     },
     "execution_count": 67,
     "metadata": {},
     "output_type": "execute_result"
    }
   ],
   "source": [
    "data['decoder_input'] = data['headlines'].apply(lambda x : 'sostoken '+ x)\n",
    "data['decoder_target'] = data['headlines'].apply(lambda x : x + ' eostoken')\n",
    "data.head()"
   ]
  },
  {
   "cell_type": "markdown",
   "id": "1b829d41",
   "metadata": {},
   "source": [
    "인코더의 입력, 디코더의 입력과 레이블을 각각 다시 Numpy 타입으로 저장"
   ]
  },
  {
   "cell_type": "code",
   "execution_count": 69,
   "id": "81210494",
   "metadata": {},
   "outputs": [],
   "source": [
    "encoder_input = np.array(data['text']) # 인코더의 입력\n",
    "decoder_input = np.array(data['decoder_input']) # 디코더의 입력\n",
    "decoder_target = np.array(data['decoder_target']) # 디코더의 레이블"
   ]
  },
  {
   "cell_type": "markdown",
   "id": "cad6e2b4",
   "metadata": {},
   "source": [
    "데이터 순서 섞기"
   ]
  },
  {
   "cell_type": "code",
   "execution_count": 70,
   "id": "9a7e4801",
   "metadata": {},
   "outputs": [
    {
     "name": "stdout",
     "output_type": "stream",
     "text": [
      "[37491 54927  8726 ... 29647 45674 15429]\n"
     ]
    }
   ],
   "source": [
    "# 먼저 encoder_input과 크기와 형태가 같은 순서가 섞인 정수 시퀀스로 만들기\n",
    "\n",
    "indices = np.arange(encoder_input.shape[0])\n",
    "np.random.shuffle(indices)\n",
    "print(indices)"
   ]
  },
  {
   "cell_type": "code",
   "execution_count": 71,
   "id": "5a9f71f6",
   "metadata": {},
   "outputs": [],
   "source": [
    "# 이 정수 시퀀스를 이용해 다시 데이터의 샘플 순서 정의 -> 잘 섞인 샘플\n",
    "\n",
    "encoder_input = encoder_input[indices]\n",
    "decoder_input = decoder_input[indices]\n",
    "decoder_target = decoder_target[indices]"
   ]
  },
  {
   "cell_type": "markdown",
   "id": "25a54e47",
   "metadata": {},
   "source": [
    "훈련 데이터, 테스트 데이터 분리"
   ]
  },
  {
   "cell_type": "code",
   "execution_count": 72,
   "id": "38bc845c",
   "metadata": {},
   "outputs": [
    {
     "name": "stdout",
     "output_type": "stream",
     "text": [
      "테스트 데이터의 수 : 19671\n"
     ]
    }
   ],
   "source": [
    "n_of_val = int(len(encoder_input)*0.2)\n",
    "print('테스트 데이터의 수 :', n_of_val)"
   ]
  },
  {
   "cell_type": "code",
   "execution_count": 73,
   "id": "573de526",
   "metadata": {},
   "outputs": [
    {
     "name": "stdout",
     "output_type": "stream",
     "text": [
      "훈련 데이터의 개수 : 78688\n",
      "훈련 레이블의 개수 : 78688\n",
      "테스트 데이터의 개수 : 19671\n",
      "테스트 레이블의 개수 : 19671\n"
     ]
    }
   ],
   "source": [
    "encoder_input_train = encoder_input[:-n_of_val]\n",
    "decoder_input_train = decoder_input[:-n_of_val]\n",
    "decoder_target_train = decoder_target[:-n_of_val]\n",
    "\n",
    "encoder_input_test = encoder_input[-n_of_val:]\n",
    "decoder_input_test = decoder_input[-n_of_val:]\n",
    "decoder_target_test = decoder_target[-n_of_val:]\n",
    "\n",
    "print('훈련 데이터의 개수 :', len(encoder_input_train))\n",
    "print('훈련 레이블의 개수 :', len(decoder_input_train))\n",
    "print('테스트 데이터의 개수 :', len(encoder_input_test))\n",
    "print('테스트 레이블의 개수 :', len(decoder_input_test))"
   ]
  },
  {
   "cell_type": "markdown",
   "id": "5c1c1858",
   "metadata": {},
   "source": [
    "#### 정수 인코딩"
   ]
  },
  {
   "cell_type": "markdown",
   "id": "4aa14e5c",
   "metadata": {},
   "source": [
    "text 데이터에 대해서 먼저 수행"
   ]
  },
  {
   "cell_type": "code",
   "execution_count": 75,
   "id": "c929aae7",
   "metadata": {},
   "outputs": [],
   "source": [
    "# keras의 토크나이저를 사용해 입력된 훈련 데이터로부터 단어 집합 만듦\n",
    "\n",
    "from tensorflow.keras.preprocessing.text import Tokenizer \n",
    "\n",
    "src_tokenizer = Tokenizer() # 토크나이저 정의\n",
    "src_tokenizer.fit_on_texts(encoder_input_train) # 입력된 데이터로부터 단어 집합 생성"
   ]
  },
  {
   "cell_type": "markdown",
   "id": "9134e95d",
   "metadata": {},
   "source": [
    "tar_tokenizer.word_counts.items() 에 저장된 단어 통계 확인"
   ]
  },
  {
   "cell_type": "code",
   "execution_count": 77,
   "id": "af69008c",
   "metadata": {},
   "outputs": [
    {
     "name": "stdout",
     "output_type": "stream",
     "text": [
      "단어 집합(vocabulary)의 크기 : 69750\n",
      "등장 빈도가 6번 이하인 희귀 단어의 수: 47559\n",
      "단어 집합에서 희귀 단어를 제외시킬 경우의 단어 집합의 크기 22191\n",
      "단어 집합에서 희귀 단어의 비율: 68.18494623655914\n",
      "전체 등장 빈도에서 희귀 단어 등장 빈도 비율: 3.4902966848138006\n"
     ]
    }
   ],
   "source": [
    "threshold = 7\n",
    "total_cnt = len(src_tokenizer.word_index) # 단어의 수\n",
    "rare_cnt = 0 # 등장 빈도수가 threshold보다 작은 단어의 개수를 카운트\n",
    "total_freq = 0 # 훈련 데이터의 전체 단어 빈도수 총 합\n",
    "rare_freq = 0 # 등장 빈도수가 threshold보다 작은 단어의 등장 빈도수의 총 합\n",
    "\n",
    "# 단어와 빈도수의 쌍(pair)을 key와 value로 받는다.\n",
    "for key, value in src_tokenizer.word_counts.items():\n",
    "    total_freq = total_freq + value\n",
    "\n",
    "    # 단어의 등장 빈도수가 threshold보다 작으면\n",
    "    if(value < threshold):\n",
    "        rare_cnt = rare_cnt + 1\n",
    "        rare_freq = rare_freq + value\n",
    "\n",
    "print('단어 집합(vocabulary)의 크기 :', total_cnt)\n",
    "print('등장 빈도가 %s번 이하인 희귀 단어의 수: %s'%(threshold - 1, rare_cnt))\n",
    "print('단어 집합에서 희귀 단어를 제외시킬 경우의 단어 집합의 크기 %s'%(total_cnt - rare_cnt))\n",
    "print(\"단어 집합에서 희귀 단어의 비율:\", (rare_cnt / total_cnt)*100)\n",
    "print(\"전체 등장 빈도에서 희귀 단어 등장 빈도 비율:\", (rare_freq / total_freq)*100)"
   ]
  },
  {
   "cell_type": "markdown",
   "id": "da2922d7",
   "metadata": {},
   "source": [
    "희귀 단어 등장 빈도 비율이 적으므로 무시해도 될 것이라 판단  \n",
    "단어 집합을 22000으로 제한  \n",
    "=> 추후 결과를 보고 단어 집합을 줄여서 실험해보면 좋을 것 같다"
   ]
  },
  {
   "cell_type": "code",
   "execution_count": 78,
   "id": "74a2a505",
   "metadata": {},
   "outputs": [],
   "source": [
    "src_vocab = 22000\n",
    "src_tokenizer = Tokenizer(num_words=src_vocab) # 단어 집합의 크기를 22,000으로 제한\n",
    "src_tokenizer.fit_on_texts(encoder_input_train) # 단어 집합 재생성"
   ]
  },
  {
   "cell_type": "markdown",
   "id": "52f2aaeb",
   "metadata": {},
   "source": [
    "정수 인코딩"
   ]
  },
  {
   "cell_type": "code",
   "execution_count": 79,
   "id": "bb7e3de9",
   "metadata": {},
   "outputs": [
    {
     "name": "stdout",
     "output_type": "stream",
     "text": [
      "[[28, 2, 100, 174, 2347, 1121, 533, 7468, 957, 539, 2347, 56, 122, 558, 372, 1307, 1316, 957, 1893, 205, 1316, 1307, 539, 6008, 2347, 6, 2077, 205, 74, 6008, 410, 1833], [1192, 4969, 373, 770, 1328, 133, 4217, 799, 73, 28, 38, 21, 16, 16016, 8286, 1052, 15, 21, 31, 27, 752, 8421, 65, 770, 345, 77, 828, 6200, 834, 77, 2845, 1052, 5944, 358, 92, 27], [168, 61, 9, 1980, 526, 1044, 1581, 3394, 1879, 1449, 1203, 330, 2140, 19, 4970, 1449, 3802, 1449, 22, 1581, 3394, 2685, 22, 1581, 9691, 1581, 97, 19504, 1865, 22, 6, 10495, 19504]]\n"
     ]
    }
   ],
   "source": [
    "# 텍스트 시퀀스를 정수 시퀀스로 변환\n",
    "encoder_input_train = src_tokenizer.texts_to_sequences(encoder_input_train) \n",
    "encoder_input_test = src_tokenizer.texts_to_sequences(encoder_input_test)\n",
    "\n",
    "# 잘 진행되었는지 샘플 출력\n",
    "print(encoder_input_train[:3])"
   ]
  },
  {
   "cell_type": "markdown",
   "id": "62efd40d",
   "metadata": {},
   "source": [
    "headlines 데이터에 대해서도 동일하게 수행"
   ]
  },
  {
   "cell_type": "code",
   "execution_count": 80,
   "id": "04ba7446",
   "metadata": {},
   "outputs": [],
   "source": [
    "tar_tokenizer = Tokenizer()\n",
    "tar_tokenizer.fit_on_texts(decoder_input_train)"
   ]
  },
  {
   "cell_type": "code",
   "execution_count": 81,
   "id": "6b57efa3",
   "metadata": {},
   "outputs": [
    {
     "name": "stdout",
     "output_type": "stream",
     "text": [
      "단어 집합(vocabulary)의 크기 : 30206\n",
      "등장 빈도가 5번 이하인 희귀 단어의 수: 19767\n",
      "단어 집합에서 희귀 단어를 제외시킬 경우의 단어 집합의 크기 10439\n",
      "단어 집합에서 희귀 단어의 비율: 65.44064093226511\n",
      "전체 등장 빈도에서 희귀 단어 등장 빈도 비율: 4.651389517929403\n"
     ]
    }
   ],
   "source": [
    "threshold = 6\n",
    "total_cnt = len(tar_tokenizer.word_index) # 단어의 수\n",
    "rare_cnt = 0 # 등장 빈도수가 threshold보다 작은 단어의 개수를 카운트\n",
    "total_freq = 0 # 훈련 데이터의 전체 단어 빈도수 총 합\n",
    "rare_freq = 0 # 등장 빈도수가 threshold보다 작은 단어의 등장 빈도수의 총 합\n",
    "\n",
    "# 단어와 빈도수의 쌍(pair)을 key와 value로 받는다.\n",
    "for key, value in tar_tokenizer.word_counts.items():\n",
    "    total_freq = total_freq + value\n",
    "\n",
    "    # 단어의 등장 빈도수가 threshold보다 작으면\n",
    "    if(value < threshold):\n",
    "        rare_cnt = rare_cnt + 1\n",
    "        rare_freq = rare_freq + value\n",
    "\n",
    "print('단어 집합(vocabulary)의 크기 :', total_cnt)\n",
    "print('등장 빈도가 %s번 이하인 희귀 단어의 수: %s'%(threshold - 1, rare_cnt))\n",
    "print('단어 집합에서 희귀 단어를 제외시킬 경우의 단어 집합의 크기 %s'%(total_cnt - rare_cnt))\n",
    "print(\"단어 집합에서 희귀 단어의 비율:\", (rare_cnt / total_cnt)*100)\n",
    "print(\"전체 등장 빈도에서 희귀 단어 등장 빈도 비율:\", (rare_freq / total_freq)*100)"
   ]
  },
  {
   "cell_type": "code",
   "execution_count": 82,
   "id": "5ec7c255",
   "metadata": {},
   "outputs": [
    {
     "name": "stdout",
     "output_type": "stream",
     "text": [
      "input\n",
      "input  [[1, 1419, 1263, 650, 12, 119, 5, 676, 91, 942], [1, 40, 77, 18, 651, 6200, 4, 308, 1859, 6, 1240], [1, 25, 24, 3, 691, 741, 6, 1053, 301, 23, 21, 28, 2794], [1, 20, 1181, 115, 18, 44, 1377, 105, 47, 2843, 48, 7240], [1, 4018, 1054, 3, 2973, 4, 127, 102, 5, 5232, 1264, 183, 66]]\n",
      "target\n",
      "decoder  [[1419, 1263, 650, 12, 119, 5, 676, 91, 942, 2], [40, 77, 18, 651, 6200, 4, 308, 1859, 6, 1240, 2], [25, 24, 3, 691, 741, 6, 1053, 301, 23, 21, 28, 2794, 2], [20, 1181, 115, 18, 44, 1377, 105, 47, 2843, 48, 7240, 2], [4018, 1054, 3, 2973, 4, 127, 102, 5, 5232, 1264, 183, 66, 2]]\n"
     ]
    }
   ],
   "source": [
    "tar_vocab = 10000\n",
    "tar_tokenizer = Tokenizer(num_words=tar_vocab) \n",
    "tar_tokenizer.fit_on_texts(decoder_input_train)\n",
    "tar_tokenizer.fit_on_texts(decoder_target_train)\n",
    "\n",
    "# 텍스트 시퀀스를 정수 시퀀스로 변환\n",
    "decoder_input_train = tar_tokenizer.texts_to_sequences(decoder_input_train) \n",
    "decoder_target_train = tar_tokenizer.texts_to_sequences(decoder_target_train)\n",
    "decoder_input_test = tar_tokenizer.texts_to_sequences(decoder_input_test)\n",
    "decoder_target_test = tar_tokenizer.texts_to_sequences(decoder_target_test)\n",
    "\n",
    "# 잘 변환되었는지 확인\n",
    "print('input')\n",
    "print('input ',decoder_input_train[:5])\n",
    "print('target')\n",
    "print('decoder ',decoder_target_train[:5])"
   ]
  },
  {
   "cell_type": "markdown",
   "id": "c65b6654",
   "metadata": {},
   "source": [
    "#### 패딩"
   ]
  },
  {
   "cell_type": "markdown",
   "id": "b53d24bf",
   "metadata": {},
   "source": [
    "패딩 전, 정수 인코딩 후 빈 샘플이 있는지 확인  \n",
    "이때, sostoken과 eostoken으로 빈 샘플의 길이는 1"
   ]
  },
  {
   "cell_type": "code",
   "execution_count": 83,
   "id": "7accae37",
   "metadata": {},
   "outputs": [
    {
     "name": "stdout",
     "output_type": "stream",
     "text": [
      "삭제할 훈련 데이터의 개수 : 0\n",
      "삭제할 테스트 데이터의 개수 : 0\n",
      "훈련 데이터의 개수 : 78688\n",
      "훈련 레이블의 개수 : 78688\n",
      "테스트 데이터의 개수 : 19671\n",
      "테스트 레이블의 개수 : 19671\n"
     ]
    }
   ],
   "source": [
    "drop_train = [index for index, sentence in enumerate(decoder_input_train) if len(sentence) == 1]\n",
    "drop_test = [index for index, sentence in enumerate(decoder_input_test) if len(sentence) == 1]\n",
    "\n",
    "print('삭제할 훈련 데이터의 개수 :', len(drop_train))\n",
    "print('삭제할 테스트 데이터의 개수 :', len(drop_test))\n",
    "\n",
    "encoder_input_train = [sentence for index, sentence in enumerate(encoder_input_train) if index not in drop_train]\n",
    "decoder_input_train = [sentence for index, sentence in enumerate(decoder_input_train) if index not in drop_train]\n",
    "decoder_target_train = [sentence for index, sentence in enumerate(decoder_target_train) if index not in drop_train]\n",
    "\n",
    "encoder_input_test = [sentence for index, sentence in enumerate(encoder_input_test) if index not in drop_test]\n",
    "decoder_input_test = [sentence for index, sentence in enumerate(decoder_input_test) if index not in drop_test]\n",
    "decoder_target_test = [sentence for index, sentence in enumerate(decoder_target_test) if index not in drop_test]\n",
    "\n",
    "print('훈련 데이터의 개수 :', len(encoder_input_train))\n",
    "print('훈련 레이블의 개수 :', len(decoder_input_train))\n",
    "print('테스트 데이터의 개수 :', len(encoder_input_test))\n",
    "print('테스트 레이블의 개수 :', len(decoder_input_test))"
   ]
  },
  {
   "cell_type": "markdown",
   "id": "f58118a3",
   "metadata": {},
   "source": [
    "샘플들을 병렬 처리하기 위해 같은 길이로 맞춰줌"
   ]
  },
  {
   "cell_type": "code",
   "execution_count": 86,
   "id": "d5da8d90",
   "metadata": {},
   "outputs": [],
   "source": [
    "from tensorflow.keras.preprocessing.sequence import pad_sequences\n",
    "\n",
    "encoder_input_train = pad_sequences(encoder_input_train, maxlen=text_max_len, padding='post')\n",
    "encoder_input_test = pad_sequences(encoder_input_test, maxlen=text_max_len, padding='post')\n",
    "decoder_input_train = pad_sequences(decoder_input_train, maxlen=headline_max_len, padding='post')\n",
    "decoder_target_train = pad_sequences(decoder_target_train, maxlen=headline_max_len, padding='post')\n",
    "decoder_input_test = pad_sequences(decoder_input_test, maxlen=headline_max_len, padding='post')\n",
    "decoder_target_test = pad_sequences(decoder_target_test, maxlen=headline_max_len, padding='post')"
   ]
  },
  {
   "cell_type": "markdown",
   "id": "844217c7",
   "metadata": {},
   "source": [
    "### 3. 어텐션 메커니즘 사용 (추상적 요약)\n",
    "일반적인 seq2seq보다는 어텐션 메커니즘을 사용한 seq2seq를 사용하는 것이 더 나은 성능을 얻을 수 있어요.   \n",
    "실습 내용을 참고하여 어텐션 메커니즘을 사용한 seq2seq를 설계해 보세요."
   ]
  },
  {
   "cell_type": "markdown",
   "id": "c63b1f05",
   "metadata": {},
   "source": [
    "#### 모델 설계하기"
   ]
  },
  {
   "cell_type": "markdown",
   "id": "24a58b64",
   "metadata": {},
   "source": [
    "인코더 설계"
   ]
  },
  {
   "cell_type": "code",
   "execution_count": 88,
   "id": "c6075d7a",
   "metadata": {},
   "outputs": [],
   "source": [
    "from tensorflow.keras.layers import Input, LSTM, Embedding, Dense, Concatenate, TimeDistributed\n",
    "from tensorflow.keras.models import Model\n",
    "from tensorflow.keras.callbacks import EarlyStopping, ModelCheckpoint\n",
    "\n",
    "\n",
    "# 인코더 설계 시작\n",
    "embedding_dim = 128\n",
    "hidden_size = 256\n",
    "\n",
    "# 인코더\n",
    "encoder_inputs = Input(shape=(text_max_len,))\n",
    "\n",
    "# 인코더의 임베딩 층\n",
    "enc_emb = Embedding(src_vocab, embedding_dim)(encoder_inputs)\n",
    "\n",
    "# 인코더의 LSTM 1\n",
    "# encoder_lstm1 = LSTM(hidden_size, return_sequences=True, return_state=True ,dropout = 0.4, recurrent_dropout = 0.4)\n",
    "encoder_lstm1 = LSTM(hidden_size, return_sequences=True, return_state=True ,dropout = 0.4)\n",
    "encoder_output1, state_h1, state_c1 = encoder_lstm1(enc_emb)\n",
    "\n",
    "# 인코더의 LSTM 2\n",
    "encoder_lstm2 = LSTM(hidden_size, return_sequences=True, return_state=True ,dropout = 0.4)\n",
    "encoder_output2, state_h2, state_c2 = encoder_lstm2(enc_emb)\n",
    "\n",
    "# 인코더의 LSTM 3\n",
    "encoder_lstm3 = LSTM(hidden_size, return_sequences=True, return_state=True ,dropout = 0.4)\n",
    "encoder_output3, state_h3, state_c3 = encoder_lstm3(enc_emb)"
   ]
  },
  {
   "cell_type": "markdown",
   "id": "1fcaa678",
   "metadata": {},
   "source": [
    "디코더 설계"
   ]
  },
  {
   "cell_type": "code",
   "execution_count": 89,
   "id": "3125462f",
   "metadata": {},
   "outputs": [],
   "source": [
    "# 디코더 설계\n",
    "decoder_inputs = Input(shape=(None,))\n",
    "\n",
    "# 디코더의 임베딩 층\n",
    "dec_emb_layer = Embedding(tar_vocab, embedding_dim)\n",
    "dec_emb = dec_emb_layer(decoder_inputs)\n",
    "\n",
    "# 디코더의 LSTM\n",
    "# decoder_lstm = LSTM(hidden_size, return_sequences=True, return_state=True, dropout=0.4, recurrent_dropout=0.2)\n",
    "decoder_lstm = LSTM(hidden_size, return_sequences=True, return_state=True, dropout=0.4)\n",
    "decoder_outputs, _, _ = decoder_lstm(dec_emb, initial_state=[state_h3, state_c3])"
   ]
  },
  {
   "cell_type": "markdown",
   "id": "013ae70d",
   "metadata": {},
   "source": [
    "어텐션"
   ]
  },
  {
   "cell_type": "code",
   "execution_count": 90,
   "id": "7d0a0732",
   "metadata": {},
   "outputs": [],
   "source": [
    "from tensorflow.keras.layers import AdditiveAttention\n",
    "\n",
    "# 어텐션 층(어텐션 함수)\n",
    "attn_layer = AdditiveAttention(name='attention_layer')\n",
    "\n",
    "# 인코더와 디코더의 모든 time step의 hidden state를 어텐션 층에 전달하고 결과를 리턴\n",
    "attn_out = attn_layer([decoder_outputs, encoder_output3])\n",
    "\n",
    "\n",
    "# 어텐션의 결과와 디코더의 hidden state들을 연결\n",
    "decoder_concat_input = Concatenate(axis=-1, name='concat_layer')([decoder_outputs, attn_out])"
   ]
  },
  {
   "cell_type": "code",
   "execution_count": 91,
   "id": "35092e53",
   "metadata": {},
   "outputs": [
    {
     "name": "stdout",
     "output_type": "stream",
     "text": [
      "Model: \"model\"\n",
      "__________________________________________________________________________________________________\n",
      "Layer (type)                    Output Shape         Param #     Connected to                     \n",
      "==================================================================================================\n",
      "input_2 (InputLayer)            [(None, 60)]         0                                            \n",
      "__________________________________________________________________________________________________\n",
      "input_3 (InputLayer)            [(None, None)]       0                                            \n",
      "__________________________________________________________________________________________________\n",
      "embedding_1 (Embedding)         (None, 60, 128)      2816000     input_2[0][0]                    \n",
      "__________________________________________________________________________________________________\n",
      "embedding_2 (Embedding)         (None, None, 128)    1280000     input_3[0][0]                    \n",
      "__________________________________________________________________________________________________\n",
      "lstm_5 (LSTM)                   [(None, 60, 256), (N 394240      embedding_1[0][0]                \n",
      "__________________________________________________________________________________________________\n",
      "lstm_6 (LSTM)                   [(None, None, 256),  394240      embedding_2[0][0]                \n",
      "                                                                 lstm_5[0][1]                     \n",
      "                                                                 lstm_5[0][2]                     \n",
      "__________________________________________________________________________________________________\n",
      "attention_layer (AdditiveAttent (None, None, 256)    256         lstm_6[0][0]                     \n",
      "                                                                 lstm_5[0][0]                     \n",
      "__________________________________________________________________________________________________\n",
      "concat_layer (Concatenate)      (None, None, 512)    0           lstm_6[0][0]                     \n",
      "                                                                 attention_layer[0][0]            \n",
      "__________________________________________________________________________________________________\n",
      "dense (Dense)                   (None, None, 10000)  5130000     concat_layer[0][0]               \n",
      "==================================================================================================\n",
      "Total params: 10,014,736\n",
      "Trainable params: 10,014,736\n",
      "Non-trainable params: 0\n",
      "__________________________________________________________________________________________________\n"
     ]
    }
   ],
   "source": [
    "# 디코더의 출력층\n",
    "decoder_softmax_layer = Dense(tar_vocab, activation='softmax')\n",
    "decoder_softmax_outputs = decoder_softmax_layer(decoder_concat_input)\n",
    "\n",
    "# 모델 정의\n",
    "model = Model([encoder_inputs, decoder_inputs], decoder_softmax_outputs)\n",
    "model.summary()"
   ]
  },
  {
   "cell_type": "markdown",
   "id": "92a9a2fb",
   "metadata": {},
   "source": [
    "#### 모델 훈련하기"
   ]
  },
  {
   "cell_type": "code",
   "execution_count": 92,
   "id": "508524ea",
   "metadata": {},
   "outputs": [
    {
     "name": "stdout",
     "output_type": "stream",
     "text": [
      "Epoch 1/50\n",
      "308/308 [==============================] - 58s 93ms/step - loss: 4.3147 - val_loss: 4.0137\n",
      "Epoch 2/50\n",
      "308/308 [==============================] - 29s 94ms/step - loss: 3.8811 - val_loss: 3.6960\n",
      "Epoch 3/50\n",
      "308/308 [==============================] - 30s 97ms/step - loss: 3.5877 - val_loss: 3.4641\n",
      "Epoch 4/50\n",
      "308/308 [==============================] - 30s 97ms/step - loss: 3.3716 - val_loss: 3.3188\n",
      "Epoch 5/50\n",
      "308/308 [==============================] - 30s 97ms/step - loss: 3.2102 - val_loss: 3.2057\n",
      "Epoch 6/50\n",
      "308/308 [==============================] - 30s 99ms/step - loss: 3.0756 - val_loss: 3.1229\n",
      "Epoch 7/50\n",
      "308/308 [==============================] - 30s 98ms/step - loss: 2.9611 - val_loss: 3.0462\n",
      "Epoch 8/50\n",
      "308/308 [==============================] - 31s 100ms/step - loss: 2.8618 - val_loss: 2.9897\n",
      "Epoch 9/50\n",
      "308/308 [==============================] - 31s 100ms/step - loss: 2.7717 - val_loss: 2.9407\n",
      "Epoch 10/50\n",
      "308/308 [==============================] - 31s 100ms/step - loss: 2.6903 - val_loss: 2.8920\n",
      "Epoch 11/50\n",
      "308/308 [==============================] - 31s 100ms/step - loss: 2.6135 - val_loss: 2.8587\n",
      "Epoch 12/50\n",
      "308/308 [==============================] - 31s 100ms/step - loss: 2.5435 - val_loss: 2.8267\n",
      "Epoch 13/50\n",
      "308/308 [==============================] - 31s 100ms/step - loss: 2.4795 - val_loss: 2.7970\n",
      "Epoch 14/50\n",
      "308/308 [==============================] - 31s 100ms/step - loss: 2.4210 - val_loss: 2.7634\n",
      "Epoch 15/50\n",
      "308/308 [==============================] - 31s 100ms/step - loss: 2.3656 - val_loss: 2.7446\n",
      "Epoch 16/50\n",
      "308/308 [==============================] - 31s 100ms/step - loss: 2.3152 - val_loss: 2.7262\n",
      "Epoch 17/50\n",
      "308/308 [==============================] - 31s 100ms/step - loss: 2.2673 - val_loss: 2.7124\n",
      "Epoch 18/50\n",
      "308/308 [==============================] - 31s 100ms/step - loss: 2.2221 - val_loss: 2.7021\n",
      "Epoch 19/50\n",
      "308/308 [==============================] - 31s 100ms/step - loss: 2.1813 - val_loss: 2.6852\n",
      "Epoch 20/50\n",
      "308/308 [==============================] - 31s 101ms/step - loss: 2.1398 - val_loss: 2.6673\n",
      "Epoch 21/50\n",
      "308/308 [==============================] - 31s 100ms/step - loss: 2.1017 - val_loss: 2.6602\n",
      "Epoch 22/50\n",
      "308/308 [==============================] - 31s 100ms/step - loss: 2.0640 - val_loss: 2.6570\n",
      "Epoch 23/50\n",
      "308/308 [==============================] - 31s 100ms/step - loss: 2.0287 - val_loss: 2.6348\n",
      "Epoch 24/50\n",
      "308/308 [==============================] - 31s 100ms/step - loss: 1.9971 - val_loss: 2.6298\n",
      "Epoch 25/50\n",
      "308/308 [==============================] - 31s 100ms/step - loss: 1.9638 - val_loss: 2.6275\n",
      "Epoch 26/50\n",
      "308/308 [==============================] - 31s 100ms/step - loss: 1.9327 - val_loss: 2.6196\n",
      "Epoch 27/50\n",
      "308/308 [==============================] - 31s 100ms/step - loss: 1.9014 - val_loss: 2.6154\n",
      "Epoch 28/50\n",
      "308/308 [==============================] - 31s 100ms/step - loss: 1.8745 - val_loss: 2.6139\n",
      "Epoch 29/50\n",
      "308/308 [==============================] - 31s 100ms/step - loss: 1.8479 - val_loss: 2.6075\n",
      "Epoch 30/50\n",
      "308/308 [==============================] - 31s 100ms/step - loss: 1.8236 - val_loss: 2.6035\n",
      "Epoch 31/50\n",
      "308/308 [==============================] - 31s 100ms/step - loss: 1.7993 - val_loss: 2.5980\n",
      "Epoch 32/50\n",
      "308/308 [==============================] - 31s 100ms/step - loss: 1.7756 - val_loss: 2.5953\n",
      "Epoch 33/50\n",
      "308/308 [==============================] - 31s 100ms/step - loss: 1.7527 - val_loss: 2.5943\n",
      "Epoch 34/50\n",
      "308/308 [==============================] - 31s 100ms/step - loss: 1.7297 - val_loss: 2.5861\n",
      "Epoch 35/50\n",
      "308/308 [==============================] - 31s 100ms/step - loss: 1.7084 - val_loss: 2.5954\n",
      "Epoch 36/50\n",
      "308/308 [==============================] - 31s 100ms/step - loss: 1.6891 - val_loss: 2.5957\n",
      "Epoch 00036: early stopping\n"
     ]
    }
   ],
   "source": [
    "model.compile(optimizer='rmsprop', loss='sparse_categorical_crossentropy')\n",
    "es = EarlyStopping(monitor='val_loss', patience=2, verbose=1)\n",
    "history = model.fit(x=[encoder_input_train, decoder_input_train], y=decoder_target_train, \\\n",
    "          validation_data=([encoder_input_test, decoder_input_test], decoder_target_test), \\\n",
    "          batch_size=256, callbacks=[es], epochs=50)"
   ]
  },
  {
   "cell_type": "code",
   "execution_count": 94,
   "id": "fb1076eb",
   "metadata": {},
   "outputs": [
    {
     "data": {
      "image/png": "[encoded data removed]",
      "text/plain": [
       "<Figure size 432x288 with 1 Axes>"
      ]
     },
     "metadata": {
      "needs_background": "light"
     },
     "output_type": "display_data"
    }
   ],
   "source": [
    "plt.plot(history.history['loss'], label='train')\n",
    "plt.plot(history.history['val_loss'], label='test')\n",
    "plt.legend()\n",
    "plt.show()"
   ]
  },
  {
   "cell_type": "markdown",
   "id": "411cf92c",
   "metadata": {},
   "source": [
    "#### 인퍼런스 모델 구현"
   ]
  },
  {
   "cell_type": "code",
   "execution_count": 95,
   "id": "4ba5ab22",
   "metadata": {},
   "outputs": [],
   "source": [
    "src_index_to_word = src_tokenizer.index_word # 원문 단어 집합에서 정수 -> 단어를 얻음\n",
    "tar_word_to_index = tar_tokenizer.word_index # 요약 단어 집합에서 단어 -> 정수를 얻음\n",
    "tar_index_to_word = tar_tokenizer.index_word # 요약 단어 집합에서 정수 -> 단어를 얻음"
   ]
  },
  {
   "cell_type": "code",
   "execution_count": 96,
   "id": "61e4b86b",
   "metadata": {},
   "outputs": [],
   "source": [
    "# 인코더 설계\n",
    "encoder_model = Model(inputs=encoder_inputs, outputs=[encoder_output3, state_h3, state_c3])\n",
    "\n",
    "# 이전 시점의 상태들을 저장하는 텐서\n",
    "decoder_state_input_h = Input(shape=(hidden_size,))\n",
    "decoder_state_input_c = Input(shape=(hidden_size,))\n",
    "\n",
    "dec_emb2 = dec_emb_layer(decoder_inputs)\n",
    "\n",
    "# 문장의 다음 단어를 예측하기 위해서 초기 상태(initial_state)를 이전 시점의 상태로 사용. 이는 뒤의 함수 decode_sequence()에 구현\n",
    "# 훈련 과정에서와 달리 LSTM의 리턴하는 은닉 상태와 셀 상태인 state_h와 state_c를 버리지 않음.\n",
    "decoder_outputs2, state_h2, state_c2 = decoder_lstm(dec_emb2, initial_state=[decoder_state_input_h, decoder_state_input_c])"
   ]
  },
  {
   "cell_type": "code",
   "execution_count": 97,
   "id": "14fe8e00",
   "metadata": {},
   "outputs": [],
   "source": [
    "# 어텐션 함수\n",
    "decoder_hidden_state_input = Input(shape=(text_max_len, hidden_size))\n",
    "attn_out_inf = attn_layer([decoder_outputs2, decoder_hidden_state_input])\n",
    "decoder_inf_concat = Concatenate(axis=-1, name='concat')([decoder_outputs2, attn_out_inf])\n",
    "\n",
    "# 디코더의 출력층\n",
    "decoder_outputs2 = decoder_softmax_layer(decoder_inf_concat) \n",
    "\n",
    "# 최종 디코더 모델\n",
    "decoder_model = Model(\n",
    "    [decoder_inputs] + [decoder_hidden_state_input,decoder_state_input_h, decoder_state_input_c],\n",
    "    [decoder_outputs2] + [state_h2, state_c2])"
   ]
  },
  {
   "cell_type": "markdown",
   "id": "e2eea135",
   "metadata": {},
   "source": [
    "인퍼런스 단계에서 단어 시퀀스를 완성하는 함수"
   ]
  },
  {
   "cell_type": "code",
   "execution_count": 101,
   "id": "60d15d41",
   "metadata": {},
   "outputs": [],
   "source": [
    "def decode_sequence(input_seq):\n",
    "    # 입력으로부터 인코더의 상태를 얻음\n",
    "    e_out, e_h, e_c = encoder_model.predict(input_seq)\n",
    "\n",
    "     # <SOS>에 해당하는 토큰 생성\n",
    "    target_seq = np.zeros((1,1))\n",
    "    target_seq[0, 0] = tar_word_to_index['sostoken']\n",
    "\n",
    "    stop_condition = False\n",
    "    decoded_sentence = ''\n",
    "    while not stop_condition: # stop_condition이 True가 될 때까지 루프 반복\n",
    "\n",
    "        output_tokens, h, c = decoder_model.predict([target_seq] + [e_out, e_h, e_c])\n",
    "        sampled_token_index = np.argmax(output_tokens[0, -1, :])\n",
    "        sampled_token = tar_index_to_word[sampled_token_index]\n",
    "\n",
    "        if (sampled_token!='eostoken'):\n",
    "            decoded_sentence += ' '+sampled_token\n",
    "\n",
    "        #  <eos>에 도달하거나 최대 길이를 넘으면 중단.\n",
    "        if (sampled_token == 'eostoken'  or len(decoded_sentence.split()) >= (headline_max_len-1)):\n",
    "            stop_condition = True\n",
    "\n",
    "        # 길이가 1인 타겟 시퀀스를 업데이트\n",
    "        target_seq = np.zeros((1,1))\n",
    "        target_seq[0, 0] = sampled_token_index\n",
    "\n",
    "        # 상태를 업데이트 합니다.\n",
    "        e_h, e_c = h, c\n",
    "\n",
    "    return decoded_sentence"
   ]
  },
  {
   "cell_type": "markdown",
   "id": "451a1192",
   "metadata": {},
   "source": [
    "### 4. 실제 결과와 요약문 비교 (추상적 요약)\n",
    "원래의 요약문(headlines 열)과 학습을 통해 얻은 추상적 요약의 결과를 비교해 보세요."
   ]
  },
  {
   "cell_type": "markdown",
   "id": "d8b25c30",
   "metadata": {},
   "source": [
    "#### 모델 테스트"
   ]
  },
  {
   "cell_type": "code",
   "execution_count": 102,
   "id": "a637107c",
   "metadata": {},
   "outputs": [],
   "source": [
    "# 원문의 정수 시퀀스를 텍스트 시퀀스로 변환\n",
    "def seq2text(input_seq):\n",
    "    temp=''\n",
    "    for i in input_seq:\n",
    "        if (i!=0):\n",
    "            temp = temp + src_index_to_word[i]+' '\n",
    "    return temp\n",
    "\n",
    "# 요약문의 정수 시퀀스를 텍스트 시퀀스로 변환\n",
    "def seq2summary(input_seq):\n",
    "    temp=''\n",
    "    for i in input_seq:\n",
    "        if (i != 0 and i != tar_word_to_index['sostoken'] and i != tar_word_to_index['eostoken']):\n",
    "            temp = temp + tar_index_to_word[i]+' '\n",
    "    return temp"
   ]
  },
  {
   "cell_type": "code",
   "execution_count": 103,
   "id": "83bcdc90",
   "metadata": {},
   "outputs": [
    {
     "name": "stdout",
     "output_type": "stream",
     "text": [
      "원문 : madhya pradesh congress removed three toilets party headquarters part attempt remove premises party power state years feels bring good luck improve chances winning state assembly elections due year \n",
      "실제 요약 : mp congress removes from party headquarters \n",
      "예측 요약 :  mp cong mp booked for mp mayor on its name\n",
      "\n",
      "\n",
      "원문 : bjp president amit shah tuesday said late pm rajiv gandhi signed assam accord similar national register citizens adding courage implement statement came debate rajya sabha wherein opposition leaders criticised government exclusion lakh people nrc final draft \n",
      "실제 요약 : rajiv govt had no courage for something like assam nrc shah \n",
      "예측 요약 :  amit shah calls for amit shah\n",
      "\n",
      "\n",
      "원문 : following australian cricket team win first india australia coach justin langer said australian team enough getting enough getting beaten enough getting loved brave boys coach said team \n",
      "실제 요약 : we have had enough of getting up australian coach \n",
      "예측 요약 :  aus coach not to aus coach aus coach\n",
      "\n",
      "\n",
      "원문 : year old man surrendered himachal pradesh police admitting made hoax bomb call mandi bus terminal last week blue whale challenge police officer said adding man mobile seized scanned cop informed earlier tried commit suicide overspeeding bike \n",
      "실제 요약 : man admits to making hoax bomb call for blue whale game \n",
      "예측 요약 :  man who killed in bomb bus bomb case gets bail\n",
      "\n",
      "\n",
      "원문 : steve smith reached career high rating points latest icc test rankings batsmen fifth highest rating points recorded test cricket year history smith rating points fifth best ever bradman jack ricky ponting notably highest rating player receive \n",
      "실제 요약 : smith fifth highest batting rating in test cricket \n",
      "예측 요약 :  what are the highest test rating points in india history\n",
      "\n",
      "\n",
      "원문 : least five maoists killed one suffered injuries encounter security forces jharkhand west district tuesday commando battalion action jharkhand police launched special operation target naxals area police said security personnel involved operation reported injured far \n",
      "실제 요약 : maoists killed other injured in encounter in jharkhand \n",
      "예측 요약 :  killed injured in encounter in jharkhand\n",
      "\n",
      "\n",
      "원문 : north korea begun dismantling missile engine test site satellite launching station reports citing satellite imagery claimed analysis images monitoring group north revealed north korea also began dismantling site used assemble space launch vehicles north korean leader kim jong un pledged denuclearise korean peninsula singapore summit \n",
      "실제 요약 : korea begins missile test facilities report \n",
      "예측 요약 :  north korea launches launch missile launch report\n",
      "\n",
      "\n",
      "원문 : kitchen gadget company accused sexism posting ad pink appliances aimed women ad featured words women alongside pink products part limited edition range raise money breast cancer charity however stated colour used symbol hope \n",
      "실제 요약 : firm accused of sexism for its pink kitchen ad \n",
      "예측 요약 :  women ad slammed for ad showing women to be ad\n",
      "\n",
      "\n",
      "원문 : abhishek bachchan rani mukerji starring opposite sequel film aur per reports plot sequel finalised shoot tentatively start november reports added sequel reportedly produced yash raj films director yet decided \n",
      "실제 요약 : abhishek rani to star in aur sequel reports \n",
      "예측 요약 :  abhishek to star in sequel reports\n",
      "\n",
      "\n",
      "원문 : patidar anamat andolan samiti convener hardik patel accorded category security cover centre following directions intelligence agencies contingent armed central industrial security force commandos take charge patidar leader police officials said around eight commandos whenever travels gujarat added \n",
      "실제 요약 : patidar leader hardik patel with plus security \n",
      "예측 요약 :  gujarat police to get security cover for security\n",
      "\n",
      "\n",
      "원문 : posting picture actress sonam kapoor american stock photo platform agency referred deepika padukone photo showed sonam arriving film stories cannes earlier deepika mistaken priyanka chopra foreign media said racist ignorant \n",
      "실제 요약 : foreign media mistakes sonam kapoor for deepika padukone \n",
      "예측 요약 :  sonam kapoor shares pic of her deepika padukone\n",
      "\n",
      "\n",
      "원문 : members accumulated free flights travel world destination choice earned across programme partners multiple categories travel financial services hospitality commerce fuel name matter passion way reward \n",
      "실제 요약 : your and travel to the destination of your choice \n",
      "예측 요약 :  travel to travel travel for the flights\n",
      "\n",
      "\n",
      "원문 : oneplus announced host pop events november post launch flagship smartphone oneplus buyers experience device pop events held mumbai delhi bangalore chennai kolkata pune hyderabad ahmedabad jaipur early attendees receive oneplus like phone covers never settle shirts bags \n",
      "실제 요약 : oneplus pop up events to be held in cities in india on nov \n",
      "예측 요약 :  oneplus launches its first edition of the year\n",
      "\n",
      "\n",
      "원문 : ten year old golfer singh first five events indian golf union west zone remaining undefeated zonal level four seasons singh every tournament played since foray golf age six singh winning streak extended days longest junior golf history india \n",
      "실제 요약 : yr old indian golfer has an unbeaten streak of days \n",
      "예측 요약 :  yr old golfer becomes india youngest boxing champion\n",
      "\n",
      "\n",
      "원문 : iran banned teaching english primary schools country supreme leader ayatollah ali khamenei said early learning language could pave way western cultural invasion khamenei earlier blamed iran enemies including us britain creating unrest country wake anti government protests \n",
      "실제 요약 : iran bans english in schools cultural invasion \n",
      "예측 요약 :  iran bans use of iran to make its language\n",
      "\n",
      "\n",
      "원문 : video showing bjp mp manoj tiwari scolding female teacher asking sing function gone viral social media video shows singer turned politician asking teacher leave stage also direct organisers take action leader launch cctv project worth crore \n",
      "실제 요약 : manoj tiwari scolds woman teacher for asking him to sing \n",
      "예측 요약 :  video shows mp kissing man with video goes viral\n",
      "\n",
      "\n",
      "원문 : police tuesday registered fir nagpur based man posting offensive tweet ncp mp supriya sule allegedly asked sule call girl twitter handle paid tribute former pm indira gandhi th birth anniversary offensive message hurt feelings ncp workers legislator said \n",
      "실제 요약 : maharashtra man booked for offensive tweet against ncp mp \n",
      "예측 요약 :  man booked for posting tweet on twitter account\n",
      "\n",
      "\n",
      "원문 : praising ex girlfriend ankita lokhande look upcoming film manikarnika queen jhansi sushant singh rajput commented picture looks absolutely great ankita extremely happy see may god bless lots success happiness sushant wrote ankita replied thank sushant wish \n",
      "실제 요약 : sushant praises ex girlfriend ankita manikarnika look \n",
      "예측 요약 :  ankita lokhande look from manikarnika surfaces online\n",
      "\n",
      "\n",
      "원문 : reacting actress raveena tandon tweet called hindutva icon sanghi bhakt communal wearing saree user tweeted actually sari symbol indians beautiful keep narrow minded politics another user wrote indira gandhi wore saree termed communal bhakt \n",
      "실제 요약 : twitter users react to raveena hindutva icon sari remark \n",
      "예측 요약 :  raveena trolled for selling sari on twitter\n",
      "\n",
      "\n",
      "원문 : chinese smartphone maker xiaomi revealed lost billion first three months prepares biggest initial public offering since company also said revenue quarter came billion xiaomi expected raise billion valuation billion according reports \n",
      "실제 요약 : xiaomi posts billion loss in first quarter ahead of ipo \n",
      "예측 요약 :  xiaomi ipo lost billion in days\n",
      "\n",
      "\n",
      "원문 : israel plans name train station near western wall jerusalem us president donald trump israeli transportation minister katz said wednesday katz said decided honour us president following decision recognise jerusalem israel capital called trump decision brave historic \n",
      "실제 요약 : israel plans to name western wall train station after trump \n",
      "예측 요약 :  israel embassy calls trump jerusalem move\n",
      "\n",
      "\n",
      "원문 : china foreign ministry said select next dalai lama highest monk tibetan buddhism traditional way drawing lots sacred urn also dismissed current dalai lama china cannot choose successor result draw followed mandatory approval china ruling communist party \n",
      "실제 요약 : china says it will choose next dalai lama by draw of \n",
      "예측 요약 :  china to be part of dalai lama\n",
      "\n",
      "\n",
      "원문 : indian captain virat kohli seen bowling third day india australia tour game sydney cricket ground kohli right arm medium pace bowler bowled two overs year old whose deliveries seen swinging conditions went wicket less gave away six runs two overs \n",
      "실제 요약 : kohli bowls in india cricket australia xi tour match at \n",
      "예측 요약 :  kohli only one one of the match in australia\n",
      "\n",
      "\n",
      "원문 : player celebrated club league title win riding team changing room stadium defender brought following win de da number painted number portuguese league titles \n",
      "실제 요약 : player in changing room after title win \n",
      "예측 요약 :  player runs on his head of his match as he is not\n",
      "\n",
      "\n",
      "원문 : janata dal general secretary shyam monday said pm narendra modi grant special status bihar promised visits state tuesday comes amid andhra pradesh protest demanding special category status last month jd chief bihar cm nitish kumar said given special status demand even one second \n",
      "실제 요약 : pm should grant special status to bihar as promised jd \n",
      "예측 요약 :  pm modi to attend national status for andhra pradesh\n",
      "\n",
      "\n",
      "원문 : railways planning coaches trains network run route irrespective time taken complete journey railway minister piyush goyal said currently number coaches train based demand making difficult substitute one train another \n",
      "실제 요약 : railways plans to have coaches in all trains \n",
      "예측 요약 :  railways to train all trains to trains\n",
      "\n",
      "\n",
      "원문 : fight broke supporters tamil nadu deputy cm panneerselvam aiadmk deputy general secretary ttv dhinakaran madurai airport clash took place dhinakaran supporters started raising slogans panneerselvam entering airport reportedly many people injured police resort lathicharge stop fight \n",
      "실제 요약 : dhinakaran supporters clash at madurai airport \n",
      "예측 요약 :  aiadmk deputy cm dhinakaran resigns from aiadmk\n",
      "\n",
      "\n",
      "원문 : shah rukh khan said miss late filmmaker kundan shah like misses mother passed away srk added came mumbai stayed kundan house fed family called kundan demise one greatest losses life \n",
      "실제 요약 : will miss shah just like miss my mother says srk \n",
      "예측 요약 :  srk is like he he is like srk on his mother srk\n",
      "\n",
      "\n",
      "원문 : shiv sena announced contesting lok sabha elections alone maharashtra cm devendra fadnavis tuesday said bjp led coalition government sena complete full term refusing comment sena announcement said let us wait saying many things bjp leader also expressed confidence securing another term \n",
      "실제 요약 : will complete full term maha cm after sena vows to end ties \n",
      "예측 요약 :  will support bjp in lok sabha polls shiv sena\n",
      "\n",
      "\n",
      "원문 : rbi appointed former governor bimal jalan chairman economic capital framework committee formed address issue rbi reserves committee submit report within period days date first meeting six member panel also includes rbi deputy governor economic affairs secretary sc garg \n",
      "실제 요약 : ex governor to lead rbi panel on excess reserves \n",
      "예측 요약 :  rbi governor urjit patel appointed rbi governor\n",
      "\n",
      "\n",
      "원문 : pakistan defence minister khan said india wasted opportunity normalise ties political consensus existed within pakistan improving relations pakistan media reported hostile anti pakistan stance current indian government drastically reduced space advocacy peace khan added \n",
      "실제 요약 : india wasted chance to make peace with us pakistan govt \n",
      "예측 요약 :  india pak ties with pak of terrorism ties imran khan\n",
      "\n",
      "\n",
      "원문 : chinese smartphone maker oneplus first time entered top five premium android original equipment manufacturers globally years since company inception according counterpoint research market monitor oneplus one fastest growing brands price segment driven strong sales india china uk \n",
      "실제 요약 : oneplus enters top premium android globally in report \n",
      "예측 요약 :  oneplus enters world first smartphone smartphone\n",
      "\n",
      "\n",
      "원문 : wishing former australian spinner shane warne th birthday cricketer turned commentator virender sehwag tweeted batsmen always wished ur hands like bowling least warned happy birthday legend along tweet sehwag posted picture warne whose right hand seen \n",
      "실제 요약 : sehwag mocks shane warne broken arm on his birthday \n",
      "예측 요약 :  sehwag reacts to wish ms dhoni for his birthday\n",
      "\n",
      "\n",
      "원문 : man drove car onto pitch stalled delhi uttar pradesh ranji trophy match user tweeted chacha hai tweets read uncle ji ki nahi looks like looking directions zara sector new hai \n",
      "실제 요약 : hai tweets user as car halts match \n",
      "예측 요약 :  man tweets user on twitter user for kissing pm modi\n",
      "\n",
      "\n",
      "원문 : twitter users reacted pm narendra modi israeli pm benjamin netanyahu pictures haifa beach et bae look way netanyahu look modi beach read one tweet allowed go swim mum lets put feet water another user tweeted \n",
      "실제 요약 : when your school principal asks nails tweets user \n",
      "예측 요약 :  pm modi tweets on trump tweets\n",
      "\n",
      "\n",
      "원문 : actress diana penty said human nature forget people limelight adding never bothered diana said life prefer choosing path think done acted films cocktail happy bhag jayegi \n",
      "실제 요약 : people not in is human nature diana \n",
      "예측 요약 :  never thought about being called by an actor\n",
      "\n",
      "\n",
      "원문 : nepalese cricketer rohit kumar aged years days become fourth youngest debutant men odi cricket middle order batsman achieved feat featuring second odi netherlands friday rohit scored six runs balls match pakistan hasan raza youngest ever debutant \n",
      "실제 요약 : year old nepalese becomes th youngest to play an odi \n",
      "예측 요약 :  rohit becomes youngest batsman to take runs in odis\n",
      "\n",
      "\n",
      "원문 : air china co pilot caused flight oxygen levels drop shutting air conditioning systems order conceal cigarette smoke incident resulted deployment passenger oxygen masks forced pilots decrease altitude plane feet however none passengers aboard plane injured \n",
      "실제 요약 : flight oxygen levels drop as pilot shuts ac to hide \n",
      "예측 요약 :  air india flight to be shut down after death\n",
      "\n",
      "\n",
      "원문 : philippines parliament monday passed law singing national anthem shall mandatory must done violators law could face one year prison fines proposed bill also mandates anthem falls beats per minute among things \n",
      "실제 요약 : philippines may jail people for not singing national anthem \n",
      "예측 요약 :  law to make law on public for over years\n",
      "\n",
      "\n",
      "원문 : digital payments startup paytm raised billion softbank india largest funding round also softbank biggest investment indian startup ecosystem till date latest investment softbank value paytm around billion valuation billion august \n",
      "실제 요약 : paytm raises billion from softbank in largest funding \n",
      "예측 요약 :  paytm mall in talks to raise bn led by softbank\n",
      "\n",
      "\n",
      "원문 : liquor firm united spirits ceo anand took home crore salary increase previous year ratio compensation median remuneration employees stood united spirits said total increase managerial remuneration excluding performance based pay \n",
      "실제 요약 : united spirits ceo took salary of crore last year \n",
      "예측 요약 :  ceo of salary salary to crore\n",
      "\n",
      "\n",
      "원문 : vendors chinese commerce platform selling face masks prevent misuse iphone face id feature masks marketed protective gear people think somebody unlock iphone asleep mask styles cover eyes others cover whole face except mouth \n",
      "실제 요약 : vendors sell face masks to prevent iphone face id misuse \n",
      "예측 요약 :  users face id to face id in face id\n",
      "\n",
      "\n",
      "원문 : bjp sunday appointed senior leader rajnath singh lead party member sankalp patra committee lok sabha polls finance minister arun jaitley appointed lead publicity wing bjp president amit shah formed different groups leaders preparation upcoming elections \n",
      "실제 요약 : rajnath to lead bjp manifesto committee for lok sabha polls \n",
      "예측 요약 :  bjp to contest as india from polls in\n",
      "\n",
      "\n",
      "원문 : personal data documents hundreds german politicians including chancellor angela merkel published online german government confirmed breach adding unclear deliberate hack internal leak data reportedly published via deleted twitter account since december affecting major parties apart far right political party \n",
      "실제 요약 : angela merkel other german politicians data leaked online \n",
      "예측 요약 :  uk activists get personal card to activists\n",
      "\n",
      "\n",
      "원문 : dd year old opener prithvi shaw got run mi sunday trying get back crease glenn maxwell hit mustafizur rahman delivery towards backward point hardik pandya picked ball attempted direct hit non striker end shaw walked towards crease caught outside ball hit stumps \n",
      "실제 요약 : shaw gets run out after not trying to get back in the \n",
      "예측 요약 :  rohit sharma hits six run off run run by bat\n",
      "\n",
      "\n",
      "원문 : uk court said liquor baron vijay mallya accused defrauding indian banks around crore called fugitive justice mallya lawyers contended non resident indian since court said mallya travelled frequently india london regarded non resident taxpayer uk \n",
      "실제 요약 : can call vijay mallya fugitive from justice uk court \n",
      "예측 요약 :  mallya extradition is bad loans of mallya extradition\n",
      "\n",
      "\n",
      "원문 : year old man arrested allegedly raping three year old girl near hyderabad thursday girl playing front house man neighbour took isolated place raped police official said case registered man pocso act \n",
      "실제 요약 : yr old man rapes yr old girl in hyderabad arrested \n",
      "예측 요약 :  year old girl raped by year old girl in up\n",
      "\n",
      "\n",
      "원문 : us aviation authorities ordered solve appeals judge called case incredible shrinking airline seat seats getting smaller smaller american passengers growing size judge said court ruled favour non profit group flyers rights argued shrinking seat size created safety hazards \n",
      "실제 요약 : us ordered to solve incredible airline seat case \n",
      "예측 요약 :  us judge blocks us travel of passenger drivers\n",
      "\n",
      "\n",
      "원문 : rapper raftaar accused copying korean band lead singer rap monster track video film manto fans accused raftaar stealing visuals track responding accusations raftaar tweeted personally acknowledge resemblance video really feel bad please target music \n",
      "실제 요약 : accused of copying korean song in manto music video \n",
      "예측 요약 :  video shows actor song featuring song from oscars\n",
      "\n",
      "\n",
      "원문 : maharashtra lok reportedly settled lakh cases involving crore hearings held months cases either pre litigation stage pending maharashtra courts legal powers settle civil property matrimonial criminal disputes settled cases involving crore first hearing february \n",
      "실제 요약 : maharashtra lok settle lakh cases in hearings \n",
      "예측 요약 :  maha court pending cases against pending cases in maha\n",
      "\n",
      "\n"
     ]
    }
   ],
   "source": [
    "for i in range(50, 100):\n",
    "    print(\"원문 :\", seq2text(encoder_input_test[i]))\n",
    "    print(\"실제 요약 :\", seq2summary(decoder_input_test[i]))\n",
    "    print(\"예측 요약 :\", decode_sequence(encoder_input_test[i].reshape(1, text_max_len)))\n",
    "    print(\"\\n\")"
   ]
  },
  {
   "cell_type": "markdown",
   "id": "5684374c",
   "metadata": {},
   "source": [
    "### 5. Summa을 이용한 추출적 요약"
   ]
  },
  {
   "cell_type": "code",
   "execution_count": null,
   "id": "478685ac",
   "metadata": {},
   "outputs": [],
   "source": [
    "from summa.summarizer import summarize\n",
    "\n",
    "for i in range(20):\n",
    "    print(\"실제 요약 : \", data['headlines'][i])\n",
    "    print(\"추출 요약 : \", summarize(data['text'][i], ratio=0.5))\n",
    "    print(\"\\n\")"
   ]
  },
  {
   "cell_type": "code",
   "execution_count": null,
   "id": "533e0570",
   "metadata": {},
   "outputs": [],
   "source": []
  }
 ],
 "metadata": {
  "kernelspec": {
   "display_name": "Python 3 (ipykernel)",
   "language": "python",
   "name": "python3"
  },
  "language_info": {
   "codemirror_mode": {
    "name": "ipython",
    "version": 3
   },
   "file_extension": ".py",
   "mimetype": "text/x-python",
   "name": "python",
   "nbconvert_exporter": "python",
   "pygments_lexer": "ipython3",
   "version": "3.9.7"
  }
 },
 "nbformat": 4,
 "nbformat_minor": 5
}
