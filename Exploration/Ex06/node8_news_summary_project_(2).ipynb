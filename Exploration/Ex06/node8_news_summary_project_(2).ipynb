{
 "cells": [
  {
   "cell_type": "markdown",
   "id": "fb2d2f93",
   "metadata": {},
   "source": [
    "## 프로젝트 수행 중 노트북 파일에서 코드 실행이 안 되는 현상이 지속되어 부득이 하게 나머지 부분은 새로운 노트북 파일에서 작성함을 알립니다."
   ]
  },
  {
   "cell_type": "markdown",
   "id": "45678fa7",
   "metadata": {},
   "source": [
    "### 5. Summa을 이용한 추출적 요약"
   ]
  },
  {
   "cell_type": "code",
   "execution_count": 3,
   "id": "ab4501e2",
   "metadata": {},
   "outputs": [],
   "source": [
    "import pandas as pd\n",
    "import urllib.request\n",
    "urllib.request.urlretrieve(\"https://raw.githubusercontent.com/sunnysai12345/News_Summary/master/news_summary_more.csv\", filename=\"news_summary_more.csv\")\n",
    "data = pd.read_csv('news_summary_more.csv', encoding='iso-8859-1')"
   ]
  },
  {
   "cell_type": "code",
   "execution_count": 4,
   "id": "ab5b0a5f",
   "metadata": {},
   "outputs": [
    {
     "name": "stdout",
     "output_type": "stream",
     "text": [
      "실제 요약 :  upGrad learner switches to career in ML & Al with 90% salary hike\n",
      "추출 요약 :  upGrad's Online Power Learning has powered 3 lakh+ careers.\n",
      "\n",
      "\n",
      "실제 요약 :  Delhi techie wins free food from Swiggy for one year on CRED\n",
      "추출 요약 :  Users get one CRED coin per rupee of bill paid, which can be used to avail rewards from brands like Ixigo, BookMyShow, UberEats, Cult.Fit and more.\n",
      "\n",
      "\n",
      "실제 요약 :  New Zealand end Rohit Sharma-led India's 12-match winning streak\n",
      "추출 요약 :  The match witnessed India getting all out for 92, their seventh lowest total in ODI cricket history.\n",
      "\n",
      "\n",
      "실제 요약 :  Aegon life iTerm insurance plan helps customers save tax\n",
      "추출 요약 :  Also, customers have options to insure against Critical Illnesses, Disability and Accidental Death Benefit Rider with a life cover up to the age of 80 years.\n",
      "\n",
      "\n",
      "실제 요약 :  Have known Hirani for yrs, what if MeToo claims are not true: Sonam\n",
      "추출 요약 :  Speaking about the sexual harassment allegations against Rajkumar Hirani, Sonam Kapoor said, \"I've known Hirani for many years...What if it's not true, the [#MeToo] movement will get derailed.\" \"In the #MeToo movement, I always believe a woman.\n",
      "\n",
      "\n",
      "실제 요약 :  Rahat Fateh Ali Khan denies getting notice for smuggling currency\n",
      "추출 요약 :  Pakistani singer Rahat Fateh Ali Khan has denied receiving any notice from the Enforcement Directorate over allegedly smuggling foreign currency out of India.\n",
      "\n",
      "\n",
      "실제 요약 :  India get all out for 92, their lowest ODI total in New Zealand\n",
      "추출 요약 :  India's previous lowest ODI total in New Zealand was 108.\n",
      "\n",
      "\n",
      "실제 요약 :  Govt directs Alok Verma to join work 1 day before his retirement\n",
      "추출 요약 :  Weeks after ex-CBI Director Alok Verma told the Department of Personnel and Training to consider him retired, the Home Ministry asked him to join work on the last day of his fixed tenure as Director on Thursday.\n",
      "\n",
      "\n",
      "실제 요약 :  Called PM Modi 'sir' 10 times to satisfy his ego: Andhra CM\n",
      "추출 요약 :  Andhra Pradesh CM N Chandrababu Naidu has said, \"When I met then US President Bill Clinton, I addressed him as Mr Clinton, not as 'sir'.\n",
      "\n",
      "\n",
      "실제 요약 :  Cong wins Ramgarh bypoll in Rajasthan, takes total to 100 seats\n",
      "추출 요약 :  Congress candidate Shafia Zubair won the Ramgarh Assembly seat in Rajasthan, by defeating BJP's Sukhwant Singh with a margin of 12,228 votes in the bypoll.\n",
      "\n",
      "\n",
      "실제 요약 :  UP cousins fed human excreta for friendship with boys\n",
      "추출 요약 :  Two minor cousins in Uttar Pradesh's Gorakhpur were allegedly repeatedly burnt with tongs and forced to eat human excreta by their family for being friends with two boys from the same school.\n",
      "\n",
      "\n",
      "실제 요약 :  81-yr-old woman conducts physical training in J'khand schools\n",
      "추출 요약 :  Isha Ghosh, an 81-year-old member of Bharat Scouts and Guides (BSG), has been imparting physical and mental training to schoolchildren in Jharkhand for several decades.\n",
      "\n",
      "\n",
      "실제 요약 :  Ram, Krishna didn't smoke, why should we: Ramdev to sadhus at Kumbh\n",
      "추출 요약 :  Urging saints and seers at the Kumbh Mela to quit smoking, Yoga guru Ramdev said, \"We follow Ram and Krishna who never smoked in their life then why should we?\" Making them take a pledge to quit tobacco, he collected chillum (clay pipe) from several sadhus.\n",
      "\n",
      "\n",
      "실제 요약 :  Pharma exec gave doctor a lap dance to sell medicine in US: Witness\n",
      "추출 요약 :  Former stripper and regional sales director of a pharmaceutical company, Sunrise Lee, gave a doctor a lap dance in a nightclub to persuade him to prescribe an addictive fentanyl spray in 2012, the company's sales representative told a US court.\n",
      "\n",
      "\n",
      "실제 요약 :   I only cried at my 'bidaai' as I felt peer pressure: Isha Ambani\n",
      "추출 요약 :  \"It was a very emotional affair for everyone in my family,\" said Isha.\n",
      "\n",
      "\n",
      "실제 요약 :  Louis Vuitton owner to stockpile 4 months of wine, spirits in UK\n",
      "추출 요약 :  Louis Vuitton owner LVMH, which makes high-end beverages like MoÃÂ«t & Chandon champagne and Hennessy cognac, said it's stockpiling four months' worth of wine and spirits in UK in preparation for Brexit.\n",
      "\n",
      "\n",
      "실제 요약 :  Karan Johar, Tabu turn showstoppers on opening night of LFW\n",
      "추출 요약 :  Filmmaker Karan Johar and actress Tabu turned showstoppers for Gaurav Gupta on the opening night of LakmÃÂ© Fashion Week Summer/ Resort 2019.\n",
      "\n",
      "\n",
      "실제 요약 :  Those on bail will go to jail: PM Modi takes jibe at Rahul\n",
      "추출 요약 :  \n",
      "\n",
      "\n",
      "실제 요약 :  How long can I tolerate Congress leaders' potshots: K'taka CM\n",
      "추출 요약 :  \n",
      "\n",
      "\n",
      "실제 요약 :  Odisha CM Patnaik controls mining mafia: Union Minister\n",
      "추출 요약 :  Union Minister Dharmendra Pradhan on Wednesday claimed the illegal mining mafia in Odisha operates under the control of CM Naveen Patnaik and state Congress chief Niranjan Patnaik.\n",
      "\n",
      "\n"
     ]
    }
   ],
   "source": [
    "from summa.summarizer import summarize\n",
    "\n",
    "for i in range(20):\n",
    "    print(\"실제 요약 : \", data['headlines'][i])\n",
    "    print(\"추출 요약 : \", summarize(data['text'][i], ratio=0.5))\n",
    "    print(\"\\n\")"
   ]
  },
  {
   "cell_type": "markdown",
   "id": "82f913a1",
   "metadata": {},
   "source": [
    "### 회고\n",
    "\n",
    "원래는 추상적 요약 결과와 추출적 요약 결과의 Rouge score도 추출하고 language_tool_python 을 이용해 문법 오류도 비교하고 싶었는데 정확한 원인은 모르겠으나 (1)번 노트북에서 Rouge score 추출 코드를 돌리면서 더이상 해당 노트북에서 코딩을 진행할 수 없는 상태가 되었기에 수치적 분석을 수행하지 못 한 점이 아쉽다.\n",
    "\n",
    "추출한 요약 결과들을 보면 1대1 매칭이 되는 결과가 아니라서 비교는 어렵지만 대략 내용을 보면 추출 요약은 추출이 아예 안 된 경우도 존재하고, 이상한 문자를 거르지 않고 추출한 경우도 있음을 볼 수 있다. 또한 실제 요약의 2배 내지 3배 길이의 결과를 보이기도 한다.\n",
    "\n",
    "물론 이 부분은 조절 가능한 부분이긴 하지만 다소 아쉬운 부분들이 보인다.\n",
    "\n",
    "그렇다고 추상적 요약 결과가 아주 잘 나왔다고 할 수도 없을 것 같다.\n",
    "실제 요약과 완전히 동일하지는 않더라도 의미적으로 유사하게 잘 요약한 것도 있는 반면 완전히 이상한 결과를 내는 경우도 있다.\n",
    "\n",
    "현재 둘을 정량적으로 비교하기 어렵다는 것이 아쉽긴 하지만 단순히 육안으로 봤을 때도 추상 요약 결과가 실제 요약과 더 잘 부합하는 것을 볼 수 있다. \n",
    "\n",
    "그런데 전처리를 통과한 원문과 실제 요약도 보이게 이상한 부분이 있는 것 같아 전처리가 제대로 됐는지 다시 검토가 필요해 보인다.\n",
    "\n",
    "또한 단어 집합 크기에 따라서도 성능에 영향이 있을 것 같은데 추후 실험을 더 해보면 좋을 것 같다.\n",
    "\n",
    "사실 이번에 같이 수행하고 싶었는데 갑자기 노트북이 멈추는 바람에 못 하게 되어 아쉬움이 남는다 ..\n",
    "\n",
    "그래도 데이터 전처리를 수행하고, 문득 불용어가 제거되기 전 text data의 전체적인 길이를 확인해봐야겠다는 생각이 들어 다시 돌아가 확인해봤는데 길이가 1인 text가 발견되어 식겁했던 기억이 있다.\n",
    "\n",
    "뉴스 기사 데이터의 길이가 1이라니, 상상도 못했는데 발견한 게 다행이라는 생각으로 다시 데이터 전처리를 돌렸다.\n",
    "\n",
    "이 경험을 바탕으로 앞으로도 데이터를 잘 확인하는 습관을 가져야겠다는 생각을 했다.\n",
    "\n",
    "좋은 경험이 되었다."
   ]
  }
 ],
 "metadata": {
  "kernelspec": {
   "display_name": "Python 3 (ipykernel)",
   "language": "python",
   "name": "python3"
  },
  "language_info": {
   "codemirror_mode": {
    "name": "ipython",
    "version": 3
   },
   "file_extension": ".py",
   "mimetype": "text/x-python",
   "name": "python",
   "nbconvert_exporter": "python",
   "pygments_lexer": "ipython3",
   "version": "3.9.7"
  }
 },
 "nbformat": 4,
 "nbformat_minor": 5
}
